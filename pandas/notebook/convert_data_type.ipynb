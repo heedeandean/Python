{
  "nbformat": 4,
  "nbformat_minor": 0,
  "metadata": {
    "kernelspec": {
      "display_name": "Python 3",
      "language": "python",
      "name": "python3"
    },
    "language_info": {
      "codemirror_mode": {
        "name": "ipython",
        "version": 3
      },
      "file_extension": ".py",
      "mimetype": "text/x-python",
      "name": "python",
      "nbconvert_exporter": "python",
      "pygments_lexer": "ipython3",
      "version": "3.6.5"
    },
    "colab": {
      "name": "08_practice.ipynb",
      "provenance": [],
      "collapsed_sections": []
    }
  },
  "cells": [
    {
      "cell_type": "code",
      "metadata": {
        "colab": {
          "base_uri": "https://localhost:8080/"
        },
        "id": "k6h4V2EC7XKd",
        "outputId": "9e9e35ea-d569-4e3a-d5d0-bd5e3ff99c9e"
      },
      "source": [
        "import pandas as pd\n",
        "import seaborn as sns\n",
        "\n",
        "tips = sns.load_dataset('tips')\n",
        "\n",
        "# [자료형 변환] category -> object(문자열)\n",
        "tips['sex_str'] = tips['sex'].astype(str) \n",
        "\n",
        "print(tips.dtypes) "
      ],
      "execution_count": 12,
      "outputs": [
        {
          "output_type": "stream",
          "text": [
            "total_bill     float64\n",
            "tip            float64\n",
            "sex           category\n",
            "smoker        category\n",
            "day           category\n",
            "time          category\n",
            "size             int64\n",
            "sex_str         object\n",
            "dtype: object\n"
          ],
          "name": "stdout"
        }
      ]
    },
    {
      "cell_type": "code",
      "metadata": {
        "colab": {
          "base_uri": "https://localhost:8080/"
        },
        "id": "1HAt2gThCzdz",
        "outputId": "7e88fc21-86b8-4607-acd1-1fd30eb980b1"
      },
      "source": [
        "print(tips.info())"
      ],
      "execution_count": 13,
      "outputs": [
        {
          "output_type": "stream",
          "text": [
            "<class 'pandas.core.frame.DataFrame'>\n",
            "RangeIndex: 244 entries, 0 to 243\n",
            "Data columns (total 8 columns):\n",
            " #   Column      Non-Null Count  Dtype   \n",
            "---  ------      --------------  -----   \n",
            " 0   total_bill  244 non-null    float64 \n",
            " 1   tip         244 non-null    float64 \n",
            " 2   sex         244 non-null    category\n",
            " 3   smoker      244 non-null    category\n",
            " 4   day         244 non-null    category\n",
            " 5   time        244 non-null    category\n",
            " 6   size        244 non-null    int64   \n",
            " 7   sex_str     244 non-null    object  \n",
            "dtypes: category(4), float64(2), int64(1), object(1)\n",
            "memory usage: 9.2+ KB\n",
            "None\n"
          ],
          "name": "stdout"
        }
      ]
    },
    {
      "cell_type": "code",
      "metadata": {
        "colab": {
          "base_uri": "https://localhost:8080/"
        },
        "id": "EEkDKYO8C-k8",
        "outputId": "bf7cc0f8-9259-4d9f-886e-8c2a26de153c"
      },
      "source": [
        "tips['sex_str'] = tips['sex'].astype('category') # object(문자열) -> category \n",
        "\n",
        "print(tips.info()) # memory usage 가 줄어들었다. 즉, 문자열보다 ⭐️category 자료형이 용량, 속도 면에서 더 효율적이다."
      ],
      "execution_count": 14,
      "outputs": [
        {
          "output_type": "stream",
          "text": [
            "<class 'pandas.core.frame.DataFrame'>\n",
            "RangeIndex: 244 entries, 0 to 243\n",
            "Data columns (total 8 columns):\n",
            " #   Column      Non-Null Count  Dtype   \n",
            "---  ------      --------------  -----   \n",
            " 0   total_bill  244 non-null    float64 \n",
            " 1   tip         244 non-null    float64 \n",
            " 2   sex         244 non-null    category\n",
            " 3   smoker      244 non-null    category\n",
            " 4   day         244 non-null    category\n",
            " 5   time        244 non-null    category\n",
            " 6   size        244 non-null    int64   \n",
            " 7   sex_str     244 non-null    category\n",
            "dtypes: category(5), float64(2), int64(1)\n",
            "memory usage: 7.6 KB\n",
            "None\n"
          ],
          "name": "stdout"
        }
      ]
    },
    {
      "cell_type": "markdown",
      "metadata": {
        "id": "mkKg3W2c7GNW"
      },
      "source": [
        "# 잘못 입력한 문자열 처리하기"
      ]
    },
    {
      "cell_type": "code",
      "metadata": {
        "colab": {
          "base_uri": "https://localhost:8080/"
        },
        "id": "-CwDCGjX7GNW",
        "outputId": "dfd3d97e-effc-4ef5-f658-c33564490ff2"
      },
      "source": [
        "tips_sub_miss = tips.head(10)\n",
        "tips_sub_miss.loc[[1, 3, 5, 7], 'total_bill'] = 'missing'\n",
        "\n",
        "print(tips_sub_miss)"
      ],
      "execution_count": 15,
      "outputs": [
        {
          "output_type": "stream",
          "text": [
            "  total_bill   tip     sex smoker  day    time  size sex_str\n",
            "0      16.99  1.01  Female     No  Sun  Dinner     2  Female\n",
            "1    missing  1.66    Male     No  Sun  Dinner     3    Male\n",
            "2      21.01  3.50    Male     No  Sun  Dinner     3    Male\n",
            "3    missing  3.31    Male     No  Sun  Dinner     2    Male\n",
            "4      24.59  3.61  Female     No  Sun  Dinner     4  Female\n",
            "5    missing  4.71    Male     No  Sun  Dinner     4    Male\n",
            "6       8.77  2.00    Male     No  Sun  Dinner     2    Male\n",
            "7    missing  3.12    Male     No  Sun  Dinner     4    Male\n",
            "8      15.04  1.96    Male     No  Sun  Dinner     2    Male\n",
            "9      14.78  3.23    Male     No  Sun  Dinner     2    Male\n"
          ],
          "name": "stdout"
        },
        {
          "output_type": "stream",
          "text": [
            "/usr/local/lib/python3.7/dist-packages/pandas/core/indexing.py:1763: SettingWithCopyWarning: \n",
            "A value is trying to be set on a copy of a slice from a DataFrame.\n",
            "Try using .loc[row_indexer,col_indexer] = value instead\n",
            "\n",
            "See the caveats in the documentation: https://pandas.pydata.org/pandas-docs/stable/user_guide/indexing.html#returning-a-view-versus-a-copy\n",
            "  isetter(loc, value)\n"
          ],
          "name": "stderr"
        }
      ]
    },
    {
      "cell_type": "code",
      "metadata": {
        "colab": {
          "base_uri": "https://localhost:8080/"
        },
        "id": "HVtZGBwB-NX1",
        "outputId": "6de9c0c4-322d-4319-855a-abac438de8cc"
      },
      "source": [
        "print(tips_sub_miss.dtypes)"
      ],
      "execution_count": 16,
      "outputs": [
        {
          "output_type": "stream",
          "text": [
            "total_bill      object\n",
            "tip            float64\n",
            "sex           category\n",
            "smoker        category\n",
            "day           category\n",
            "time          category\n",
            "size             int64\n",
            "sex_str       category\n",
            "dtype: object\n"
          ],
          "name": "stdout"
        }
      ]
    },
    {
      "cell_type": "code",
      "metadata": {
        "colab": {
          "base_uri": "https://localhost:8080/"
        },
        "id": "8aHPgsmt-nHs",
        "outputId": "7a181a59-08a7-471b-cf81-3c7748959c02"
      },
      "source": [
        "# 1.\n",
        "tips_sub_miss['total_bill'] = pd.to_numeric(tips_sub_miss['total_bill'], \n",
        "                                            errors='ignore') # 하나마나 그대로ㅋ\n",
        "print(tips_sub_miss.dtypes)"
      ],
      "execution_count": 17,
      "outputs": [
        {
          "output_type": "stream",
          "text": [
            "total_bill      object\n",
            "tip            float64\n",
            "sex           category\n",
            "smoker        category\n",
            "day           category\n",
            "time          category\n",
            "size             int64\n",
            "sex_str       category\n",
            "dtype: object\n"
          ],
          "name": "stdout"
        },
        {
          "output_type": "stream",
          "text": [
            "/usr/local/lib/python3.7/dist-packages/ipykernel_launcher.py:3: SettingWithCopyWarning: \n",
            "A value is trying to be set on a copy of a slice from a DataFrame.\n",
            "Try using .loc[row_indexer,col_indexer] = value instead\n",
            "\n",
            "See the caveats in the documentation: https://pandas.pydata.org/pandas-docs/stable/user_guide/indexing.html#returning-a-view-versus-a-copy\n",
            "  This is separate from the ipykernel package so we can avoid doing imports until\n"
          ],
          "name": "stderr"
        }
      ]
    },
    {
      "cell_type": "code",
      "metadata": {
        "colab": {
          "base_uri": "https://localhost:8080/"
        },
        "id": "moSijjCo_9RV",
        "outputId": "e056c807-1ea3-4930-956a-1498f2ea85ee"
      },
      "source": [
        "# 2.\n",
        "tips_sub_miss['total_bill'] = pd.to_numeric(tips_sub_miss['total_bill'], \n",
        "                                            errors='coerce') # 문자열 -> nan\n",
        "print(tips_sub_miss.dtypes)"
      ],
      "execution_count": 18,
      "outputs": [
        {
          "output_type": "stream",
          "text": [
            "total_bill     float64\n",
            "tip            float64\n",
            "sex           category\n",
            "smoker        category\n",
            "day           category\n",
            "time          category\n",
            "size             int64\n",
            "sex_str       category\n",
            "dtype: object\n"
          ],
          "name": "stdout"
        },
        {
          "output_type": "stream",
          "text": [
            "/usr/local/lib/python3.7/dist-packages/ipykernel_launcher.py:3: SettingWithCopyWarning: \n",
            "A value is trying to be set on a copy of a slice from a DataFrame.\n",
            "Try using .loc[row_indexer,col_indexer] = value instead\n",
            "\n",
            "See the caveats in the documentation: https://pandas.pydata.org/pandas-docs/stable/user_guide/indexing.html#returning-a-view-versus-a-copy\n",
            "  This is separate from the ipykernel package so we can avoid doing imports until\n"
          ],
          "name": "stderr"
        }
      ]
    },
    {
      "cell_type": "code",
      "metadata": {
        "colab": {
          "base_uri": "https://localhost:8080/"
        },
        "id": "P3UX4LQOA5w3",
        "outputId": "eeeecfcc-dbdd-4cc2-9846-579e05129965"
      },
      "source": [
        "print(tips_sub_miss)"
      ],
      "execution_count": 19,
      "outputs": [
        {
          "output_type": "stream",
          "text": [
            "   total_bill   tip     sex smoker  day    time  size sex_str\n",
            "0       16.99  1.01  Female     No  Sun  Dinner     2  Female\n",
            "1         NaN  1.66    Male     No  Sun  Dinner     3    Male\n",
            "2       21.01  3.50    Male     No  Sun  Dinner     3    Male\n",
            "3         NaN  3.31    Male     No  Sun  Dinner     2    Male\n",
            "4       24.59  3.61  Female     No  Sun  Dinner     4  Female\n",
            "5         NaN  4.71    Male     No  Sun  Dinner     4    Male\n",
            "6        8.77  2.00    Male     No  Sun  Dinner     2    Male\n",
            "7         NaN  3.12    Male     No  Sun  Dinner     4    Male\n",
            "8       15.04  1.96    Male     No  Sun  Dinner     2    Male\n",
            "9       14.78  3.23    Male     No  Sun  Dinner     2    Male\n"
          ],
          "name": "stdout"
        }
      ]
    },
    {
      "cell_type": "code",
      "metadata": {
        "colab": {
          "base_uri": "https://localhost:8080/"
        },
        "id": "liMa_ip3BBEp",
        "outputId": "f805caf1-3b3f-417b-ee91-00288db3fcf1"
      },
      "source": [
        "tips_sub_miss['total_bill'] = pd.to_numeric(tips_sub_miss['total_bill'], \n",
        "                                            errors='coerce', downcast='float') \n",
        "print(tips_sub_miss.dtypes)"
      ],
      "execution_count": 20,
      "outputs": [
        {
          "output_type": "stream",
          "text": [
            "total_bill     float32\n",
            "tip            float64\n",
            "sex           category\n",
            "smoker        category\n",
            "day           category\n",
            "time          category\n",
            "size             int64\n",
            "sex_str       category\n",
            "dtype: object\n"
          ],
          "name": "stdout"
        },
        {
          "output_type": "stream",
          "text": [
            "/usr/local/lib/python3.7/dist-packages/ipykernel_launcher.py:2: SettingWithCopyWarning: \n",
            "A value is trying to be set on a copy of a slice from a DataFrame.\n",
            "Try using .loc[row_indexer,col_indexer] = value instead\n",
            "\n",
            "See the caveats in the documentation: https://pandas.pydata.org/pandas-docs/stable/user_guide/indexing.html#returning-a-view-versus-a-copy\n",
            "  \n"
          ],
          "name": "stderr"
        }
      ]
    }
  ]
}