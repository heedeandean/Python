{
  "nbformat": 4,
  "nbformat_minor": 0,
  "metadata": {
    "kernelspec": {
      "display_name": "Python 3",
      "language": "python",
      "name": "python3"
    },
    "language_info": {
      "codemirror_mode": {
        "name": "ipython",
        "version": 3
      },
      "file_extension": ".py",
      "mimetype": "text/x-python",
      "name": "python",
      "nbconvert_exporter": "python",
      "pygments_lexer": "ipython3",
      "version": "3.6.5"
    },
    "colab": {
      "name": "09_practice.ipynb",
      "provenance": [],
      "collapsed_sections": []
    }
  },
  "cells": [
    {
      "cell_type": "markdown",
      "metadata": {
        "id": "OWSqQujQiB1M"
      },
      "source": [
        "# 문자열 추출"
      ]
    },
    {
      "cell_type": "code",
      "metadata": {
        "colab": {
          "base_uri": "https://localhost:8080/"
        },
        "id": "OpaxotWliB1N",
        "outputId": "c8844b65-00e7-4727-a3be-dc725ba0b475"
      },
      "source": [
        "word = 'heedean'\n",
        "\n",
        "# 인덱스 슬라이싱\n",
        "print(word[0:3])\n",
        "print(word[ :3])"
      ],
      "execution_count": 209,
      "outputs": [
        {
          "output_type": "stream",
          "text": [
            "hee\n",
            "hee\n"
          ],
          "name": "stdout"
        }
      ]
    },
    {
      "cell_type": "code",
      "metadata": {
        "colab": {
          "base_uri": "https://localhost:8080/"
        },
        "id": "vT2M66nVjpZ1",
        "outputId": "8e8eaa99-e695-4971-ca1d-1b0d8fe6f798"
      },
      "source": [
        "print(word[-1]) # 마지막 문자 추출"
      ],
      "execution_count": 210,
      "outputs": [
        {
          "output_type": "stream",
          "text": [
            "n\n"
          ],
          "name": "stdout"
        }
      ]
    },
    {
      "cell_type": "code",
      "metadata": {
        "colab": {
          "base_uri": "https://localhost:8080/"
        },
        "id": "cK7TGj_2kCoS",
        "outputId": "a20c3f11-6464-4a13-ab0e-6d2e445b45b9"
      },
      "source": [
        "# 전체 문자열 추출\n",
        "print(word[0:len(word)]) \n",
        "print(word[ : ])"
      ],
      "execution_count": 211,
      "outputs": [
        {
          "output_type": "stream",
          "text": [
            "heedean\n",
            "heedean\n"
          ],
          "name": "stdout"
        }
      ]
    },
    {
      "cell_type": "code",
      "metadata": {
        "colab": {
          "base_uri": "https://localhost:8080/"
        },
        "id": "isJPQP76lrfJ",
        "outputId": "47ae2122-aef5-44ce-f57c-e79dfa407acb"
      },
      "source": [
        "print(word[::2]) # 추출 간격 지정"
      ],
      "execution_count": 212,
      "outputs": [
        {
          "output_type": "stream",
          "text": [
            "heen\n"
          ],
          "name": "stdout"
        }
      ]
    },
    {
      "cell_type": "markdown",
      "metadata": {
        "id": "47Aw32vgq6L3"
      },
      "source": [
        "# 문자열 메서드 "
      ]
    },
    {
      "cell_type": "code",
      "metadata": {
        "colab": {
          "base_uri": "https://localhost:8080/",
          "height": 35
        },
        "id": "F_U70lkLmISc",
        "outputId": "a67a4494-6c6f-4726-dcc1-30a91d15b2f6"
      },
      "source": [
        "'heedean'.capitalize() # 대문자로 시작"
      ],
      "execution_count": 213,
      "outputs": [
        {
          "output_type": "execute_result",
          "data": {
            "application/vnd.google.colaboratory.intrinsic+json": {
              "type": "string"
            },
            "text/plain": [
              "'Heedean'"
            ]
          },
          "metadata": {
            "tags": []
          },
          "execution_count": 213
        }
      ]
    },
    {
      "cell_type": "code",
      "metadata": {
        "colab": {
          "base_uri": "https://localhost:8080/"
        },
        "id": "DkKqCUtXmFSF",
        "outputId": "f3a2acfe-cdca-4ee2-992a-004a59da0f65"
      },
      "source": [
        "'heedean'.count('e') "
      ],
      "execution_count": 214,
      "outputs": [
        {
          "output_type": "execute_result",
          "data": {
            "text/plain": [
              "3"
            ]
          },
          "metadata": {
            "tags": []
          },
          "execution_count": 214
        }
      ]
    },
    {
      "cell_type": "code",
      "metadata": {
        "colab": {
          "base_uri": "https://localhost:8080/"
        },
        "id": "6naZJiydtwnp",
        "outputId": "597e99b9-4d4a-4602-f1e7-5f30f117e28b"
      },
      "source": [
        "'heedean'.startswith('hee')"
      ],
      "execution_count": 215,
      "outputs": [
        {
          "output_type": "execute_result",
          "data": {
            "text/plain": [
              "True"
            ]
          },
          "metadata": {
            "tags": []
          },
          "execution_count": 215
        }
      ]
    },
    {
      "cell_type": "code",
      "metadata": {
        "colab": {
          "base_uri": "https://localhost:8080/"
        },
        "id": "Zjs8MgOutv4r",
        "outputId": "459bcf6e-1eff-4e07-8106-b0c32cd3ee99"
      },
      "source": [
        "'heedean'.endswith('dean')"
      ],
      "execution_count": 216,
      "outputs": [
        {
          "output_type": "execute_result",
          "data": {
            "text/plain": [
              "True"
            ]
          },
          "metadata": {
            "tags": []
          },
          "execution_count": 216
        }
      ]
    },
    {
      "cell_type": "code",
      "metadata": {
        "colab": {
          "base_uri": "https://localhost:8080/"
        },
        "id": "WszadplCk1Qn",
        "outputId": "e6aacdc2-edb3-43e0-c41d-c7dca851aef2"
      },
      "source": [
        "'heedean'.find('a') # 실패시 -1 반환"
      ],
      "execution_count": 217,
      "outputs": [
        {
          "output_type": "execute_result",
          "data": {
            "text/plain": [
              "5"
            ]
          },
          "metadata": {
            "tags": []
          },
          "execution_count": 217
        }
      ]
    },
    {
      "cell_type": "code",
      "metadata": {
        "colab": {
          "base_uri": "https://localhost:8080/"
        },
        "id": "UwNdH0-FurP_",
        "outputId": "1228a559-df12-4f0b-8e5e-e55d324db70a"
      },
      "source": [
        "'heedean'.index('a') # 실패시 ValueError 반환"
      ],
      "execution_count": 218,
      "outputs": [
        {
          "output_type": "execute_result",
          "data": {
            "text/plain": [
              "5"
            ]
          },
          "metadata": {
            "tags": []
          },
          "execution_count": 218
        }
      ]
    },
    {
      "cell_type": "code",
      "metadata": {
        "colab": {
          "base_uri": "https://localhost:8080/"
        },
        "id": "YSQ20vFdiB1O",
        "outputId": "cc1a59c1-0be7-4828-eeac-f8a03563b680"
      },
      "source": [
        "'hee dean'.isalpha() # 모든 문자가 알파벳(공백X)"
      ],
      "execution_count": 219,
      "outputs": [
        {
          "output_type": "execute_result",
          "data": {
            "text/plain": [
              "False"
            ]
          },
          "metadata": {
            "tags": []
          },
          "execution_count": 219
        }
      ]
    },
    {
      "cell_type": "code",
      "metadata": {
        "colab": {
          "base_uri": "https://localhost:8080/"
        },
        "id": "QpEekVx1vH9T",
        "outputId": "a7257f91-2c85-450f-edf2-7bba341eafe0"
      },
      "source": [
        "'11'.isdecimal() # 모든 문자가 숫자"
      ],
      "execution_count": 220,
      "outputs": [
        {
          "output_type": "execute_result",
          "data": {
            "text/plain": [
              "True"
            ]
          },
          "metadata": {
            "tags": []
          },
          "execution_count": 220
        }
      ]
    },
    {
      "cell_type": "code",
      "metadata": {
        "colab": {
          "base_uri": "https://localhost:8080/"
        },
        "id": "tC_wsZ54vG2V",
        "outputId": "88dc464c-b2e0-4515-8c4b-1adcccc63b89"
      },
      "source": [
        "'hee20'.isalnum() # 모든 문자가 알파벳 | 숫자"
      ],
      "execution_count": 221,
      "outputs": [
        {
          "output_type": "execute_result",
          "data": {
            "text/plain": [
              "True"
            ]
          },
          "metadata": {
            "tags": []
          },
          "execution_count": 221
        }
      ]
    },
    {
      "cell_type": "code",
      "metadata": {
        "colab": {
          "base_uri": "https://localhost:8080/",
          "height": 35
        },
        "id": "m7fT0z5-wA0Z",
        "outputId": "1760f4ca-76d7-40b3-b5d1-23e2984cf9e0"
      },
      "source": [
        "'HEEDEAN'.lower()"
      ],
      "execution_count": 222,
      "outputs": [
        {
          "output_type": "execute_result",
          "data": {
            "application/vnd.google.colaboratory.intrinsic+json": {
              "type": "string"
            },
            "text/plain": [
              "'heedean'"
            ]
          },
          "metadata": {
            "tags": []
          },
          "execution_count": 222
        }
      ]
    },
    {
      "cell_type": "code",
      "metadata": {
        "colab": {
          "base_uri": "https://localhost:8080/",
          "height": 35
        },
        "id": "SorZn90awTFh",
        "outputId": "52fd4e0a-a60e-4233-8251-51f0f1be661f"
      },
      "source": [
        "'heedean'.upper()"
      ],
      "execution_count": 223,
      "outputs": [
        {
          "output_type": "execute_result",
          "data": {
            "application/vnd.google.colaboratory.intrinsic+json": {
              "type": "string"
            },
            "text/plain": [
              "'HEEDEAN'"
            ]
          },
          "metadata": {
            "tags": []
          },
          "execution_count": 223
        }
      ]
    },
    {
      "cell_type": "code",
      "metadata": {
        "colab": {
          "base_uri": "https://localhost:8080/",
          "height": 35
        },
        "id": "a9FAbnLzwV-1",
        "outputId": "2e39028c-8b6f-4b9e-c943-c0815a0709b7"
      },
      "source": [
        "'heedean'.replace('dean', 'deandean')"
      ],
      "execution_count": 224,
      "outputs": [
        {
          "output_type": "execute_result",
          "data": {
            "application/vnd.google.colaboratory.intrinsic+json": {
              "type": "string"
            },
            "text/plain": [
              "'heedeandean'"
            ]
          },
          "metadata": {
            "tags": []
          },
          "execution_count": 224
        }
      ]
    },
    {
      "cell_type": "code",
      "metadata": {
        "colab": {
          "base_uri": "https://localhost:8080/",
          "height": 35
        },
        "id": "q3etDCUowdyn",
        "outputId": "d3a0809a-5bd6-46d3-85c9-59596b0825e0"
      },
      "source": [
        "' hee dean '.strip() # 맨 앞/뒤 공백 제거"
      ],
      "execution_count": 225,
      "outputs": [
        {
          "output_type": "execute_result",
          "data": {
            "application/vnd.google.colaboratory.intrinsic+json": {
              "type": "string"
            },
            "text/plain": [
              "'hee dean'"
            ]
          },
          "metadata": {
            "tags": []
          },
          "execution_count": 225
        }
      ]
    },
    {
      "cell_type": "code",
      "metadata": {
        "colab": {
          "base_uri": "https://localhost:8080/"
        },
        "id": "ebkzP2Vfwl5c",
        "outputId": "537e6e0e-fa30-4ecd-b4fd-b5cbbca37f94"
      },
      "source": [
        "'1 2 3 4'.split(sep=' ')"
      ],
      "execution_count": 226,
      "outputs": [
        {
          "output_type": "execute_result",
          "data": {
            "text/plain": [
              "['1', '2', '3', '4']"
            ]
          },
          "metadata": {
            "tags": []
          },
          "execution_count": 226
        }
      ]
    },
    {
      "cell_type": "code",
      "metadata": {
        "colab": {
          "base_uri": "https://localhost:8080/"
        },
        "id": "lsU48Lprwt-b",
        "outputId": "f696d6d6-0fbd-4c28-fecd-238695f43a0e"
      },
      "source": [
        "'1 2 3 4'.partition(' ') # 구분자도 반환"
      ],
      "execution_count": 227,
      "outputs": [
        {
          "output_type": "execute_result",
          "data": {
            "text/plain": [
              "('1', ' ', '2 3 4')"
            ]
          },
          "metadata": {
            "tags": []
          },
          "execution_count": 227
        }
      ]
    },
    {
      "cell_type": "code",
      "metadata": {
        "colab": {
          "base_uri": "https://localhost:8080/",
          "height": 35
        },
        "id": "TUr3QweWw5m0",
        "outputId": "414a7bdc-4d79-43c2-ed3a-c96fdf50cc1f"
      },
      "source": [
        "'heedean'.center(10) # 지정한 너비로 문자열을 늘리고, 가운데 정렬"
      ],
      "execution_count": 228,
      "outputs": [
        {
          "output_type": "execute_result",
          "data": {
            "application/vnd.google.colaboratory.intrinsic+json": {
              "type": "string"
            },
            "text/plain": [
              "' heedean  '"
            ]
          },
          "metadata": {
            "tags": []
          },
          "execution_count": 228
        }
      ]
    },
    {
      "cell_type": "code",
      "metadata": {
        "colab": {
          "base_uri": "https://localhost:8080/",
          "height": 35
        },
        "id": "x4jqcHfDxIHl",
        "outputId": "bf426f51-2059-4406-a640-06ba800d8658"
      },
      "source": [
        "'1'.zfill(5) # 빈칸 0으로 채움"
      ],
      "execution_count": 229,
      "outputs": [
        {
          "output_type": "execute_result",
          "data": {
            "application/vnd.google.colaboratory.intrinsic+json": {
              "type": "string"
            },
            "text/plain": [
              "'00001'"
            ]
          },
          "metadata": {
            "tags": []
          },
          "execution_count": 229
        }
      ]
    },
    {
      "cell_type": "code",
      "metadata": {
        "colab": {
          "base_uri": "https://localhost:8080/"
        },
        "id": "uqdblQHZy5tT",
        "outputId": "5363644c-c113-48cf-a554-68382908ea54"
      },
      "source": [
        "n1 = '1'\n",
        "n2 = '2'\n",
        "n3 = '3'\n",
        "n4 = '4'\n",
        "\n",
        "num = ' '.join([n1, n2, n3, n4])\n",
        "print(num)"
      ],
      "execution_count": 230,
      "outputs": [
        {
          "output_type": "stream",
          "text": [
            "1 2 3 4\n"
          ],
          "name": "stdout"
        }
      ]
    },
    {
      "cell_type": "code",
      "metadata": {
        "colab": {
          "base_uri": "https://localhost:8080/"
        },
        "id": "wRpwQMThzPBI",
        "outputId": "0b3142ee-955b-4236-e37a-74cfc2eb24d5"
      },
      "source": [
        "multi_str = \"\"\"Guard: What? Ridden on a horse?\n",
        "King Arthur: Yes!\n",
        "Guard: You're using coconuts!\n",
        "King Arthur: What?\n",
        "Guard: You've got ... coconut[s] and you're bangin' 'em together. \n",
        "\"\"\" \n",
        "print(multi_str)"
      ],
      "execution_count": 231,
      "outputs": [
        {
          "output_type": "stream",
          "text": [
            "Guard: What? Ridden on a horse?\n",
            "King Arthur: Yes!\n",
            "Guard: You're using coconuts!\n",
            "King Arthur: What?\n",
            "Guard: You've got ... coconut[s] and you're bangin' 'em together. \n",
            "\n"
          ],
          "name": "stdout"
        }
      ]
    },
    {
      "cell_type": "code",
      "metadata": {
        "colab": {
          "base_uri": "https://localhost:8080/"
        },
        "id": "0KcLhyM11K5T",
        "outputId": "89b4577e-6435-47da-9920-f96db51e8d8d"
      },
      "source": [
        "multi_str_split = multi_str.splitlines()\n",
        "print(multi_str_split)"
      ],
      "execution_count": 232,
      "outputs": [
        {
          "output_type": "stream",
          "text": [
            "['Guard: What? Ridden on a horse?', 'King Arthur: Yes!', \"Guard: You're using coconuts!\", 'King Arthur: What?', \"Guard: You've got ... coconut[s] and you're bangin' 'em together. \"]\n"
          ],
          "name": "stdout"
        }
      ]
    },
    {
      "cell_type": "code",
      "metadata": {
        "colab": {
          "base_uri": "https://localhost:8080/"
        },
        "id": "l1aE32Jo1chO",
        "outputId": "f0dc0f57-07ac-484b-e356-ced1ae882ca4"
      },
      "source": [
        "guard = multi_str_split[::2]\n",
        "print(guard)"
      ],
      "execution_count": 233,
      "outputs": [
        {
          "output_type": "stream",
          "text": [
            "['Guard: What? Ridden on a horse?', \"Guard: You're using coconuts!\", \"Guard: You've got ... coconut[s] and you're bangin' 'em together. \"]\n"
          ],
          "name": "stdout"
        }
      ]
    },
    {
      "cell_type": "code",
      "metadata": {
        "colab": {
          "base_uri": "https://localhost:8080/"
        },
        "id": "mXaO8C4Z1rvd",
        "outputId": "a29bdbb4-e29a-4d38-f429-5a2b90233203"
      },
      "source": [
        "guard = multi_str.replace('Guard: ', '').splitlines()[::2]\n",
        "print(guard)"
      ],
      "execution_count": 234,
      "outputs": [
        {
          "output_type": "stream",
          "text": [
            "['What? Ridden on a horse?', \"You're using coconuts!\", \"You've got ... coconut[s] and you're bangin' 'em together. \"]\n"
          ],
          "name": "stdout"
        }
      ]
    },
    {
      "cell_type": "markdown",
      "metadata": {
        "id": "cQc680triB1O"
      },
      "source": [
        "# 문자열 포매팅"
      ]
    },
    {
      "cell_type": "code",
      "metadata": {
        "colab": {
          "base_uri": "https://localhost:8080/"
        },
        "id": "LSXjCKrMiB1O",
        "outputId": "66cc307d-fe51-4f5a-eb70-bdca0e23f245"
      },
      "source": [
        "s = 'aaa {}' # {} : 플레이스 홀더\n",
        "print(s.format(word))\n",
        "print(s.format('bbb'))"
      ],
      "execution_count": 235,
      "outputs": [
        {
          "output_type": "stream",
          "text": [
            "aaa heedean\n",
            "aaa bbb\n"
          ],
          "name": "stdout"
        }
      ]
    },
    {
      "cell_type": "code",
      "metadata": {
        "colab": {
          "base_uri": "https://localhost:8080/"
        },
        "id": "X0dpUoFj2uvn",
        "outputId": "ba5fdc28-ac24-468a-b616-c217aa2fa62b"
      },
      "source": [
        "s = \"\"\"Black Knight: 'Tis but a {0}.\n",
        "King Arthur: A {0}? Your arm's off!\n",
        "\"\"\" \n",
        "print(s.format('scratch'))"
      ],
      "execution_count": 236,
      "outputs": [
        {
          "output_type": "stream",
          "text": [
            "Black Knight: 'Tis but a scratch.\n",
            "King Arthur: A scratch? Your arm's off!\n",
            "\n"
          ],
          "name": "stdout"
        }
      ]
    },
    {
      "cell_type": "code",
      "metadata": {
        "colab": {
          "base_uri": "https://localhost:8080/"
        },
        "id": "KP0AE8E43W8R",
        "outputId": "6ab8d6f2-7bcf-44a1-8a39-3eb527f33246"
      },
      "source": [
        "s = '{a}, {b}'\n",
        "print(s.format(a='a', b='b'))"
      ],
      "execution_count": 237,
      "outputs": [
        {
          "output_type": "stream",
          "text": [
            "a, b\n"
          ],
          "name": "stdout"
        }
      ]
    },
    {
      "cell_type": "markdown",
      "metadata": {
        "id": "yjQ-IBogiB1O"
      },
      "source": [
        "# 숫자 포매팅"
      ]
    },
    {
      "cell_type": "code",
      "metadata": {
        "colab": {
          "base_uri": "https://localhost:8080/"
        },
        "id": "73-F0sWyiB1P",
        "outputId": "346b624e-9da8-419b-92fc-b743b07e4076"
      },
      "source": [
        "print('pi : {}'.format(3.14159))"
      ],
      "execution_count": 238,
      "outputs": [
        {
          "output_type": "stream",
          "text": [
            "pi : 3.14159\n"
          ],
          "name": "stdout"
        }
      ]
    },
    {
      "cell_type": "code",
      "metadata": {
        "colab": {
          "base_uri": "https://localhost:8080/"
        },
        "id": "2TukcbAG5chL",
        "outputId": "a8462b6a-11bb-45ca-da13-b210b7273ab0"
      },
      "source": [
        "print('{:,}'.format(1000))"
      ],
      "execution_count": 239,
      "outputs": [
        {
          "output_type": "stream",
          "text": [
            "1,000\n"
          ],
          "name": "stdout"
        }
      ]
    },
    {
      "cell_type": "code",
      "metadata": {
        "colab": {
          "base_uri": "https://localhost:8080/"
        },
        "id": "8sNGD9XV6c8d",
        "outputId": "539243f2-e3a5-4d71-cda5-a6bae62fc6c8"
      },
      "source": [
        "print('{0:.4}, {0:.4%}'.format(7/67890)) # 소수점 이하 숫자 4개까지 출력"
      ],
      "execution_count": 240,
      "outputs": [
        {
          "output_type": "stream",
          "text": [
            "0.0001031, 0.0103%\n"
          ],
          "name": "stdout"
        }
      ]
    },
    {
      "cell_type": "code",
      "metadata": {
        "colab": {
          "base_uri": "https://localhost:8080/"
        },
        "id": "lPGdKfhE7lRu",
        "outputId": "3c7ed84c-8b0d-4c6e-9d5a-2372894299bb"
      },
      "source": [
        "print('{0:05d}'.format(20))"
      ],
      "execution_count": 241,
      "outputs": [
        {
          "output_type": "stream",
          "text": [
            "00020\n"
          ],
          "name": "stdout"
        }
      ]
    },
    {
      "cell_type": "markdown",
      "metadata": {
        "id": "L2PpSdOliB1P"
      },
      "source": [
        "# % 연산자로 포매팅"
      ]
    },
    {
      "cell_type": "code",
      "metadata": {
        "colab": {
          "base_uri": "https://localhost:8080/"
        },
        "id": "uw_ChN_aiB1P",
        "outputId": "4e0658c6-25b7-4b15-d122-31408a054fbb"
      },
      "source": [
        "print('%d' % 7)"
      ],
      "execution_count": 242,
      "outputs": [
        {
          "output_type": "stream",
          "text": [
            "7\n"
          ],
          "name": "stdout"
        }
      ]
    },
    {
      "cell_type": "code",
      "metadata": {
        "colab": {
          "base_uri": "https://localhost:8080/"
        },
        "id": "f5JFKBHx8pqx",
        "outputId": "c1552fee-9e92-4c45-f642-4548ab1f0c60"
      },
      "source": [
        "print('%(a)s, %(value).2f' % {'a': 'a', 'value': 2.718}) "
      ],
      "execution_count": 243,
      "outputs": [
        {
          "output_type": "stream",
          "text": [
            "a, 2.72\n"
          ],
          "name": "stdout"
        }
      ]
    },
    {
      "cell_type": "markdown",
      "metadata": {
        "id": "qToCwLIFiB1P"
      },
      "source": [
        "# f-strings로 포매팅 : 문자열을 빠르게 처리"
      ]
    },
    {
      "cell_type": "code",
      "metadata": {
        "colab": {
          "base_uri": "https://localhost:8080/"
        },
        "id": "oRhAUA1MiB1P",
        "outputId": "9e218031-b465-4474-ab1e-3d0a84ca9af5"
      },
      "source": [
        "print(f'aaa {word}') "
      ],
      "execution_count": 244,
      "outputs": [
        {
          "output_type": "stream",
          "text": [
            "aaa heedean\n"
          ],
          "name": "stdout"
        }
      ]
    },
    {
      "cell_type": "markdown",
      "metadata": {
        "id": "qVU9x38FiB1P"
      },
      "source": [
        "# 정규식으로 전화번호 패턴 찾기"
      ]
    },
    {
      "cell_type": "code",
      "metadata": {
        "id": "-m7ZV3zwiB1P",
        "colab": {
          "base_uri": "https://localhost:8080/"
        },
        "outputId": "b816e877-63b5-482b-906b-7e7a9045dcf5"
      },
      "source": [
        "import re\n",
        "\n",
        "tele_num = '1234567890'\n",
        "\n",
        "# 1.\n",
        "m = re.match(pattern='\\d{10}', string=tele_num) # 숫자 10개\n",
        "print(type(m))\n",
        "print(m)"
      ],
      "execution_count": 245,
      "outputs": [
        {
          "output_type": "stream",
          "text": [
            "<class 're.Match'>\n",
            "<re.Match object; span=(0, 10), match='1234567890'>\n"
          ],
          "name": "stdout"
        }
      ]
    },
    {
      "cell_type": "code",
      "metadata": {
        "colab": {
          "base_uri": "https://localhost:8080/"
        },
        "id": "0ahOI7krmAVO",
        "outputId": "24ab7b58-933b-41b7-8cdc-b0c3b75a8cf7"
      },
      "source": [
        "# 2.\n",
        "p = re.compile('\\d{10}')\n",
        "m2 = p.match(tele_num)\n",
        "print(m2)"
      ],
      "execution_count": 246,
      "outputs": [
        {
          "output_type": "stream",
          "text": [
            "<re.Match object; span=(0, 10), match='1234567890'>\n"
          ],
          "name": "stdout"
        }
      ]
    },
    {
      "cell_type": "code",
      "metadata": {
        "colab": {
          "base_uri": "https://localhost:8080/"
        },
        "id": "28e4axQBfb7k",
        "outputId": "22cde926-061a-4a2e-8e9e-2549b5d1cbec"
      },
      "source": [
        "print(bool(m))"
      ],
      "execution_count": 247,
      "outputs": [
        {
          "output_type": "stream",
          "text": [
            "True\n"
          ],
          "name": "stdout"
        }
      ]
    },
    {
      "cell_type": "code",
      "metadata": {
        "colab": {
          "base_uri": "https://localhost:8080/"
        },
        "id": "dOFzAuwQg0ri",
        "outputId": "fa0fd082-f666-4bd9-cb2b-4eb1448a99e7"
      },
      "source": [
        "if m:\n",
        "  print('match')\n",
        "else:\n",
        "  print('no match')"
      ],
      "execution_count": 248,
      "outputs": [
        {
          "output_type": "stream",
          "text": [
            "match\n"
          ],
          "name": "stdout"
        }
      ]
    },
    {
      "cell_type": "code",
      "metadata": {
        "colab": {
          "base_uri": "https://localhost:8080/"
        },
        "id": "ew6Wpq9Ug7yp",
        "outputId": "5d3760a5-87d2-4b09-d0e4-926b06b8fbbf"
      },
      "source": [
        "# 인덱스 반환\n",
        "print(m.start())"
      ],
      "execution_count": 249,
      "outputs": [
        {
          "output_type": "stream",
          "text": [
            "0\n"
          ],
          "name": "stdout"
        }
      ]
    },
    {
      "cell_type": "code",
      "metadata": {
        "colab": {
          "base_uri": "https://localhost:8080/"
        },
        "id": "pfW30EXphU0H",
        "outputId": "35a414da-0971-45dc-8353-68de4f507e8f"
      },
      "source": [
        "print(m.end())"
      ],
      "execution_count": 250,
      "outputs": [
        {
          "output_type": "stream",
          "text": [
            "10\n"
          ],
          "name": "stdout"
        }
      ]
    },
    {
      "cell_type": "code",
      "metadata": {
        "colab": {
          "base_uri": "https://localhost:8080/"
        },
        "id": "Fm4VYW-fhmJU",
        "outputId": "d00d77a1-11c8-4c7f-a81f-c76e20d21ee3"
      },
      "source": [
        "print(m.span())"
      ],
      "execution_count": 251,
      "outputs": [
        {
          "output_type": "stream",
          "text": [
            "(0, 10)\n"
          ],
          "name": "stdout"
        }
      ]
    },
    {
      "cell_type": "code",
      "metadata": {
        "colab": {
          "base_uri": "https://localhost:8080/"
        },
        "id": "2rgQFfS5hpFT",
        "outputId": "c04954ee-ceee-4977-ec0f-a367a342eae9"
      },
      "source": [
        "print(m.group()) # 찾아낸 패턴 반환"
      ],
      "execution_count": 252,
      "outputs": [
        {
          "output_type": "stream",
          "text": [
            "1234567890\n"
          ],
          "name": "stdout"
        }
      ]
    },
    {
      "cell_type": "code",
      "metadata": {
        "colab": {
          "base_uri": "https://localhost:8080/"
        },
        "id": "cZ2NBpHbhs3k",
        "outputId": "85f16733-00e0-45e1-8a74-be5c0178d2be"
      },
      "source": [
        "tele_num_spaces = '123 456 7890'\n",
        "\n",
        "p = '\\d{3}\\s?\\d{3}\\s?\\d{4}' # \\s : 공백 or 탭 1개\n",
        "m = re.match(pattern=p, string=tele_num_spaces)\n",
        "print(m)"
      ],
      "execution_count": 253,
      "outputs": [
        {
          "output_type": "stream",
          "text": [
            "<re.Match object; span=(0, 12), match='123 456 7890'>\n"
          ],
          "name": "stdout"
        }
      ]
    },
    {
      "cell_type": "code",
      "metadata": {
        "colab": {
          "base_uri": "https://localhost:8080/"
        },
        "id": "Fv4aR3Szj_75",
        "outputId": "bca9eb7f-6d3a-4f61-daae-fd4d2f1a9a1e"
      },
      "source": [
        "tele_num_space_paren_dash = '(123) 456-7890'\n",
        "\n",
        "p = '\\(?\\d{3}\\)?\\s?\\d{3}\\s?-?\\d{4}'\n",
        "m = re.match(pattern=p, string=tele_num_space_paren_dash)\n",
        "print(m)"
      ],
      "execution_count": 254,
      "outputs": [
        {
          "output_type": "stream",
          "text": [
            "<re.Match object; span=(0, 14), match='(123) 456-7890'>\n"
          ],
          "name": "stdout"
        }
      ]
    }
  ]
}