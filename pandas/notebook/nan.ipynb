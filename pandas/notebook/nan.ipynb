{
  "nbformat": 4,
  "nbformat_minor": 0,
  "metadata": {
    "kernelspec": {
      "display_name": "Python 3",
      "language": "python",
      "name": "python3"
    },
    "language_info": {
      "codemirror_mode": {
        "name": "ipython",
        "version": 3
      },
      "file_extension": ".py",
      "mimetype": "text/x-python",
      "name": "python",
      "nbconvert_exporter": "python",
      "pygments_lexer": "ipython3",
      "version": "3.6.5"
    },
    "colab": {
      "name": "06_practice.ipynb",
      "provenance": [],
      "collapsed_sections": [],
      "toc_visible": true
    }
  },
  "cells": [
    {
      "cell_type": "code",
      "metadata": {
        "colab": {
          "base_uri": "https://localhost:8080/"
        },
        "id": "eEZVGv_CNP-9",
        "outputId": "a052ea3f-fc74-4ea1-b8b4-1adcf8c62e40"
      },
      "source": [
        "from numpy import NaN, NAN, nan\n",
        "\n",
        "print(NaN == True)\n",
        "print(NaN == False)\n",
        "print(NaN == 0)\n",
        "print(NaN == '')\n",
        "print(NaN == NaN)"
      ],
      "execution_count": 2,
      "outputs": [
        {
          "output_type": "stream",
          "text": [
            "False\n",
            "False\n",
            "False\n",
            "False\n",
            "False\n"
          ],
          "name": "stdout"
        }
      ]
    },
    {
      "cell_type": "code",
      "metadata": {
        "colab": {
          "base_uri": "https://localhost:8080/"
        },
        "id": "9kXqpUM0QE8G",
        "outputId": "6e91d2a5-2a0b-49a1-8f36-11d71ddc069a"
      },
      "source": [
        "import pandas as pd\n",
        "\n",
        "print(pd.isnull(NaN))"
      ],
      "execution_count": 3,
      "outputs": [
        {
          "output_type": "stream",
          "text": [
            "True\n"
          ],
          "name": "stdout"
        }
      ]
    },
    {
      "cell_type": "code",
      "metadata": {
        "colab": {
          "base_uri": "https://localhost:8080/"
        },
        "id": "cbhh9Xu3QfGp",
        "outputId": "f0172ff3-4868-470c-8c04-6c800ec36b46"
      },
      "source": [
        "print(pd.notnull(NaN))"
      ],
      "execution_count": 4,
      "outputs": [
        {
          "output_type": "stream",
          "text": [
            "False\n"
          ],
          "name": "stdout"
        }
      ]
    },
    {
      "cell_type": "markdown",
      "metadata": {
        "id": "DR2mpa3tNP--"
      },
      "source": [
        "# 누락값을 포함한 데이터"
      ]
    },
    {
      "cell_type": "code",
      "metadata": {
        "colab": {
          "base_uri": "https://localhost:8080/"
        },
        "id": "Xs9w2a5MNP--",
        "outputId": "1576dec1-74b7-48c4-ed82-ad034a05947f"
      },
      "source": [
        "visited = pd.read_csv('./survey_visited.csv')\n",
        "survey = pd.read_csv('./survey_survey.csv')\n",
        "\n",
        "print(visited)"
      ],
      "execution_count": 6,
      "outputs": [
        {
          "output_type": "stream",
          "text": [
            "   ident   site       dated\n",
            "0    619   DR-1  1927-02-08\n",
            "1    622   DR-1  1927-02-10\n",
            "2    734   DR-3  1939-01-07\n",
            "3    735   DR-3  1930-01-12\n",
            "4    751   DR-3  1930-02-26\n",
            "5    752   DR-3         NaN\n",
            "6    837  MSK-4  1932-01-14\n",
            "7    844   DR-1  1932-03-22\n"
          ],
          "name": "stdout"
        }
      ]
    },
    {
      "cell_type": "code",
      "metadata": {
        "colab": {
          "base_uri": "https://localhost:8080/"
        },
        "id": "i3Kd-F2CRy-y",
        "outputId": "793ee87b-fa14-423f-fd0a-17247f8b23be"
      },
      "source": [
        "print(survey)"
      ],
      "execution_count": 7,
      "outputs": [
        {
          "output_type": "stream",
          "text": [
            "    taken person quant  reading\n",
            "0     619   dyer   rad     9.82\n",
            "1     619   dyer   sal     0.13\n",
            "2     622   dyer   rad     7.80\n",
            "3     622   dyer   sal     0.09\n",
            "4     734     pb   rad     8.41\n",
            "5     734   lake   sal     0.05\n",
            "6     734     pb  temp   -21.50\n",
            "7     735     pb   rad     7.22\n",
            "8     735    NaN   sal     0.06\n",
            "9     735    NaN  temp   -26.00\n",
            "10    751     pb   rad     4.35\n",
            "11    751     pb  temp   -18.50\n",
            "12    751   lake   sal     0.10\n",
            "13    752   lake   rad     2.19\n",
            "14    752   lake   sal     0.09\n",
            "15    752   lake  temp   -16.00\n",
            "16    752    roe   sal    41.60\n",
            "17    837   lake   rad     1.46\n",
            "18    837   lake   sal     0.21\n",
            "19    837    roe   sal    22.50\n",
            "20    844    roe   rad    11.25\n"
          ],
          "name": "stdout"
        }
      ]
    },
    {
      "cell_type": "code",
      "metadata": {
        "colab": {
          "base_uri": "https://localhost:8080/"
        },
        "id": "qFqSVFlkR06N",
        "outputId": "ad01b7de-1d44-4578-d3f2-0ada43cfea5b"
      },
      "source": [
        "vs = visited.merge(survey, left_on='ident', right_on='taken')\n",
        "print(vs)"
      ],
      "execution_count": 8,
      "outputs": [
        {
          "output_type": "stream",
          "text": [
            "    ident   site       dated  taken person quant  reading\n",
            "0     619   DR-1  1927-02-08    619   dyer   rad     9.82\n",
            "1     619   DR-1  1927-02-08    619   dyer   sal     0.13\n",
            "2     622   DR-1  1927-02-10    622   dyer   rad     7.80\n",
            "3     622   DR-1  1927-02-10    622   dyer   sal     0.09\n",
            "4     734   DR-3  1939-01-07    734     pb   rad     8.41\n",
            "5     734   DR-3  1939-01-07    734   lake   sal     0.05\n",
            "6     734   DR-3  1939-01-07    734     pb  temp   -21.50\n",
            "7     735   DR-3  1930-01-12    735     pb   rad     7.22\n",
            "8     735   DR-3  1930-01-12    735    NaN   sal     0.06\n",
            "9     735   DR-3  1930-01-12    735    NaN  temp   -26.00\n",
            "10    751   DR-3  1930-02-26    751     pb   rad     4.35\n",
            "11    751   DR-3  1930-02-26    751     pb  temp   -18.50\n",
            "12    751   DR-3  1930-02-26    751   lake   sal     0.10\n",
            "13    752   DR-3         NaN    752   lake   rad     2.19\n",
            "14    752   DR-3         NaN    752   lake   sal     0.09\n",
            "15    752   DR-3         NaN    752   lake  temp   -16.00\n",
            "16    752   DR-3         NaN    752    roe   sal    41.60\n",
            "17    837  MSK-4  1932-01-14    837   lake   rad     1.46\n",
            "18    837  MSK-4  1932-01-14    837   lake   sal     0.21\n",
            "19    837  MSK-4  1932-01-14    837    roe   sal    22.50\n",
            "20    844   DR-1  1932-03-22    844    roe   rad    11.25\n"
          ],
          "name": "stdout"
        }
      ]
    },
    {
      "cell_type": "code",
      "metadata": {
        "colab": {
          "base_uri": "https://localhost:8080/"
        },
        "id": "tLaXdXb8NP-_",
        "outputId": "51a0d4f0-6c7a-4aab-9f16-5f5addb0a213"
      },
      "source": [
        "num_legs = pd.Series({'goat': 4, 'amoeba': nan})\n",
        "print(num_legs)\n",
        "print(type(num_legs))"
      ],
      "execution_count": 9,
      "outputs": [
        {
          "output_type": "stream",
          "text": [
            "goat      4.0\n",
            "amoeba    NaN\n",
            "dtype: float64\n",
            "<class 'pandas.core.series.Series'>\n"
          ],
          "name": "stdout"
        }
      ]
    },
    {
      "cell_type": "code",
      "metadata": {
        "colab": {
          "base_uri": "https://localhost:8080/"
        },
        "id": "7RDe46aEW5SO",
        "outputId": "68d0cda0-933b-4767-cc2f-b73647cc81d4"
      },
      "source": [
        "ebola = pd.read_csv('./country_timeseries.csv')\n",
        "\n",
        "print(ebola.count()) # 누락값 제외한 개수"
      ],
      "execution_count": 15,
      "outputs": [
        {
          "output_type": "stream",
          "text": [
            "Date                   122\n",
            "Day                    122\n",
            "Cases_Guinea            93\n",
            "Cases_Liberia           83\n",
            "Cases_SierraLeone       87\n",
            "Cases_Nigeria           38\n",
            "Cases_Senegal           25\n",
            "Cases_UnitedStates      18\n",
            "Cases_Spain             16\n",
            "Cases_Mali              12\n",
            "Deaths_Guinea           92\n",
            "Deaths_Liberia          81\n",
            "Deaths_SierraLeone      87\n",
            "Deaths_Nigeria          38\n",
            "Deaths_Senegal          22\n",
            "Deaths_UnitedStates     18\n",
            "Deaths_Spain            16\n",
            "Deaths_Mali             12\n",
            "dtype: int64\n"
          ],
          "name": "stdout"
        }
      ]
    },
    {
      "cell_type": "markdown",
      "metadata": {
        "id": "05zRu68JZtxV"
      },
      "source": [
        "# 누락값 개수 구하기"
      ]
    },
    {
      "cell_type": "code",
      "metadata": {
        "colab": {
          "base_uri": "https://localhost:8080/"
        },
        "id": "voA0JrWdYGBH",
        "outputId": "63a5dbb9-c034-48f1-80be-a35874014ac2"
      },
      "source": [
        "# 1.\n",
        "num_rows = ebola.shape[0] # 전체 행 수\n",
        "num_missing = num_rows - ebola.count()\n",
        "\n",
        "print(num_missing)"
      ],
      "execution_count": 16,
      "outputs": [
        {
          "output_type": "stream",
          "text": [
            "Date                     0\n",
            "Day                      0\n",
            "Cases_Guinea            29\n",
            "Cases_Liberia           39\n",
            "Cases_SierraLeone       35\n",
            "Cases_Nigeria           84\n",
            "Cases_Senegal           97\n",
            "Cases_UnitedStates     104\n",
            "Cases_Spain            106\n",
            "Cases_Mali             110\n",
            "Deaths_Guinea           30\n",
            "Deaths_Liberia          41\n",
            "Deaths_SierraLeone      35\n",
            "Deaths_Nigeria          84\n",
            "Deaths_Senegal         100\n",
            "Deaths_UnitedStates    104\n",
            "Deaths_Spain           106\n",
            "Deaths_Mali            110\n",
            "dtype: int64\n"
          ],
          "name": "stdout"
        }
      ]
    },
    {
      "cell_type": "code",
      "metadata": {
        "colab": {
          "base_uri": "https://localhost:8080/"
        },
        "id": "TvAkWLiFYl4_",
        "outputId": "3c0fe667-c901-4348-80cc-72a223993020"
      },
      "source": [
        "# 2.\n",
        "import numpy as np\n",
        "\n",
        "print(np.count_nonzero(ebola.isnull()))"
      ],
      "execution_count": 18,
      "outputs": [
        {
          "output_type": "stream",
          "text": [
            "1214\n"
          ],
          "name": "stdout"
        }
      ]
    },
    {
      "cell_type": "code",
      "metadata": {
        "colab": {
          "base_uri": "https://localhost:8080/"
        },
        "id": "nKz8KtUEaBEg",
        "outputId": "a4afe076-a085-4410-937b-2e57f1ae7ce4"
      },
      "source": [
        "print(np.count_nonzero(ebola['Cases_Guinea'].isnull()))"
      ],
      "execution_count": 19,
      "outputs": [
        {
          "output_type": "stream",
          "text": [
            "29\n"
          ],
          "name": "stdout"
        }
      ]
    },
    {
      "cell_type": "code",
      "metadata": {
        "colab": {
          "base_uri": "https://localhost:8080/"
        },
        "id": "sahxR52Ba6KE",
        "outputId": "a2712e44-7232-462b-ec56-0483133ffd44"
      },
      "source": [
        "# 3.\n",
        "print(ebola.Cases_Guinea.value_counts(dropna=False).head())"
      ],
      "execution_count": 22,
      "outputs": [
        {
          "output_type": "stream",
          "text": [
            "NaN      29\n",
            "86.0      3\n",
            "495.0     2\n",
            "112.0     2\n",
            "390.0     2\n",
            "Name: Cases_Guinea, dtype: int64\n"
          ],
          "name": "stdout"
        }
      ]
    },
    {
      "cell_type": "markdown",
      "metadata": {
        "id": "iQezSKz9NP_A"
      },
      "source": [
        "# 누락값 변경"
      ]
    },
    {
      "cell_type": "code",
      "metadata": {
        "colab": {
          "base_uri": "https://localhost:8080/"
        },
        "id": "T8DxaTfnNP_A",
        "outputId": "bb93080c-fc46-4411-c17a-7c0d07b603e6"
      },
      "source": [
        "# 누락값 -> 0\n",
        "print(ebola.fillna(0).iloc[0:10, 0:5]) "
      ],
      "execution_count": 23,
      "outputs": [
        {
          "output_type": "stream",
          "text": [
            "         Date  Day  Cases_Guinea  Cases_Liberia  Cases_SierraLeone\n",
            "0    1/5/2015  289        2776.0            0.0            10030.0\n",
            "1    1/4/2015  288        2775.0            0.0             9780.0\n",
            "2    1/3/2015  287        2769.0         8166.0             9722.0\n",
            "3    1/2/2015  286           0.0         8157.0                0.0\n",
            "4  12/31/2014  284        2730.0         8115.0             9633.0\n",
            "5  12/28/2014  281        2706.0         8018.0             9446.0\n",
            "6  12/27/2014  280        2695.0            0.0             9409.0\n",
            "7  12/24/2014  277        2630.0         7977.0             9203.0\n",
            "8  12/21/2014  273        2597.0            0.0             9004.0\n",
            "9  12/20/2014  272        2571.0         7862.0             8939.0\n"
          ],
          "name": "stdout"
        }
      ]
    },
    {
      "cell_type": "code",
      "metadata": {
        "colab": {
          "base_uri": "https://localhost:8080/"
        },
        "id": "BMKC2bjUcgF-",
        "outputId": "b91346cb-f517-4346-e240-798351407c55"
      },
      "source": [
        "# 누락값 -> 앞의 값\n",
        "print(ebola.fillna(method='ffill').iloc[0:10, 0:5]) "
      ],
      "execution_count": 24,
      "outputs": [
        {
          "output_type": "stream",
          "text": [
            "         Date  Day  Cases_Guinea  Cases_Liberia  Cases_SierraLeone\n",
            "0    1/5/2015  289        2776.0            NaN            10030.0\n",
            "1    1/4/2015  288        2775.0            NaN             9780.0\n",
            "2    1/3/2015  287        2769.0         8166.0             9722.0\n",
            "3    1/2/2015  286        2769.0         8157.0             9722.0\n",
            "4  12/31/2014  284        2730.0         8115.0             9633.0\n",
            "5  12/28/2014  281        2706.0         8018.0             9446.0\n",
            "6  12/27/2014  280        2695.0         8018.0             9409.0\n",
            "7  12/24/2014  277        2630.0         7977.0             9203.0\n",
            "8  12/21/2014  273        2597.0         7977.0             9004.0\n",
            "9  12/20/2014  272        2571.0         7862.0             8939.0\n"
          ],
          "name": "stdout"
        }
      ]
    },
    {
      "cell_type": "code",
      "metadata": {
        "colab": {
          "base_uri": "https://localhost:8080/"
        },
        "id": "DNpod_v5dnBE",
        "outputId": "09821f31-289e-4086-b6eb-d4f0c6c6a632"
      },
      "source": [
        "# 누락값 -> 뒤의 값\n",
        "print(ebola.fillna(method='bfill').iloc[0:10, 0:5]) "
      ],
      "execution_count": 25,
      "outputs": [
        {
          "output_type": "stream",
          "text": [
            "         Date  Day  Cases_Guinea  Cases_Liberia  Cases_SierraLeone\n",
            "0    1/5/2015  289        2776.0         8166.0            10030.0\n",
            "1    1/4/2015  288        2775.0         8166.0             9780.0\n",
            "2    1/3/2015  287        2769.0         8166.0             9722.0\n",
            "3    1/2/2015  286        2730.0         8157.0             9633.0\n",
            "4  12/31/2014  284        2730.0         8115.0             9633.0\n",
            "5  12/28/2014  281        2706.0         8018.0             9446.0\n",
            "6  12/27/2014  280        2695.0         7977.0             9409.0\n",
            "7  12/24/2014  277        2630.0         7977.0             9203.0\n",
            "8  12/21/2014  273        2597.0         7862.0             9004.0\n",
            "9  12/20/2014  272        2571.0         7862.0             8939.0\n"
          ],
          "name": "stdout"
        }
      ]
    },
    {
      "cell_type": "code",
      "metadata": {
        "colab": {
          "base_uri": "https://localhost:8080/"
        },
        "id": "E3TJPazId7oH",
        "outputId": "a3522785-6621-4dde-a2e3-c38951936666"
      },
      "source": [
        "# 누락값 -> 앞, 뒤의 중간값\n",
        "print(ebola.interpolate().iloc[0:10, 0:5]) "
      ],
      "execution_count": 27,
      "outputs": [
        {
          "output_type": "stream",
          "text": [
            "         Date  Day  Cases_Guinea  Cases_Liberia  Cases_SierraLeone\n",
            "0    1/5/2015  289        2776.0            NaN            10030.0\n",
            "1    1/4/2015  288        2775.0            NaN             9780.0\n",
            "2    1/3/2015  287        2769.0         8166.0             9722.0\n",
            "3    1/2/2015  286        2749.5         8157.0             9677.5\n",
            "4  12/31/2014  284        2730.0         8115.0             9633.0\n",
            "5  12/28/2014  281        2706.0         8018.0             9446.0\n",
            "6  12/27/2014  280        2695.0         7997.5             9409.0\n",
            "7  12/24/2014  277        2630.0         7977.0             9203.0\n",
            "8  12/21/2014  273        2597.0         7919.5             9004.0\n",
            "9  12/20/2014  272        2571.0         7862.0             8939.0\n"
          ],
          "name": "stdout"
        }
      ]
    },
    {
      "cell_type": "markdown",
      "metadata": {
        "id": "7qc2g5gKNP_A"
      },
      "source": [
        "# 누락값 삭제"
      ]
    },
    {
      "cell_type": "code",
      "metadata": {
        "colab": {
          "base_uri": "https://localhost:8080/"
        },
        "id": "sRH8Cge5NP_B",
        "outputId": "a0566322-5f9e-4be7-a6b5-0a1b6fe9861b"
      },
      "source": [
        "print(ebola.shape)"
      ],
      "execution_count": 28,
      "outputs": [
        {
          "output_type": "stream",
          "text": [
            "(122, 18)\n"
          ],
          "name": "stdout"
        }
      ]
    },
    {
      "cell_type": "code",
      "metadata": {
        "colab": {
          "base_uri": "https://localhost:8080/"
        },
        "id": "BmSyh4rgfnRV",
        "outputId": "5f56d51e-adae-4874-b173-09397726b9f9"
      },
      "source": [
        "ebola_dropna = ebola.dropna()\n",
        "print(ebola_dropna.shape)"
      ],
      "execution_count": 30,
      "outputs": [
        {
          "output_type": "stream",
          "text": [
            "(1, 18)\n"
          ],
          "name": "stdout"
        }
      ]
    },
    {
      "cell_type": "code",
      "metadata": {
        "colab": {
          "base_uri": "https://localhost:8080/"
        },
        "id": "3QlWJA-if4HM",
        "outputId": "56f3acf8-583a-4687-89c9-fb32470b9fbc"
      },
      "source": [
        "print(ebola_dropna)"
      ],
      "execution_count": 31,
      "outputs": [
        {
          "output_type": "stream",
          "text": [
            "          Date  Day  ...  Deaths_Spain  Deaths_Mali\n",
            "19  11/18/2014  241  ...           0.0          6.0\n",
            "\n",
            "[1 rows x 18 columns]\n"
          ],
          "name": "stdout"
        }
      ]
    },
    {
      "cell_type": "markdown",
      "metadata": {
        "id": "7rPNJu6RNP_B"
      },
      "source": [
        "# 누락값 계산 - 결과는 무조건 nan"
      ]
    },
    {
      "cell_type": "code",
      "metadata": {
        "colab": {
          "base_uri": "https://localhost:8080/"
        },
        "id": "35QFtpTlNP_B",
        "outputId": "ee0dd425-36d9-4443-e4d9-c9697d2c7aa6"
      },
      "source": [
        "ebola['Cases_multiple'] = ebola['Cases_Guinea'] + ebola['Cases_Liberia'] + ebola['Cases_SierraLeone']\n",
        "ebola['Cases_multiple']"
      ],
      "execution_count": 32,
      "outputs": [
        {
          "output_type": "execute_result",
          "data": {
            "text/plain": [
              "0          NaN\n",
              "1          NaN\n",
              "2      20657.0\n",
              "3          NaN\n",
              "4      20478.0\n",
              "        ...   \n",
              "117      117.0\n",
              "118        NaN\n",
              "119        NaN\n",
              "120        NaN\n",
              "121        NaN\n",
              "Name: Cases_multiple, Length: 122, dtype: float64"
            ]
          },
          "metadata": {
            "tags": []
          },
          "execution_count": 32
        }
      ]
    },
    {
      "cell_type": "code",
      "metadata": {
        "colab": {
          "base_uri": "https://localhost:8080/"
        },
        "id": "lHpSlIk5hAQ8",
        "outputId": "f5e48874-c959-424d-85df-668c719c56a8"
      },
      "source": [
        "ebola_subset = ebola.loc[:, ['Cases_Guinea', 'Cases_Liberia', 'Cases_SierraLeone', 'Cases_multiple']]\n",
        "print(ebola_subset)"
      ],
      "execution_count": 33,
      "outputs": [
        {
          "output_type": "stream",
          "text": [
            "     Cases_Guinea  Cases_Liberia  Cases_SierraLeone  Cases_multiple\n",
            "0          2776.0            NaN            10030.0             NaN\n",
            "1          2775.0            NaN             9780.0             NaN\n",
            "2          2769.0         8166.0             9722.0         20657.0\n",
            "3             NaN         8157.0                NaN             NaN\n",
            "4          2730.0         8115.0             9633.0         20478.0\n",
            "..            ...            ...                ...             ...\n",
            "117         103.0            8.0                6.0           117.0\n",
            "118          86.0            NaN                NaN             NaN\n",
            "119          86.0            NaN                NaN             NaN\n",
            "120          86.0            NaN                NaN             NaN\n",
            "121          49.0            NaN                NaN             NaN\n",
            "\n",
            "[122 rows x 4 columns]\n"
          ],
          "name": "stdout"
        }
      ]
    },
    {
      "cell_type": "code",
      "metadata": {
        "colab": {
          "base_uri": "https://localhost:8080/"
        },
        "id": "Y0FCyvHSg1UG",
        "outputId": "ec49f3cb-bb03-46c6-cd68-700e982f4f0a"
      },
      "source": [
        "print(ebola.Cases_Guinea.sum(skipna=True)) # 누락값 skip"
      ],
      "execution_count": 34,
      "outputs": [
        {
          "output_type": "stream",
          "text": [
            "84729.0\n"
          ],
          "name": "stdout"
        }
      ]
    },
    {
      "cell_type": "code",
      "metadata": {
        "colab": {
          "base_uri": "https://localhost:8080/"
        },
        "id": "Cf8EHgI7iqVh",
        "outputId": "bcd91496-422a-4389-9cc4-ca3f54cb7bdb"
      },
      "source": [
        "print(ebola.Cases_Guinea.sum(skipna=False)) "
      ],
      "execution_count": 35,
      "outputs": [
        {
          "output_type": "stream",
          "text": [
            "nan\n"
          ],
          "name": "stdout"
        }
      ]
    }
  ]
}