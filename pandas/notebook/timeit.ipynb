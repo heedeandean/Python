{
  "nbformat": 4,
  "nbformat_minor": 0,
  "metadata": {
    "kernelspec": {
      "display_name": "Python 3",
      "language": "python",
      "name": "python3"
    },
    "language_info": {
      "codemirror_mode": {
        "name": "ipython",
        "version": 3
      },
      "file_extension": ".py",
      "mimetype": "text/x-python",
      "name": "python",
      "nbconvert_exporter": "python",
      "pygments_lexer": "ipython3",
      "version": "3.8.8"
    },
    "colab": {
      "name": "hello_jupyter_notebook.ipynb",
      "provenance": [],
      "collapsed_sections": []
    }
  },
  "cells": [
    {
      "cell_type": "code",
      "metadata": {
        "id": "KdJc-V7Flo73"
      },
      "source": [
        "import pandas as pd\n",
        "import numpy as np\n",
        "\n",
        "df = pd.DataFrame({'a': [10, 20, 30], 'b': [20, 30, 40]})\n",
        "\n",
        "def avg_2_apply(row):\n",
        "  x = row[0]\n",
        "  y = row[1]\n",
        "\n",
        "  if (x == 20):\n",
        "    return np.nan\n",
        "  else:\n",
        "    return (x + y) / 2"
      ],
      "execution_count": 6,
      "outputs": []
    },
    {
      "cell_type": "code",
      "metadata": {
        "colab": {
          "base_uri": "https://localhost:8080/"
        },
        "id": "_UfzY8crlo76",
        "outputId": "e9ac5c04-e71c-4b01-d648-b71c6fabe851"
      },
      "source": [
        "# 실행 시간 측정\n",
        "%%timeit\n",
        "df.apply(avg_2_apply, axis=1)"
      ],
      "execution_count": 7,
      "outputs": [
        {
          "output_type": "stream",
          "text": [
            "The slowest run took 33.51 times longer than the fastest. This could mean that an intermediate result is being cached.\n",
            "1000 loops, best of 5: 407 µs per loop\n"
          ],
          "name": "stdout"
        }
      ]
    },
    {
      "cell_type": "code",
      "metadata": {
        "id": "iRVtA3R3lo77"
      },
      "source": [
        "@np.vectorize # 벡터화\n",
        "def v_avg_2_mod(x, y):\n",
        "\n",
        "  if (x == 20):\n",
        "    return np.nan\n",
        "  else:\n",
        "    return (x + y) / 2"
      ],
      "execution_count": 9,
      "outputs": []
    },
    {
      "cell_type": "code",
      "metadata": {
        "colab": {
          "base_uri": "https://localhost:8080/"
        },
        "id": "Fz3HQhpPlo77",
        "outputId": "bfdabc54-22f2-4122-b1d7-91bc54e72678"
      },
      "source": [
        "%%timeit\n",
        "v_avg_2_mod(df['a'], df['b'])"
      ],
      "execution_count": 10,
      "outputs": [
        {
          "output_type": "stream",
          "text": [
            "The slowest run took 11.99 times longer than the fastest. This could mean that an intermediate result is being cached.\n",
            "10000 loops, best of 5: 57 µs per loop\n"
          ],
          "name": "stdout"
        }
      ]
    },
    {
      "cell_type": "code",
      "metadata": {
        "id": "LwhtAU9blo77"
      },
      "source": [
        "import numba\n",
        "\n",
        "@numba.vectorize\n",
        "def v_avg_2_numba(x, y):\n",
        "\n",
        "  if (int(x) == 20):\n",
        "    return np.nan\n",
        "  else:\n",
        "    return (x + y) / 2  "
      ],
      "execution_count": 11,
      "outputs": []
    },
    {
      "cell_type": "code",
      "metadata": {
        "colab": {
          "base_uri": "https://localhost:8080/"
        },
        "id": "21jct4DrpOK2",
        "outputId": "f9d68079-e32a-470d-97ca-0b4549ef6290"
      },
      "source": [
        "%%timeit\n",
        "v_avg_2_numba(df['a'].values, df['b'].values)"
      ],
      "execution_count": 12,
      "outputs": [
        {
          "output_type": "stream",
          "text": [
            "The slowest run took 32798.12 times longer than the fastest. This could mean that an intermediate result is being cached.\n",
            "100000 loops, best of 5: 6.07 µs per loop\n"
          ],
          "name": "stdout"
        }
      ]
    }
  ]
}