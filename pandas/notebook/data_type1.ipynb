{
  "nbformat": 4,
  "nbformat_minor": 0,
  "metadata": {
    "kernelspec": {
      "display_name": "Python 3",
      "language": "python",
      "name": "python3"
    },
    "language_info": {
      "codemirror_mode": {
        "name": "ipython",
        "version": 3
      },
      "file_extension": ".py",
      "mimetype": "text/x-python",
      "name": "python",
      "nbconvert_exporter": "python",
      "pygments_lexer": "ipython3",
      "version": "3.8.8"
    },
    "colab": {
      "name": "02_practice.ipynb",
      "provenance": [],
      "collapsed_sections": []
    }
  },
  "cells": [
    {
      "cell_type": "code",
      "metadata": {
        "id": "k5Bo1Qh5OObj"
      },
      "source": [
        "# 주피터 노트북 단축키\n",
        "# 코드 박스 삭제 : dd\n",
        "\n",
        "# 판다스 자료형\n",
        "# 1. DataFrame (열 2개 이상) = 엑셀 Sheet\n",
        "# 2. Series (열 1개)\n",
        "\n",
        "import pandas as pd\n",
        "\n",
        "df = pd.read_csv('./gapminder.tsv', sep='\\t') # 탭 구분 / DataFrame 반환"
      ],
      "execution_count": 2,
      "outputs": []
    },
    {
      "cell_type": "markdown",
      "metadata": {
        "id": "MDwHeS6ROObq"
      },
      "source": [
        "# 데이터 파악"
      ]
    },
    {
      "cell_type": "code",
      "metadata": {
        "id": "jWw_NiHWOObr",
        "colab": {
          "base_uri": "https://localhost:8080/"
        },
        "outputId": "dfbc3dce-87f4-4357-d13a-bb0f7fcb1f4c"
      },
      "source": [
        "print(df.head())"
      ],
      "execution_count": 3,
      "outputs": [
        {
          "output_type": "stream",
          "text": [
            "       country continent  year  lifeExp       pop   gdpPercap\n",
            "0  Afghanistan      Asia  1952   28.801   8425333  779.445314\n",
            "1  Afghanistan      Asia  1957   30.332   9240934  820.853030\n",
            "2  Afghanistan      Asia  1962   31.997  10267083  853.100710\n",
            "3  Afghanistan      Asia  1967   34.020  11537966  836.197138\n",
            "4  Afghanistan      Asia  1972   36.088  13079460  739.981106\n"
          ],
          "name": "stdout"
        }
      ]
    },
    {
      "cell_type": "code",
      "metadata": {
        "id": "-kjEcv4gOObs",
        "colab": {
          "base_uri": "https://localhost:8080/"
        },
        "outputId": "03363eb4-c674-4a26-ed7a-ba8ecdb02896"
      },
      "source": [
        "print(type(df)) # 자료형"
      ],
      "execution_count": 4,
      "outputs": [
        {
          "output_type": "stream",
          "text": [
            "<class 'pandas.core.frame.DataFrame'>\n"
          ],
          "name": "stdout"
        }
      ]
    },
    {
      "cell_type": "code",
      "metadata": {
        "id": "nm78SshwOObt",
        "colab": {
          "base_uri": "https://localhost:8080/"
        },
        "outputId": "3c44e200-ab4f-4216-b868-44cb292363eb"
      },
      "source": [
        "print(df.shape) # 행, 열"
      ],
      "execution_count": 5,
      "outputs": [
        {
          "output_type": "stream",
          "text": [
            "(1704, 6)\n"
          ],
          "name": "stdout"
        }
      ]
    },
    {
      "cell_type": "code",
      "metadata": {
        "id": "aL2e79kJOObt",
        "colab": {
          "base_uri": "https://localhost:8080/"
        },
        "outputId": "6ecb3776-cad3-4421-e7c1-4b15907443e3"
      },
      "source": [
        "print(df.columns) # 열이름"
      ],
      "execution_count": 6,
      "outputs": [
        {
          "output_type": "stream",
          "text": [
            "Index(['country', 'continent', 'year', 'lifeExp', 'pop', 'gdpPercap'], dtype='object')\n"
          ],
          "name": "stdout"
        }
      ]
    },
    {
      "cell_type": "code",
      "metadata": {
        "id": "lJorrshvOObt",
        "colab": {
          "base_uri": "https://localhost:8080/"
        },
        "outputId": "e7bd7034-445a-4a13-ca73-00f61a7bcafd"
      },
      "source": [
        "# object = string\n",
        "\n",
        "print(df.dtypes) # 열 자료형"
      ],
      "execution_count": 7,
      "outputs": [
        {
          "output_type": "stream",
          "text": [
            "country       object\n",
            "continent     object\n",
            "year           int64\n",
            "lifeExp      float64\n",
            "pop            int64\n",
            "gdpPercap    float64\n",
            "dtype: object\n"
          ],
          "name": "stdout"
        }
      ]
    },
    {
      "cell_type": "code",
      "metadata": {
        "id": "Mn33mU7XOObu",
        "colab": {
          "base_uri": "https://localhost:8080/"
        },
        "outputId": "c7c6287e-b709-4eda-a84f-8b0dae2cebc7"
      },
      "source": [
        "print(df.info()) # 열 자료형(더 자세함)"
      ],
      "execution_count": 8,
      "outputs": [
        {
          "output_type": "stream",
          "text": [
            "<class 'pandas.core.frame.DataFrame'>\n",
            "RangeIndex: 1704 entries, 0 to 1703\n",
            "Data columns (total 6 columns):\n",
            " #   Column     Non-Null Count  Dtype  \n",
            "---  ------     --------------  -----  \n",
            " 0   country    1704 non-null   object \n",
            " 1   continent  1704 non-null   object \n",
            " 2   year       1704 non-null   int64  \n",
            " 3   lifeExp    1704 non-null   float64\n",
            " 4   pop        1704 non-null   int64  \n",
            " 5   gdpPercap  1704 non-null   float64\n",
            "dtypes: float64(2), int64(2), object(2)\n",
            "memory usage: 80.0+ KB\n",
            "None\n"
          ],
          "name": "stdout"
        }
      ]
    },
    {
      "cell_type": "markdown",
      "metadata": {
        "id": "YtkP9VFsOObu"
      },
      "source": [
        "# 열 추출"
      ]
    },
    {
      "cell_type": "code",
      "metadata": {
        "id": "oBB4zDxtOObu",
        "colab": {
          "base_uri": "https://localhost:8080/"
        },
        "outputId": "42d10686-9ec0-4788-f02b-82bb90bd8959"
      },
      "source": [
        "country_df = df['country'] # 열 1개 \n",
        "\n",
        "print(type(country_df))"
      ],
      "execution_count": 9,
      "outputs": [
        {
          "output_type": "stream",
          "text": [
            "<class 'pandas.core.series.Series'>\n"
          ],
          "name": "stdout"
        }
      ]
    },
    {
      "cell_type": "code",
      "metadata": {
        "id": "w-kzhxe3OObv",
        "colab": {
          "base_uri": "https://localhost:8080/"
        },
        "outputId": "0107ea67-6e9b-43c5-f53f-3788fcf0fe77"
      },
      "source": [
        "print(country_df.head())"
      ],
      "execution_count": 10,
      "outputs": [
        {
          "output_type": "stream",
          "text": [
            "0    Afghanistan\n",
            "1    Afghanistan\n",
            "2    Afghanistan\n",
            "3    Afghanistan\n",
            "4    Afghanistan\n",
            "Name: country, dtype: object\n"
          ],
          "name": "stdout"
        }
      ]
    },
    {
      "cell_type": "code",
      "metadata": {
        "id": "-20pd-JjOObv",
        "colab": {
          "base_uri": "https://localhost:8080/"
        },
        "outputId": "f213068c-0e7e-4444-cb12-6fbce044381a"
      },
      "source": [
        "print(country_df.tail())"
      ],
      "execution_count": 11,
      "outputs": [
        {
          "output_type": "stream",
          "text": [
            "1699    Zimbabwe\n",
            "1700    Zimbabwe\n",
            "1701    Zimbabwe\n",
            "1702    Zimbabwe\n",
            "1703    Zimbabwe\n",
            "Name: country, dtype: object\n"
          ],
          "name": "stdout"
        }
      ]
    },
    {
      "cell_type": "code",
      "metadata": {
        "id": "lspzqp08OObv",
        "colab": {
          "base_uri": "https://localhost:8080/"
        },
        "outputId": "8c88f4ea-e564-448f-e7e4-80902aa1c1d6"
      },
      "source": [
        "subset = df[['country', 'continent', 'year']]\n",
        "             \n",
        "print(type(subset))"
      ],
      "execution_count": 12,
      "outputs": [
        {
          "output_type": "stream",
          "text": [
            "<class 'pandas.core.frame.DataFrame'>\n"
          ],
          "name": "stdout"
        }
      ]
    },
    {
      "cell_type": "code",
      "metadata": {
        "id": "Zt5rM-03OObv",
        "colab": {
          "base_uri": "https://localhost:8080/"
        },
        "outputId": "c7cda3c1-171d-4f57-9d61-47a81a2a1218"
      },
      "source": [
        "print(subset.head())"
      ],
      "execution_count": 13,
      "outputs": [
        {
          "output_type": "stream",
          "text": [
            "       country continent  year\n",
            "0  Afghanistan      Asia  1952\n",
            "1  Afghanistan      Asia  1957\n",
            "2  Afghanistan      Asia  1962\n",
            "3  Afghanistan      Asia  1967\n",
            "4  Afghanistan      Asia  1972\n"
          ],
          "name": "stdout"
        }
      ]
    },
    {
      "cell_type": "code",
      "metadata": {
        "id": "wnob7XFGOObw",
        "colab": {
          "base_uri": "https://localhost:8080/"
        },
        "outputId": "5c7b144b-4876-4206-9c22-3a7e00ecb5b0"
      },
      "source": [
        "print(subset.tail())"
      ],
      "execution_count": 14,
      "outputs": [
        {
          "output_type": "stream",
          "text": [
            "       country continent  year\n",
            "1699  Zimbabwe    Africa  1987\n",
            "1700  Zimbabwe    Africa  1992\n",
            "1701  Zimbabwe    Africa  1997\n",
            "1702  Zimbabwe    Africa  2002\n",
            "1703  Zimbabwe    Africa  2007\n"
          ],
          "name": "stdout"
        }
      ]
    },
    {
      "cell_type": "markdown",
      "metadata": {
        "id": "AjdsvWGkOObw"
      },
      "source": [
        "# 행 추출"
      ]
    },
    {
      "cell_type": "code",
      "metadata": {
        "scrolled": true,
        "id": "zlwuDZ_uOObw",
        "colab": {
          "base_uri": "https://localhost:8080/"
        },
        "outputId": "4e06912b-eb26-419b-9c26-59384f60d182"
      },
      "source": [
        "# 1. loc[인덱스]\n",
        "\n",
        "print(df.loc[0]) "
      ],
      "execution_count": 15,
      "outputs": [
        {
          "output_type": "stream",
          "text": [
            "country      Afghanistan\n",
            "continent           Asia\n",
            "year                1952\n",
            "lifeExp           28.801\n",
            "pop              8425333\n",
            "gdpPercap        779.445\n",
            "Name: 0, dtype: object\n"
          ],
          "name": "stdout"
        }
      ]
    },
    {
      "cell_type": "code",
      "metadata": {
        "id": "0EeTo81mOObw",
        "colab": {
          "base_uri": "https://localhost:8080/"
        },
        "outputId": "9bab7f66-e623-4d6e-975c-11afee2cb16c"
      },
      "source": [
        "# 마지막 행 추출\n",
        "\n",
        "# 1안.\n",
        "number_of_rows = df.shape[0] \n",
        "last_row_index = number_of_rows - 1\n",
        "subset_loc = df.loc[last_row_index]\n",
        "\n",
        "print(subset_loc)\n",
        "print(type(subset_loc))"
      ],
      "execution_count": 16,
      "outputs": [
        {
          "output_type": "stream",
          "text": [
            "country      Zimbabwe\n",
            "continent      Africa\n",
            "year             2007\n",
            "lifeExp        43.487\n",
            "pop          12311143\n",
            "gdpPercap     469.709\n",
            "Name: 1703, dtype: object\n",
            "<class 'pandas.core.series.Series'>\n"
          ],
          "name": "stdout"
        }
      ]
    },
    {
      "cell_type": "code",
      "metadata": {
        "id": "CFyLtM-tOObx",
        "colab": {
          "base_uri": "https://localhost:8080/"
        },
        "outputId": "6837a92e-e9eb-4358-835a-d82ca4834a5f"
      },
      "source": [
        "# 2안. \n",
        "subset_tail = df.tail(n=1)\n",
        "\n",
        "print(subset_tail)\n",
        "print(type(subset_tail))"
      ],
      "execution_count": 17,
      "outputs": [
        {
          "output_type": "stream",
          "text": [
            "       country continent  year  lifeExp       pop   gdpPercap\n",
            "1703  Zimbabwe    Africa  2007   43.487  12311143  469.709298\n",
            "<class 'pandas.core.frame.DataFrame'>\n"
          ],
          "name": "stdout"
        }
      ]
    },
    {
      "cell_type": "code",
      "metadata": {
        "id": "6N3VO5YOOObx",
        "colab": {
          "base_uri": "https://localhost:8080/"
        },
        "outputId": "145c72be-dc46-446e-bf08-319a70edd5c2"
      },
      "source": [
        "print(df.loc[[0, 99, 999]])"
      ],
      "execution_count": 18,
      "outputs": [
        {
          "output_type": "stream",
          "text": [
            "         country continent  year  lifeExp       pop    gdpPercap\n",
            "0    Afghanistan      Asia  1952   28.801   8425333   779.445314\n",
            "99    Bangladesh      Asia  1967   43.453  62821884   721.186086\n",
            "999     Mongolia      Asia  1967   51.253   1149500  1226.041130\n"
          ],
          "name": "stdout"
        }
      ]
    },
    {
      "cell_type": "code",
      "metadata": {
        "id": "V8p1XP79OObx",
        "colab": {
          "base_uri": "https://localhost:8080/"
        },
        "outputId": "08626c9e-23e4-42ae-f15b-87d8f3deee08"
      },
      "source": [
        "# 2. iloc[행번호]\n",
        "\n",
        "print(df.iloc[1])"
      ],
      "execution_count": 19,
      "outputs": [
        {
          "output_type": "stream",
          "text": [
            "country      Afghanistan\n",
            "continent           Asia\n",
            "year                1957\n",
            "lifeExp           30.332\n",
            "pop              9240934\n",
            "gdpPercap        820.853\n",
            "Name: 1, dtype: object\n"
          ],
          "name": "stdout"
        }
      ]
    },
    {
      "cell_type": "code",
      "metadata": {
        "id": "6TXYqIu0OObx",
        "colab": {
          "base_uri": "https://localhost:8080/"
        },
        "outputId": "f0bd6af4-6d0c-40ae-cd9f-b64e77f9698f"
      },
      "source": [
        "print(df.iloc[-1]) # 마지막 행 추출"
      ],
      "execution_count": 20,
      "outputs": [
        {
          "output_type": "stream",
          "text": [
            "country      Zimbabwe\n",
            "continent      Africa\n",
            "year             2007\n",
            "lifeExp        43.487\n",
            "pop          12311143\n",
            "gdpPercap     469.709\n",
            "Name: 1703, dtype: object\n"
          ],
          "name": "stdout"
        }
      ]
    },
    {
      "cell_type": "code",
      "metadata": {
        "id": "MimRRZaNOOby",
        "colab": {
          "base_uri": "https://localhost:8080/"
        },
        "outputId": "11c1e114-98ab-40ff-df5a-1306ede89ea5"
      },
      "source": [
        "print(df.iloc[[0, 99, 999]])"
      ],
      "execution_count": 21,
      "outputs": [
        {
          "output_type": "stream",
          "text": [
            "         country continent  year  lifeExp       pop    gdpPercap\n",
            "0    Afghanistan      Asia  1952   28.801   8425333   779.445314\n",
            "99    Bangladesh      Asia  1967   43.453  62821884   721.186086\n",
            "999     Mongolia      Asia  1967   51.253   1149500  1226.041130\n"
          ],
          "name": "stdout"
        }
      ]
    },
    {
      "cell_type": "markdown",
      "metadata": {
        "id": "J_N2hVk0OOby"
      },
      "source": [
        "# 슬라이싱 구문"
      ]
    },
    {
      "cell_type": "code",
      "metadata": {
        "id": "asEsUWeKOOby",
        "colab": {
          "base_uri": "https://localhost:8080/"
        },
        "outputId": "8e34f9d4-9030-4205-c7b0-6523970a47ef"
      },
      "source": [
        "subset = df.loc[:, ['year', 'pop']] # 열 : 문자열\n",
        "\n",
        "print(subset.head())"
      ],
      "execution_count": 22,
      "outputs": [
        {
          "output_type": "stream",
          "text": [
            "   year       pop\n",
            "0  1952   8425333\n",
            "1  1957   9240934\n",
            "2  1962  10267083\n",
            "3  1967  11537966\n",
            "4  1972  13079460\n"
          ],
          "name": "stdout"
        }
      ]
    },
    {
      "cell_type": "code",
      "metadata": {
        "id": "CboP0KOdOOby",
        "colab": {
          "base_uri": "https://localhost:8080/"
        },
        "outputId": "20d7bd44-bbad-4d4c-f4a4-b604b646c1b9"
      },
      "source": [
        "subset = df.iloc[:, [2, 4, -1]] # 열 : 정수\n",
        "\n",
        "print(subset.head())"
      ],
      "execution_count": 23,
      "outputs": [
        {
          "output_type": "stream",
          "text": [
            "   year       pop   gdpPercap\n",
            "0  1952   8425333  779.445314\n",
            "1  1957   9240934  820.853030\n",
            "2  1962  10267083  853.100710\n",
            "3  1967  11537966  836.197138\n",
            "4  1972  13079460  739.981106\n"
          ],
          "name": "stdout"
        }
      ]
    },
    {
      "cell_type": "code",
      "metadata": {
        "id": "gzMrgRDrOOby",
        "colab": {
          "base_uri": "https://localhost:8080/"
        },
        "outputId": "8f0d7160-a290-45c2-8b4a-9122716891fc"
      },
      "source": [
        "small_range = list(range(5))\n",
        "\n",
        "print(small_range)"
      ],
      "execution_count": 24,
      "outputs": [
        {
          "output_type": "stream",
          "text": [
            "[0, 1, 2, 3, 4]\n"
          ],
          "name": "stdout"
        }
      ]
    },
    {
      "cell_type": "code",
      "metadata": {
        "id": "Mkts5TDGOObz",
        "colab": {
          "base_uri": "https://localhost:8080/"
        },
        "outputId": "2fd6b264-5410-408c-b970-6a063ddaa1ca"
      },
      "source": [
        "subset = df.iloc[:, small_range]\n",
        "\n",
        "print(subset.head())"
      ],
      "execution_count": 25,
      "outputs": [
        {
          "output_type": "stream",
          "text": [
            "       country continent  year  lifeExp       pop\n",
            "0  Afghanistan      Asia  1952   28.801   8425333\n",
            "1  Afghanistan      Asia  1957   30.332   9240934\n",
            "2  Afghanistan      Asia  1962   31.997  10267083\n",
            "3  Afghanistan      Asia  1967   34.020  11537966\n",
            "4  Afghanistan      Asia  1972   36.088  13079460\n"
          ],
          "name": "stdout"
        }
      ]
    },
    {
      "cell_type": "code",
      "metadata": {
        "id": "mTYq8jdoOObz",
        "colab": {
          "base_uri": "https://localhost:8080/"
        },
        "outputId": "3cf404ba-9a29-4db9-900e-4249b0635819"
      },
      "source": [
        "small_range = list(range(3, 6))\n",
        "\n",
        "print(small_range)"
      ],
      "execution_count": 26,
      "outputs": [
        {
          "output_type": "stream",
          "text": [
            "[3, 4, 5]\n"
          ],
          "name": "stdout"
        }
      ]
    },
    {
      "cell_type": "code",
      "metadata": {
        "id": "WibOr6uKOObz",
        "colab": {
          "base_uri": "https://localhost:8080/"
        },
        "outputId": "e929f5c6-c619-4f28-afbf-b969c090ab36"
      },
      "source": [
        "subset = df.iloc[:, small_range]\n",
        "\n",
        "print(subset.head())"
      ],
      "execution_count": 27,
      "outputs": [
        {
          "output_type": "stream",
          "text": [
            "   lifeExp       pop   gdpPercap\n",
            "0   28.801   8425333  779.445314\n",
            "1   30.332   9240934  820.853030\n",
            "2   31.997  10267083  853.100710\n",
            "3   34.020  11537966  836.197138\n",
            "4   36.088  13079460  739.981106\n"
          ],
          "name": "stdout"
        }
      ]
    },
    {
      "cell_type": "code",
      "metadata": {
        "id": "3l8x5mm7OObz",
        "colab": {
          "base_uri": "https://localhost:8080/"
        },
        "outputId": "aeff22fb-86a4-4b99-f334-37f1a9400206"
      },
      "source": [
        "print(list(range(3)))"
      ],
      "execution_count": 28,
      "outputs": [
        {
          "output_type": "stream",
          "text": [
            "[0, 1, 2]\n"
          ],
          "name": "stdout"
        }
      ]
    },
    {
      "cell_type": "code",
      "metadata": {
        "id": "sUZ7SkwNOOb0",
        "colab": {
          "base_uri": "https://localhost:8080/"
        },
        "outputId": "113b923b-288a-453e-d317-dd3b3fe3c6f6"
      },
      "source": [
        "subset = df.iloc[:, :3]\n",
        "\n",
        "print(subset.head())"
      ],
      "execution_count": 29,
      "outputs": [
        {
          "output_type": "stream",
          "text": [
            "       country continent  year\n",
            "0  Afghanistan      Asia  1952\n",
            "1  Afghanistan      Asia  1957\n",
            "2  Afghanistan      Asia  1962\n",
            "3  Afghanistan      Asia  1967\n",
            "4  Afghanistan      Asia  1972\n"
          ],
          "name": "stdout"
        }
      ]
    },
    {
      "cell_type": "code",
      "metadata": {
        "id": "aDowGt8iOOb0",
        "colab": {
          "base_uri": "https://localhost:8080/"
        },
        "outputId": "fcfe0a40-b472-4229-a451-b7340057a8c1"
      },
      "source": [
        "print(list(range(0, 6, 2)))"
      ],
      "execution_count": 30,
      "outputs": [
        {
          "output_type": "stream",
          "text": [
            "[0, 2, 4]\n"
          ],
          "name": "stdout"
        }
      ]
    },
    {
      "cell_type": "code",
      "metadata": {
        "id": "ZTIHK68_OOb0",
        "colab": {
          "base_uri": "https://localhost:8080/"
        },
        "outputId": "d62e7840-a72d-4358-9327-3339e41e0744"
      },
      "source": [
        "subset = df.iloc[:, 0:6:2]\n",
        "\n",
        "print(subset.head())"
      ],
      "execution_count": 31,
      "outputs": [
        {
          "output_type": "stream",
          "text": [
            "       country  year       pop\n",
            "0  Afghanistan  1952   8425333\n",
            "1  Afghanistan  1957   9240934\n",
            "2  Afghanistan  1962  10267083\n",
            "3  Afghanistan  1967  11537966\n",
            "4  Afghanistan  1972  13079460\n"
          ],
          "name": "stdout"
        }
      ]
    },
    {
      "cell_type": "code",
      "metadata": {
        "id": "tuV6xmdYOOb0",
        "colab": {
          "base_uri": "https://localhost:8080/"
        },
        "outputId": "de533c95-cef5-460b-e46f-9c1d942016ba"
      },
      "source": [
        "print(df.iloc[[0, 99, 999], [0, 3, 5]])"
      ],
      "execution_count": 32,
      "outputs": [
        {
          "output_type": "stream",
          "text": [
            "         country  lifeExp    gdpPercap\n",
            "0    Afghanistan   28.801   779.445314\n",
            "99    Bangladesh   43.453   721.186086\n",
            "999     Mongolia   51.253  1226.041130\n"
          ],
          "name": "stdout"
        }
      ]
    },
    {
      "cell_type": "code",
      "metadata": {
        "id": "Yunb94AIOOb0",
        "colab": {
          "base_uri": "https://localhost:8080/"
        },
        "outputId": "eeab990b-ac24-4f89-e0a8-4744a470dc8d"
      },
      "source": [
        "print(df.loc[10:13, ['country', 'lifeExp', 'gdpPercap']])"
      ],
      "execution_count": 33,
      "outputs": [
        {
          "output_type": "stream",
          "text": [
            "        country  lifeExp    gdpPercap\n",
            "10  Afghanistan   42.129   726.734055\n",
            "11  Afghanistan   43.828   974.580338\n",
            "12      Albania   55.230  1601.056136\n",
            "13      Albania   59.280  1942.284244\n"
          ],
          "name": "stdout"
        }
      ]
    },
    {
      "cell_type": "markdown",
      "metadata": {
        "id": "Jc5wj5cuOOb1"
      },
      "source": [
        "# 그룹화"
      ]
    },
    {
      "cell_type": "code",
      "metadata": {
        "id": "Af09GK2oOOb1",
        "colab": {
          "base_uri": "https://localhost:8080/"
        },
        "outputId": "7ea40ee9-f733-4345-938b-20f2cba6c9e1"
      },
      "source": [
        "print(df.groupby(['year', 'continent'])[['lifeExp', 'gdpPercap']].mean())"
      ],
      "execution_count": 38,
      "outputs": [
        {
          "output_type": "stream",
          "text": [
            "                  lifeExp     gdpPercap\n",
            "year continent                         \n",
            "1952 Africa     39.135500   1252.572466\n",
            "     Americas   53.279840   4079.062552\n",
            "     Asia       46.314394   5195.484004\n",
            "     Europe     64.408500   5661.057435\n",
            "     Oceania    69.255000  10298.085650\n",
            "1957 Africa     41.266346   1385.236062\n",
            "     Americas   55.960280   4616.043733\n",
            "     Asia       49.318544   5787.732940\n",
            "     Europe     66.703067   6963.012816\n",
            "     Oceania    70.295000  11598.522455\n",
            "1962 Africa     43.319442   1598.078825\n",
            "     Americas   58.398760   4901.541870\n",
            "     Asia       51.563223   5729.369625\n",
            "     Europe     68.539233   8365.486814\n",
            "     Oceania    71.085000  12696.452430\n",
            "1967 Africa     45.334538   2050.363801\n",
            "     Americas   60.410920   5668.253496\n",
            "     Asia       54.663640   5971.173374\n",
            "     Europe     69.737600  10143.823757\n",
            "     Oceania    71.310000  14495.021790\n",
            "1972 Africa     47.450942   2339.615674\n",
            "     Americas   62.394920   6491.334139\n",
            "     Asia       57.319269   8187.468699\n",
            "     Europe     70.775033  12479.575246\n",
            "     Oceania    71.910000  16417.333380\n",
            "1977 Africa     49.580423   2585.938508\n",
            "     Americas   64.391560   7352.007126\n",
            "     Asia       59.610556   7791.314020\n",
            "     Europe     71.937767  14283.979110\n",
            "     Oceania    72.855000  17283.957605\n",
            "1982 Africa     51.592865   2481.592960\n",
            "     Americas   66.228840   7506.737088\n",
            "     Asia       62.617939   7434.135157\n",
            "     Europe     72.806400  15617.896551\n",
            "     Oceania    74.290000  18554.709840\n",
            "1987 Africa     53.344788   2282.668991\n",
            "     Americas   68.090720   7793.400261\n",
            "     Asia       64.851182   7608.226508\n",
            "     Europe     73.642167  17214.310727\n",
            "     Oceania    75.320000  20448.040160\n",
            "1992 Africa     53.629577   2281.810333\n",
            "     Americas   69.568360   8044.934406\n",
            "     Asia       66.537212   8639.690248\n",
            "     Europe     74.440100  17061.568084\n",
            "     Oceania    76.945000  20894.045885\n",
            "1997 Africa     53.598269   2378.759555\n",
            "     Americas   71.150480   8889.300863\n",
            "     Asia       68.020515   9834.093295\n",
            "     Europe     75.505167  19076.781802\n",
            "     Oceania    78.190000  24024.175170\n",
            "2002 Africa     53.325231   2599.385159\n",
            "     Americas   72.422040   9287.677107\n",
            "     Asia       69.233879  10174.090397\n",
            "     Europe     76.700600  21711.732422\n",
            "     Oceania    79.740000  26938.778040\n",
            "2007 Africa     54.806038   3089.032605\n",
            "     Americas   73.608120  11003.031625\n",
            "     Asia       70.728485  12473.026870\n",
            "     Europe     77.648600  25054.481636\n",
            "     Oceania    80.719500  29810.188275\n"
          ],
          "name": "stdout"
        }
      ]
    },
    {
      "cell_type": "code",
      "metadata": {
        "id": "H_sRuHCTOOb1",
        "colab": {
          "base_uri": "https://localhost:8080/"
        },
        "outputId": "5d19ae22-909e-4f85-b258-ab21e0de7cfe"
      },
      "source": [
        "print(df.groupby('continent')['country'].nunique()) # 빈도수"
      ],
      "execution_count": 35,
      "outputs": [
        {
          "output_type": "stream",
          "text": [
            "continent\n",
            "Africa      52\n",
            "Americas    25\n",
            "Asia        33\n",
            "Europe      30\n",
            "Oceania      2\n",
            "Name: country, dtype: int64\n"
          ],
          "name": "stdout"
        }
      ]
    },
    {
      "cell_type": "markdown",
      "metadata": {
        "id": "F9NJsmQ-OOb1"
      },
      "source": [
        "# 시각화"
      ]
    },
    {
      "cell_type": "code",
      "metadata": {
        "id": "ftXEYyZzOOb1",
        "colab": {
          "base_uri": "https://localhost:8080/",
          "height": 534
        },
        "outputId": "8cefe466-560c-4bb9-9618-8e0d1f43b94e"
      },
      "source": [
        "%matplotlib inline\n",
        "import matplotlib.pyplot as plt\n",
        "\n",
        "global_yearly_life_expectancy = df.groupby('year')['lifeExp'].mean()\n",
        "print(global_yearly_life_expectancy)\n",
        "\n",
        "global_yearly_life_expectancy.plot()"
      ],
      "execution_count": 36,
      "outputs": [
        {
          "output_type": "stream",
          "text": [
            "year\n",
            "1952    49.057620\n",
            "1957    51.507401\n",
            "1962    53.609249\n",
            "1967    55.678290\n",
            "1972    57.647386\n",
            "1977    59.570157\n",
            "1982    61.533197\n",
            "1987    63.212613\n",
            "1992    64.160338\n",
            "1997    65.014676\n",
            "2002    65.694923\n",
            "2007    67.007423\n",
            "Name: lifeExp, dtype: float64\n"
          ],
          "name": "stdout"
        },
        {
          "output_type": "execute_result",
          "data": {
            "text/plain": [
              "<matplotlib.axes._subplots.AxesSubplot at 0x7f1d8119c610>"
            ]
          },
          "metadata": {
            "tags": []
          },
          "execution_count": 36
        },
        {
          "output_type": "display_data",
          "data": {
            "image/png": "[encoded data removed]",
            "text/plain": [
              "<Figure size 432x288 with 1 Axes>"
            ]
          },
          "metadata": {
            "tags": [],
            "needs_background": "light"
          }
        }
      ]
    }
  ]
}