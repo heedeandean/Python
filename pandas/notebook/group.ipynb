{
  "nbformat": 4,
  "nbformat_minor": 0,
  "metadata": {
    "kernelspec": {
      "display_name": "Python 3",
      "language": "python",
      "name": "python3"
    },
    "language_info": {
      "codemirror_mode": {
        "name": "ipython",
        "version": 3
      },
      "file_extension": ".py",
      "mimetype": "text/x-python",
      "name": "python",
      "nbconvert_exporter": "python",
      "pygments_lexer": "ipython3",
      "version": "3.6.5"
    },
    "colab": {
      "name": "11_practice.ipynb",
      "provenance": [],
      "collapsed_sections": [],
      "toc_visible": true
    }
  },
  "cells": [
    {
      "cell_type": "code",
      "metadata": {
        "colab": {
          "base_uri": "https://localhost:8080/"
        },
        "id": "SarliEj5-y1q",
        "outputId": "3160754d-d1a5-40c5-e820-71d0aa2c1550"
      },
      "source": [
        "import pandas as pd\n",
        "\n",
        "df = pd.read_csv('./gapminder.tsv', sep='\\t')\n",
        "\n",
        "avg_life_exp_by_year = df.groupby('year').lifeExp.mean()\n",
        "print(avg_life_exp_by_year)"
      ],
      "execution_count": 47,
      "outputs": [
        {
          "output_type": "stream",
          "text": [
            "year\n",
            "1952    49.057620\n",
            "1957    51.507401\n",
            "1962    53.609249\n",
            "1967    55.678290\n",
            "1972    57.647386\n",
            "1977    59.570157\n",
            "1982    61.533197\n",
            "1987    63.212613\n",
            "1992    64.160338\n",
            "1997    65.014676\n",
            "2002    65.694923\n",
            "2007    67.007423\n",
            "Name: lifeExp, dtype: float64\n"
          ],
          "name": "stdout"
        }
      ]
    },
    {
      "cell_type": "code",
      "metadata": {
        "colab": {
          "base_uri": "https://localhost:8080/"
        },
        "id": "Ws8Pr_ZK-y1r",
        "outputId": "f6b693dc-741d-4200-c09c-6a62aae79781"
      },
      "source": [
        "def my_mean(values):\n",
        "\n",
        "  n = len(values)\n",
        "  sum = 0\n",
        "\n",
        "  for value in values:\n",
        "    sum += value\n",
        "\n",
        "  return sum / n\n",
        "\n",
        "agg_my_mean = df.groupby('year').lifeExp.agg(my_mean)\n",
        "print(agg_my_mean)"
      ],
      "execution_count": 48,
      "outputs": [
        {
          "output_type": "stream",
          "text": [
            "year\n",
            "1952    49.057620\n",
            "1957    51.507401\n",
            "1962    53.609249\n",
            "1967    55.678290\n",
            "1972    57.647386\n",
            "1977    59.570157\n",
            "1982    61.533197\n",
            "1987    63.212613\n",
            "1992    64.160338\n",
            "1997    65.014676\n",
            "2002    65.694923\n",
            "2007    67.007423\n",
            "Name: lifeExp, dtype: float64\n"
          ],
          "name": "stdout"
        }
      ]
    },
    {
      "cell_type": "code",
      "metadata": {
        "id": "s7wV5-nu-y1r"
      },
      "source": [
        "def my_mean_diff(values, diff_value):\n",
        "  \n",
        "  n = len(values)\n",
        "  sum = 0\n",
        "  \n",
        "  for value in values:\n",
        "    sum += value\n",
        "\n",
        "  mean = sum / n\n",
        "  \n",
        "  return mean - diff_value"
      ],
      "execution_count": 49,
      "outputs": []
    },
    {
      "cell_type": "code",
      "metadata": {
        "colab": {
          "base_uri": "https://localhost:8080/"
        },
        "id": "nfMu92AaQBYg",
        "outputId": "8944944e-5572-4627-9aa0-725e0584b0ed"
      },
      "source": [
        "global_mean = df.lifeExp.mean()\n",
        "print(global_mean)"
      ],
      "execution_count": 50,
      "outputs": [
        {
          "output_type": "stream",
          "text": [
            "59.47443936619713\n"
          ],
          "name": "stdout"
        }
      ]
    },
    {
      "cell_type": "code",
      "metadata": {
        "colab": {
          "base_uri": "https://localhost:8080/"
        },
        "id": "mbl6DEcEQIpk",
        "outputId": "874803b3-6b1b-4060-8d09-b4c4a313a0f8"
      },
      "source": [
        "agg_mean_diff = df.groupby('year').lifeExp.agg(my_mean_diff, diff_value=global_mean)\n",
        "print(agg_mean_diff)"
      ],
      "execution_count": 51,
      "outputs": [
        {
          "output_type": "stream",
          "text": [
            "year\n",
            "1952   -10.416820\n",
            "1957    -7.967038\n",
            "1962    -5.865190\n",
            "1967    -3.796150\n",
            "1972    -1.827053\n",
            "1977     0.095718\n",
            "1982     2.058758\n",
            "1987     3.738173\n",
            "1992     4.685899\n",
            "1997     5.540237\n",
            "2002     6.220483\n",
            "2007     7.532983\n",
            "Name: lifeExp, dtype: float64\n"
          ],
          "name": "stdout"
        }
      ]
    },
    {
      "cell_type": "code",
      "metadata": {
        "colab": {
          "base_uri": "https://localhost:8080/"
        },
        "id": "_JAccV3o-y1r",
        "outputId": "cbdfefd3-1005-4721-c4f1-0a59a1cbb367"
      },
      "source": [
        "import numpy as np\n",
        "\n",
        "gdf = df.groupby('year').lifeExp.agg([np.count_nonzero, np.mean, np.std])\n",
        "print(gdf)"
      ],
      "execution_count": 52,
      "outputs": [
        {
          "output_type": "stream",
          "text": [
            "      count_nonzero       mean        std\n",
            "year                                     \n",
            "1952          142.0  49.057620  12.225956\n",
            "1957          142.0  51.507401  12.231286\n",
            "1962          142.0  53.609249  12.097245\n",
            "1967          142.0  55.678290  11.718858\n",
            "1972          142.0  57.647386  11.381953\n",
            "1977          142.0  59.570157  11.227229\n",
            "1982          142.0  61.533197  10.770618\n",
            "1987          142.0  63.212613  10.556285\n",
            "1992          142.0  64.160338  11.227380\n",
            "1997          142.0  65.014676  11.559439\n",
            "2002          142.0  65.694923  12.279823\n",
            "2007          142.0  67.007423  12.073021\n"
          ],
          "name": "stdout"
        }
      ]
    },
    {
      "cell_type": "code",
      "metadata": {
        "colab": {
          "base_uri": "https://localhost:8080/"
        },
        "id": "khpq0hToQ6Wi",
        "outputId": "474fcc5b-9f0f-4d22-daa3-e15695947189"
      },
      "source": [
        "gdf_dict = df.groupby('year').agg({'lifeExp': 'mean', \n",
        "                                   'pop': 'median', \n",
        "                                   'gdpPercap': 'median'})\n",
        "print(gdf_dict)"
      ],
      "execution_count": 53,
      "outputs": [
        {
          "output_type": "stream",
          "text": [
            "        lifeExp         pop    gdpPercap\n",
            "year                                    \n",
            "1952  49.057620   3943953.0  1968.528344\n",
            "1957  51.507401   4282942.0  2173.220291\n",
            "1962  53.609249   4686039.5  2335.439533\n",
            "1967  55.678290   5170175.5  2678.334741\n",
            "1972  57.647386   5877996.5  3339.129407\n",
            "1977  59.570157   6404036.5  3798.609244\n",
            "1982  61.533197   7007320.0  4216.228428\n",
            "1987  63.212613   7774861.5  4280.300366\n",
            "1992  64.160338   8688686.5  4386.085502\n",
            "1997  65.014676   9735063.5  4781.825478\n",
            "2002  65.694923  10372918.5  5319.804524\n",
            "2007  67.007423  10517531.0  6124.371109\n"
          ],
          "name": "stdout"
        }
      ]
    },
    {
      "cell_type": "markdown",
      "metadata": {
        "id": "2a87lxjC-y1r"
      },
      "source": [
        "# 표준 점수(= Z점수 = z-점수) 계산"
      ]
    },
    {
      "cell_type": "code",
      "metadata": {
        "id": "y0d6tc2s-y1r"
      },
      "source": [
        "def my_zscore(x):\n",
        "  return (x - x.mean()) / x.std()"
      ],
      "execution_count": 54,
      "outputs": []
    },
    {
      "cell_type": "code",
      "metadata": {
        "colab": {
          "base_uri": "https://localhost:8080/"
        },
        "id": "GQ24RbMgS7H3",
        "outputId": "9409732c-b8bf-4d2c-dbab-c879cf50da96"
      },
      "source": [
        "transform_z = df.groupby('year').lifeExp.transform(my_zscore)\n",
        "print(transform_z.head())"
      ],
      "execution_count": 55,
      "outputs": [
        {
          "output_type": "stream",
          "text": [
            "0   -1.656854\n",
            "1   -1.731249\n",
            "2   -1.786543\n",
            "3   -1.848157\n",
            "4   -1.894173\n",
            "Name: lifeExp, dtype: float64\n"
          ],
          "name": "stdout"
        }
      ]
    },
    {
      "cell_type": "code",
      "metadata": {
        "colab": {
          "base_uri": "https://localhost:8080/"
        },
        "id": "6hxq2H---y1r",
        "outputId": "995b0ded-b43a-465c-d604-c804e1f33f36"
      },
      "source": [
        "import seaborn as sns\n",
        "\n",
        "np.random.seed(42)\n",
        "\n",
        "tips_10 = sns.load_dataset('tips').sample(10)\n",
        "tips_10.loc[np.random.permutation(tips_10.index)[:4], 'total_bill'] = np.nan\n",
        "print(tips_10)"
      ],
      "execution_count": 56,
      "outputs": [
        {
          "output_type": "stream",
          "text": [
            "     total_bill   tip     sex smoker   day    time  size\n",
            "24        19.82  3.18    Male     No   Sat  Dinner     2\n",
            "6          8.77  2.00    Male     No   Sun  Dinner     2\n",
            "153         NaN  2.00    Male     No   Sun  Dinner     4\n",
            "211         NaN  5.16    Male    Yes   Sat  Dinner     4\n",
            "198         NaN  2.00  Female    Yes  Thur   Lunch     2\n",
            "176         NaN  2.00    Male    Yes   Sun  Dinner     2\n",
            "192       28.44  2.56    Male    Yes  Thur   Lunch     2\n",
            "124       12.48  2.52  Female     No  Thur   Lunch     2\n",
            "9         14.78  3.23    Male     No   Sun  Dinner     2\n",
            "101       15.38  3.00  Female    Yes   Fri  Dinner     2\n"
          ],
          "name": "stdout"
        }
      ]
    },
    {
      "cell_type": "code",
      "metadata": {
        "colab": {
          "base_uri": "https://localhost:8080/"
        },
        "id": "n65aooHlUm5e",
        "outputId": "7c60873f-52f5-4f63-e1b9-217e22773867"
      },
      "source": [
        "count_sex = tips_10.groupby('sex').count() # 누락값 제외 수 (cf. size() : 누락값 포함 수)\n",
        "print(count_sex)"
      ],
      "execution_count": 57,
      "outputs": [
        {
          "output_type": "stream",
          "text": [
            "        total_bill  tip  smoker  day  time  size\n",
            "sex                                             \n",
            "Male             4    7       7    7     7     7\n",
            "Female           2    3       3    3     3     3\n"
          ],
          "name": "stdout"
        }
      ]
    },
    {
      "cell_type": "code",
      "metadata": {
        "colab": {
          "base_uri": "https://localhost:8080/"
        },
        "id": "kuxOZtvRVayO",
        "outputId": "3bedb092-cf60-4bfe-837c-f222881db577"
      },
      "source": [
        "# 성별에 따라 누락값을 평균값으로 처리\n",
        "\n",
        "def fill_na_mean(x):\n",
        "  avg = x.mean()\n",
        "  \n",
        "  return x.fillna(avg)\n",
        "\n",
        "total_bill_group_mean = tips_10.groupby('sex').total_bill.transform(fill_na_mean)\n",
        "\n",
        "tips_10['fill_total_bill'] = total_bill_group_mean\n",
        "print(tips_10)"
      ],
      "execution_count": 58,
      "outputs": [
        {
          "output_type": "stream",
          "text": [
            "     total_bill   tip     sex smoker   day    time  size  fill_total_bill\n",
            "24        19.82  3.18    Male     No   Sat  Dinner     2          19.8200\n",
            "6          8.77  2.00    Male     No   Sun  Dinner     2           8.7700\n",
            "153         NaN  2.00    Male     No   Sun  Dinner     4          17.9525\n",
            "211         NaN  5.16    Male    Yes   Sat  Dinner     4          17.9525\n",
            "198         NaN  2.00  Female    Yes  Thur   Lunch     2          13.9300\n",
            "176         NaN  2.00    Male    Yes   Sun  Dinner     2          17.9525\n",
            "192       28.44  2.56    Male    Yes  Thur   Lunch     2          28.4400\n",
            "124       12.48  2.52  Female     No  Thur   Lunch     2          12.4800\n",
            "9         14.78  3.23    Male     No   Sun  Dinner     2          14.7800\n",
            "101       15.38  3.00  Female    Yes   Fri  Dinner     2          15.3800\n"
          ],
          "name": "stdout"
        }
      ]
    },
    {
      "cell_type": "code",
      "metadata": {
        "colab": {
          "base_uri": "https://localhost:8080/"
        },
        "id": "57clUEL4-y1s",
        "outputId": "328aa66e-21b1-454a-a761-06229c52ac31"
      },
      "source": [
        "tips = sns.load_dataset('tips')\n",
        "print(tips.shape)"
      ],
      "execution_count": 59,
      "outputs": [
        {
          "output_type": "stream",
          "text": [
            "(244, 7)\n"
          ],
          "name": "stdout"
        }
      ]
    },
    {
      "cell_type": "code",
      "metadata": {
        "colab": {
          "base_uri": "https://localhost:8080/"
        },
        "id": "YevRKo83XrY4",
        "outputId": "6f4d0b47-c912-4f49-8d1b-02f0f65c516d"
      },
      "source": [
        "print(tips['size'].value_counts())"
      ],
      "execution_count": 60,
      "outputs": [
        {
          "output_type": "stream",
          "text": [
            "2    156\n",
            "3     38\n",
            "4     37\n",
            "5      5\n",
            "6      4\n",
            "1      4\n",
            "Name: size, dtype: int64\n"
          ],
          "name": "stdout"
        }
      ]
    },
    {
      "cell_type": "code",
      "metadata": {
        "colab": {
          "base_uri": "https://localhost:8080/"
        },
        "id": "J4oNe73cX6Tq",
        "outputId": "53251af3-f691-479e-eb34-1856bce6ecce"
      },
      "source": [
        "# 주문이 30번 이상인 테이블 filter\n",
        "tips_filtered = tips.groupby('size').filter(lambda x: x['size'].count() >= 30)\n",
        "\n",
        "print(tips_filtered.shape)"
      ],
      "execution_count": 61,
      "outputs": [
        {
          "output_type": "stream",
          "text": [
            "(231, 7)\n"
          ],
          "name": "stdout"
        }
      ]
    },
    {
      "cell_type": "code",
      "metadata": {
        "colab": {
          "base_uri": "https://localhost:8080/"
        },
        "id": "lmd7U2l5XgR6",
        "outputId": "72d8e572-fa3e-42fe-c0c1-b3052e47979a"
      },
      "source": [
        "print(tips_filtered['size'].value_counts())"
      ],
      "execution_count": 62,
      "outputs": [
        {
          "output_type": "stream",
          "text": [
            "2    156\n",
            "3     38\n",
            "4     37\n",
            "Name: size, dtype: int64\n"
          ],
          "name": "stdout"
        }
      ]
    },
    {
      "cell_type": "markdown",
      "metadata": {
        "id": "2X4dn0Xm-y1s"
      },
      "source": [
        "# 그룹 오브젝트(DataFrameGroupBy) : groupby 반환 자료형"
      ]
    },
    {
      "cell_type": "code",
      "metadata": {
        "colab": {
          "base_uri": "https://localhost:8080/"
        },
        "id": "NPW4WKAU-y1s",
        "outputId": "a0d1f72f-6fa0-4833-b7da-25e9524197a8"
      },
      "source": [
        "tips_10 = sns.load_dataset('tips').sample(10, random_state=42)\n",
        "print(tips_10)"
      ],
      "execution_count": 63,
      "outputs": [
        {
          "output_type": "stream",
          "text": [
            "     total_bill   tip     sex smoker   day    time  size\n",
            "24        19.82  3.18    Male     No   Sat  Dinner     2\n",
            "6          8.77  2.00    Male     No   Sun  Dinner     2\n",
            "153       24.55  2.00    Male     No   Sun  Dinner     4\n",
            "211       25.89  5.16    Male    Yes   Sat  Dinner     4\n",
            "198       13.00  2.00  Female    Yes  Thur   Lunch     2\n",
            "176       17.89  2.00    Male    Yes   Sun  Dinner     2\n",
            "192       28.44  2.56    Male    Yes  Thur   Lunch     2\n",
            "124       12.48  2.52  Female     No  Thur   Lunch     2\n",
            "9         14.78  3.23    Male     No   Sun  Dinner     2\n",
            "101       15.38  3.00  Female    Yes   Fri  Dinner     2\n"
          ],
          "name": "stdout"
        }
      ]
    },
    {
      "cell_type": "code",
      "metadata": {
        "colab": {
          "base_uri": "https://localhost:8080/"
        },
        "id": "Cl20mbVKaN7Y",
        "outputId": "2524f33a-17bb-471f-b42f-91624fa8b9fc"
      },
      "source": [
        "grouped = tips_10.groupby('sex')\n",
        "print(grouped)"
      ],
      "execution_count": 64,
      "outputs": [
        {
          "output_type": "stream",
          "text": [
            "<pandas.core.groupby.generic.DataFrameGroupBy object at 0x7f4f3c394250>\n"
          ],
          "name": "stdout"
        }
      ]
    },
    {
      "cell_type": "code",
      "metadata": {
        "colab": {
          "base_uri": "https://localhost:8080/"
        },
        "id": "M2VkvcaxaheQ",
        "outputId": "c5f7d48a-07ca-4bfb-dd80-79849249a749"
      },
      "source": [
        "print(grouped.groups)"
      ],
      "execution_count": 65,
      "outputs": [
        {
          "output_type": "stream",
          "text": [
            "{'Male': [24, 6, 153, 211, 176, 192, 9], 'Female': [198, 124, 101]}\n"
          ],
          "name": "stdout"
        }
      ]
    },
    {
      "cell_type": "code",
      "metadata": {
        "colab": {
          "base_uri": "https://localhost:8080/"
        },
        "id": "iqnPt0PJ-y1s",
        "outputId": "66afd391-85ad-41d2-98c9-749cb0b69f1d"
      },
      "source": [
        "avgs = grouped.mean() # 숫자형의 데이터만 찾아서 계산\n",
        "print(avgs)"
      ],
      "execution_count": 66,
      "outputs": [
        {
          "output_type": "stream",
          "text": [
            "        total_bill       tip      size\n",
            "sex                                   \n",
            "Male         20.02  2.875714  2.571429\n",
            "Female       13.62  2.506667  2.000000\n"
          ],
          "name": "stdout"
        }
      ]
    },
    {
      "cell_type": "code",
      "metadata": {
        "colab": {
          "base_uri": "https://localhost:8080/"
        },
        "id": "tUJg0y3Kb4YQ",
        "outputId": "26d6d52b-7e87-4c89-8f9a-f23b8e36b462"
      },
      "source": [
        "female = grouped.get_group('Female')\n",
        "print(female)"
      ],
      "execution_count": 67,
      "outputs": [
        {
          "output_type": "stream",
          "text": [
            "     total_bill   tip     sex smoker   day    time  size\n",
            "198       13.00  2.00  Female    Yes  Thur   Lunch     2\n",
            "124       12.48  2.52  Female     No  Thur   Lunch     2\n",
            "101       15.38  3.00  Female    Yes   Fri  Dinner     2\n"
          ],
          "name": "stdout"
        }
      ]
    },
    {
      "cell_type": "code",
      "metadata": {
        "colab": {
          "base_uri": "https://localhost:8080/"
        },
        "id": "OQcMcB_2b_d3",
        "outputId": "4328d7cc-4ef1-4c9b-c664-9b7bc6c10876"
      },
      "source": [
        "for sex_group in grouped:\n",
        "  print(sex_group)"
      ],
      "execution_count": 68,
      "outputs": [
        {
          "output_type": "stream",
          "text": [
            "('Male',      total_bill   tip   sex smoker   day    time  size\n",
            "24        19.82  3.18  Male     No   Sat  Dinner     2\n",
            "6          8.77  2.00  Male     No   Sun  Dinner     2\n",
            "153       24.55  2.00  Male     No   Sun  Dinner     4\n",
            "211       25.89  5.16  Male    Yes   Sat  Dinner     4\n",
            "176       17.89  2.00  Male    Yes   Sun  Dinner     2\n",
            "192       28.44  2.56  Male    Yes  Thur   Lunch     2\n",
            "9         14.78  3.23  Male     No   Sun  Dinner     2)\n",
            "('Female',      total_bill   tip     sex smoker   day    time  size\n",
            "198       13.00  2.00  Female    Yes  Thur   Lunch     2\n",
            "124       12.48  2.52  Female     No  Thur   Lunch     2\n",
            "101       15.38  3.00  Female    Yes   Fri  Dinner     2)\n"
          ],
          "name": "stdout"
        }
      ]
    },
    {
      "cell_type": "code",
      "metadata": {
        "colab": {
          "base_uri": "https://localhost:8080/"
        },
        "id": "q379FDrN-y1s",
        "outputId": "3f835eff-dd97-40a5-9ff4-d33d55812529"
      },
      "source": [
        "for sex_group in grouped:\n",
        "  print('the type is: {}\\n'.format(type(sex_group)))\n",
        "  print('the length is: {}\\n'.format(len(sex_group)))\n",
        "\n",
        "  print('the first element is: {}\\n'.format(sex_group[0]))\n",
        "  print('the has a type of: {}\\n'.format(type(sex_group[0])))\n",
        "\n",
        "  print('the second element is: \\n{}\\n'.format(sex_group[1]))\n",
        "  print('the has a type of: {}\\n'.format(type(sex_group[1])))\n",
        "\n",
        "  print('what we have:')\n",
        "  print(sex_group)\n",
        "\n",
        "  break"
      ],
      "execution_count": 69,
      "outputs": [
        {
          "output_type": "stream",
          "text": [
            "the type is: <class 'tuple'>\n",
            "\n",
            "the length is: 2\n",
            "\n",
            "the first element is: Male\n",
            "\n",
            "the has a type of: <class 'str'>\n",
            "\n",
            "the second element is: \n",
            "     total_bill   tip   sex smoker   day    time  size\n",
            "24        19.82  3.18  Male     No   Sat  Dinner     2\n",
            "6          8.77  2.00  Male     No   Sun  Dinner     2\n",
            "153       24.55  2.00  Male     No   Sun  Dinner     4\n",
            "211       25.89  5.16  Male    Yes   Sat  Dinner     4\n",
            "176       17.89  2.00  Male    Yes   Sun  Dinner     2\n",
            "192       28.44  2.56  Male    Yes  Thur   Lunch     2\n",
            "9         14.78  3.23  Male     No   Sun  Dinner     2\n",
            "\n",
            "the has a type of: <class 'pandas.core.frame.DataFrame'>\n",
            "\n",
            "what we have:\n",
            "('Male',      total_bill   tip   sex smoker   day    time  size\n",
            "24        19.82  3.18  Male     No   Sat  Dinner     2\n",
            "6          8.77  2.00  Male     No   Sun  Dinner     2\n",
            "153       24.55  2.00  Male     No   Sun  Dinner     4\n",
            "211       25.89  5.16  Male    Yes   Sat  Dinner     4\n",
            "176       17.89  2.00  Male    Yes   Sun  Dinner     2\n",
            "192       28.44  2.56  Male    Yes  Thur   Lunch     2\n",
            "9         14.78  3.23  Male     No   Sun  Dinner     2)\n"
          ],
          "name": "stdout"
        }
      ]
    },
    {
      "cell_type": "code",
      "metadata": {
        "colab": {
          "base_uri": "https://localhost:8080/"
        },
        "id": "jixmHYoq-y1s",
        "outputId": "0b1936bc-98dc-45a8-c8d2-1f4722e812a3"
      },
      "source": [
        "bill_sex_time = tips_10.groupby(['sex', 'time'])\n",
        "group_avg = bill_sex_time.mean()\n",
        "\n",
        "print(group_avg)"
      ],
      "execution_count": 70,
      "outputs": [
        {
          "output_type": "stream",
          "text": [
            "               total_bill       tip      size\n",
            "sex    time                                  \n",
            "Male   Lunch    28.440000  2.560000  2.000000\n",
            "       Dinner   18.616667  2.928333  2.666667\n",
            "Female Lunch    12.740000  2.260000  2.000000\n",
            "       Dinner   15.380000  3.000000  2.000000\n"
          ],
          "name": "stdout"
        }
      ]
    },
    {
      "cell_type": "code",
      "metadata": {
        "colab": {
          "base_uri": "https://localhost:8080/"
        },
        "id": "TjVBZJJKfH89",
        "outputId": "063ce8bb-f1a3-4638-e4bc-0380f0ac10ab"
      },
      "source": [
        "print(type(group_avg))"
      ],
      "execution_count": 71,
      "outputs": [
        {
          "output_type": "stream",
          "text": [
            "<class 'pandas.core.frame.DataFrame'>\n"
          ],
          "name": "stdout"
        }
      ]
    },
    {
      "cell_type": "code",
      "metadata": {
        "colab": {
          "base_uri": "https://localhost:8080/"
        },
        "id": "CLibIKRRfbmZ",
        "outputId": "e105668f-1c2c-4682-9875-f8c57cf77219"
      },
      "source": [
        "print(group_avg.columns)"
      ],
      "execution_count": 72,
      "outputs": [
        {
          "output_type": "stream",
          "text": [
            "Index(['total_bill', 'tip', 'size'], dtype='object')\n"
          ],
          "name": "stdout"
        }
      ]
    },
    {
      "cell_type": "code",
      "metadata": {
        "colab": {
          "base_uri": "https://localhost:8080/"
        },
        "id": "YPuiG1fXfg4y",
        "outputId": "64b3a371-ab50-46a3-c436-c6e1d93e805a"
      },
      "source": [
        "print(group_avg.index)"
      ],
      "execution_count": 73,
      "outputs": [
        {
          "output_type": "stream",
          "text": [
            "MultiIndex([(  'Male',  'Lunch'),\n",
            "            (  'Male', 'Dinner'),\n",
            "            ('Female',  'Lunch'),\n",
            "            ('Female', 'Dinner')],\n",
            "           names=['sex', 'time'])\n"
          ],
          "name": "stdout"
        }
      ]
    },
    {
      "cell_type": "code",
      "metadata": {
        "colab": {
          "base_uri": "https://localhost:8080/"
        },
        "id": "I_Vm3Wxzgapr",
        "outputId": "504f7851-0164-4a1b-93a9-a2450a3684cc"
      },
      "source": [
        "# 1.\n",
        "group_method = tips_10.groupby(['sex', 'time']).mean().reset_index()\n",
        "print(group_method)"
      ],
      "execution_count": 74,
      "outputs": [
        {
          "output_type": "stream",
          "text": [
            "      sex    time  total_bill       tip      size\n",
            "0    Male   Lunch   28.440000  2.560000  2.000000\n",
            "1    Male  Dinner   18.616667  2.928333  2.666667\n",
            "2  Female   Lunch   12.740000  2.260000  2.000000\n",
            "3  Female  Dinner   15.380000  3.000000  2.000000\n"
          ],
          "name": "stdout"
        }
      ]
    },
    {
      "cell_type": "code",
      "metadata": {
        "colab": {
          "base_uri": "https://localhost:8080/"
        },
        "id": "u9SG1xT6hAfA",
        "outputId": "896eeb50-8a7e-4ac0-f6d0-b743014df311"
      },
      "source": [
        "# 2.\n",
        "group_param = tips_10.groupby(['sex', 'time'], as_index=False).mean()\n",
        "print(group_param)"
      ],
      "execution_count": 75,
      "outputs": [
        {
          "output_type": "stream",
          "text": [
            "      sex    time  total_bill       tip      size\n",
            "0    Male   Lunch   28.440000  2.560000  2.000000\n",
            "1    Male  Dinner   18.616667  2.928333  2.666667\n",
            "2  Female   Lunch   12.740000  2.260000  2.000000\n",
            "3  Female  Dinner   15.380000  3.000000  2.000000\n"
          ],
          "name": "stdout"
        }
      ]
    }
  ]
}