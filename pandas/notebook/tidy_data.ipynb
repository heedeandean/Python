{
  "nbformat": 4,
  "nbformat_minor": 0,
  "metadata": {
    "kernelspec": {
      "display_name": "Python 3",
      "language": "python",
      "name": "python3"
    },
    "language_info": {
      "codemirror_mode": {
        "name": "ipython",
        "version": 3
      },
      "file_extension": ".py",
      "mimetype": "text/x-python",
      "name": "python",
      "nbconvert_exporter": "python",
      "pygments_lexer": "ipython3",
      "version": "3.6.5"
    },
    "colab": {
      "name": "07_practice.ipynb",
      "provenance": [],
      "collapsed_sections": [],
      "toc_visible": true
    }
  },
  "cells": [
    {
      "cell_type": "markdown",
      "metadata": {
        "id": "e-Cmz0bd2FfK"
      },
      "source": [
        "# 1개의 열(religion)만 고정하고 나머지 열을 행으로 바꾸기 - 피벗"
      ]
    },
    {
      "cell_type": "code",
      "metadata": {
        "colab": {
          "base_uri": "https://localhost:8080/"
        },
        "id": "sIVmz0iw2FfM",
        "outputId": "5332f66d-2067-4ad5-d046-f9d9c9e70718"
      },
      "source": [
        "import pandas as pd\n",
        "\n",
        "pew = pd.read_csv('./pew.csv')\n",
        "print(pew.head())"
      ],
      "execution_count": 56,
      "outputs": [
        {
          "output_type": "stream",
          "text": [
            "             religion  <$10k  $10-20k  ...  $100-150k  >150k  Don't know/refused\n",
            "0            Agnostic     27       34  ...        109     84                  96\n",
            "1             Atheist     12       27  ...         59     74                  76\n",
            "2            Buddhist     27       21  ...         39     53                  54\n",
            "3            Catholic    418      617  ...        792    633                1489\n",
            "4  Don’t know/refused     15       14  ...         17     18                 116\n",
            "\n",
            "[5 rows x 11 columns]\n"
          ],
          "name": "stdout"
        }
      ]
    },
    {
      "cell_type": "code",
      "metadata": {
        "colab": {
          "base_uri": "https://localhost:8080/"
        },
        "id": "349kEbr22cog",
        "outputId": "5660131c-15e7-4cc7-8fb8-6cd6e95031c5"
      },
      "source": [
        "print(pew.iloc[:, 0:6])"
      ],
      "execution_count": 57,
      "outputs": [
        {
          "output_type": "stream",
          "text": [
            "                   religion  <$10k  $10-20k  $20-30k  $30-40k  $40-50k\n",
            "0                  Agnostic     27       34       60       81       76\n",
            "1                   Atheist     12       27       37       52       35\n",
            "2                  Buddhist     27       21       30       34       33\n",
            "3                  Catholic    418      617      732      670      638\n",
            "4        Don’t know/refused     15       14       15       11       10\n",
            "5          Evangelical Prot    575      869     1064      982      881\n",
            "6                     Hindu      1        9        7        9       11\n",
            "7   Historically Black Prot    228      244      236      238      197\n",
            "8         Jehovah's Witness     20       27       24       24       21\n",
            "9                    Jewish     19       19       25       25       30\n",
            "10            Mainline Prot    289      495      619      655      651\n",
            "11                   Mormon     29       40       48       51       56\n",
            "12                   Muslim      6        7        9       10        9\n",
            "13                 Orthodox     13       17       23       32       32\n",
            "14          Other Christian      9        7       11       13       13\n",
            "15             Other Faiths     20       33       40       46       49\n",
            "16    Other World Religions      5        2        3        4        2\n",
            "17             Unaffiliated    217      299      374      365      341\n"
          ],
          "name": "stdout"
        }
      ]
    },
    {
      "cell_type": "code",
      "metadata": {
        "colab": {
          "base_uri": "https://localhost:8080/"
        },
        "id": "ZL61m7lL28Sp",
        "outputId": "0c4c0bde-22fe-4852-e761-1799e62036d6"
      },
      "source": [
        "pew_long = pd.melt(pew, id_vars='religion')\n",
        "print(pew_long.head())"
      ],
      "execution_count": 58,
      "outputs": [
        {
          "output_type": "stream",
          "text": [
            "             religion variable  value\n",
            "0            Agnostic    <$10k     27\n",
            "1             Atheist    <$10k     12\n",
            "2            Buddhist    <$10k     27\n",
            "3            Catholic    <$10k    418\n",
            "4  Don’t know/refused    <$10k     15\n"
          ],
          "name": "stdout"
        }
      ]
    },
    {
      "cell_type": "code",
      "metadata": {
        "colab": {
          "base_uri": "https://localhost:8080/"
        },
        "id": "o1GdkFby-_t1",
        "outputId": "344a3ca8-7bd3-4e36-a9da-4ee16e16db11"
      },
      "source": [
        "pew_long = pd.melt(pew, id_vars='religion', var_name='income', value_name='count')\n",
        "print(pew_long.head())"
      ],
      "execution_count": 59,
      "outputs": [
        {
          "output_type": "stream",
          "text": [
            "             religion income  count\n",
            "0            Agnostic  <$10k     27\n",
            "1             Atheist  <$10k     12\n",
            "2            Buddhist  <$10k     27\n",
            "3            Catholic  <$10k    418\n",
            "4  Don’t know/refused  <$10k     15\n"
          ],
          "name": "stdout"
        }
      ]
    },
    {
      "cell_type": "markdown",
      "metadata": {
        "id": "guJ3nlkG2FfM"
      },
      "source": [
        "# 2개 이상의 열을 고정하고 나머지 열을 행으로 바꾸기 - 피벗"
      ]
    },
    {
      "cell_type": "code",
      "metadata": {
        "colab": {
          "base_uri": "https://localhost:8080/"
        },
        "id": "Xt46FihVBgtb",
        "outputId": "d2d7da77-41d9-4657-ac9c-51c97e200105"
      },
      "source": [
        "billboard = pd.read_csv('./billboard.csv')\n",
        "print(billboard.iloc[0:5, 0:16])"
      ],
      "execution_count": 60,
      "outputs": [
        {
          "output_type": "stream",
          "text": [
            "   year        artist                    track  time  ...   wk8   wk9  wk10  wk11\n",
            "0  2000         2 Pac  Baby Don't Cry (Keep...  4:22  ...   NaN   NaN   NaN   NaN\n",
            "1  2000       2Ge+her  The Hardest Part Of ...  3:15  ...   NaN   NaN   NaN   NaN\n",
            "2  2000  3 Doors Down               Kryptonite  3:53  ...  53.0  51.0  51.0  51.0\n",
            "3  2000  3 Doors Down                    Loser  4:24  ...  59.0  62.0  61.0  61.0\n",
            "4  2000      504 Boyz            Wobble Wobble  3:35  ...  49.0  53.0  57.0  64.0\n",
            "\n",
            "[5 rows x 16 columns]\n"
          ],
          "name": "stdout"
        }
      ]
    },
    {
      "cell_type": "code",
      "metadata": {
        "colab": {
          "base_uri": "https://localhost:8080/"
        },
        "id": "ZDA_90-9CO30",
        "outputId": "e9027157-3f3b-45b9-f65f-18e256284372"
      },
      "source": [
        "billboard_long = pd.melt(billboard, \n",
        "                         id_vars=['year', 'artist', 'track', 'time', 'date.entered'],\n",
        "                         var_name='week', value_name='rating')\n",
        "print(billboard_long.head())"
      ],
      "execution_count": 61,
      "outputs": [
        {
          "output_type": "stream",
          "text": [
            "   year        artist                    track  time date.entered week  rating\n",
            "0  2000         2 Pac  Baby Don't Cry (Keep...  4:22   2000-02-26  wk1    87.0\n",
            "1  2000       2Ge+her  The Hardest Part Of ...  3:15   2000-09-02  wk1    91.0\n",
            "2  2000  3 Doors Down               Kryptonite  3:53   2000-04-08  wk1    81.0\n",
            "3  2000  3 Doors Down                    Loser  4:24   2000-10-21  wk1    76.0\n",
            "4  2000      504 Boyz            Wobble Wobble  3:35   2000-04-15  wk1    57.0\n"
          ],
          "name": "stdout"
        }
      ]
    },
    {
      "cell_type": "code",
      "metadata": {
        "colab": {
          "base_uri": "https://localhost:8080/"
        },
        "id": "IGAqaseZwpTP",
        "outputId": "e9b9f185-29fc-42ea-e32f-6f0126609ccf"
      },
      "source": [
        "print(billboard_long.shape)"
      ],
      "execution_count": 62,
      "outputs": [
        {
          "output_type": "stream",
          "text": [
            "(24092, 7)\n"
          ],
          "name": "stdout"
        }
      ]
    },
    {
      "cell_type": "code",
      "metadata": {
        "colab": {
          "base_uri": "https://localhost:8080/"
        },
        "id": "QyUP5TH_wrsw",
        "outputId": "ba7225e3-d9a2-492c-b9c6-78027a12dc06"
      },
      "source": [
        "print(billboard_long[billboard_long.track == 'Loser'].head())"
      ],
      "execution_count": 63,
      "outputs": [
        {
          "output_type": "stream",
          "text": [
            "      year        artist  track  time date.entered week  rating\n",
            "3     2000  3 Doors Down  Loser  4:24   2000-10-21  wk1    76.0\n",
            "320   2000  3 Doors Down  Loser  4:24   2000-10-21  wk2    76.0\n",
            "637   2000  3 Doors Down  Loser  4:24   2000-10-21  wk3    72.0\n",
            "954   2000  3 Doors Down  Loser  4:24   2000-10-21  wk4    69.0\n",
            "1271  2000  3 Doors Down  Loser  4:24   2000-10-21  wk5    67.0\n"
          ],
          "name": "stdout"
        }
      ]
    },
    {
      "cell_type": "code",
      "metadata": {
        "colab": {
          "base_uri": "https://localhost:8080/"
        },
        "id": "xlZq6hz3xCfF",
        "outputId": "ca01cca9-678c-4342-9111-820849930eb6"
      },
      "source": [
        "billboard_songs = billboard_long[['year', 'artist', 'track', 'time']]\n",
        "print(billboard_songs.shape)"
      ],
      "execution_count": 64,
      "outputs": [
        {
          "output_type": "stream",
          "text": [
            "(24092, 4)\n"
          ],
          "name": "stdout"
        }
      ]
    },
    {
      "cell_type": "code",
      "metadata": {
        "colab": {
          "base_uri": "https://localhost:8080/"
        },
        "id": "zoAp4cLpxoqf",
        "outputId": "e91361b9-ca79-46b5-a600-9629630ed565"
      },
      "source": [
        "billboard_songs = billboard_songs.drop_duplicates() # 중복 제거\n",
        "print(billboard_songs.shape)"
      ],
      "execution_count": 65,
      "outputs": [
        {
          "output_type": "stream",
          "text": [
            "(317, 4)\n"
          ],
          "name": "stdout"
        }
      ]
    },
    {
      "cell_type": "code",
      "metadata": {
        "colab": {
          "base_uri": "https://localhost:8080/"
        },
        "id": "28ytnXjryB0_",
        "outputId": "19baa6ac-2fdc-4010-b360-04dcea01a593"
      },
      "source": [
        "billboard_songs['id'] = range(len(billboard_songs))\n",
        "print(billboard_songs.head(n=10))"
      ],
      "execution_count": 66,
      "outputs": [
        {
          "output_type": "stream",
          "text": [
            "   year          artist                    track  time  id\n",
            "0  2000           2 Pac  Baby Don't Cry (Keep...  4:22   0\n",
            "1  2000         2Ge+her  The Hardest Part Of ...  3:15   1\n",
            "2  2000    3 Doors Down               Kryptonite  3:53   2\n",
            "3  2000    3 Doors Down                    Loser  4:24   3\n",
            "4  2000        504 Boyz            Wobble Wobble  3:35   4\n",
            "5  2000            98^0  Give Me Just One Nig...  3:24   5\n",
            "6  2000         A*Teens            Dancing Queen  3:44   6\n",
            "7  2000         Aaliyah            I Don't Wanna  4:15   7\n",
            "8  2000         Aaliyah                Try Again  4:03   8\n",
            "9  2000  Adams, Yolanda            Open My Heart  5:30   9\n"
          ],
          "name": "stdout"
        }
      ]
    },
    {
      "cell_type": "code",
      "metadata": {
        "colab": {
          "base_uri": "https://localhost:8080/"
        },
        "id": "wZH_fP_UyWTV",
        "outputId": "b1e5d05f-824c-4015-d64a-ea45b6d2b2d0"
      },
      "source": [
        "billboard_ratings = billboard_long.merge(billboard_songs, on=['year', 'artist', 'track', 'time'])\n",
        "print(billboard_ratings.shape)"
      ],
      "execution_count": 67,
      "outputs": [
        {
          "output_type": "stream",
          "text": [
            "(24092, 8)\n"
          ],
          "name": "stdout"
        }
      ]
    },
    {
      "cell_type": "code",
      "metadata": {
        "colab": {
          "base_uri": "https://localhost:8080/"
        },
        "id": "PQJ4eIWDzF_I",
        "outputId": "0ee4e5f3-0153-479a-d4b8-fca827c10c93"
      },
      "source": [
        "print(billboard_ratings.head())"
      ],
      "execution_count": 68,
      "outputs": [
        {
          "output_type": "stream",
          "text": [
            "   year artist                    track  time date.entered week  rating  id\n",
            "0  2000  2 Pac  Baby Don't Cry (Keep...  4:22   2000-02-26  wk1    87.0   0\n",
            "1  2000  2 Pac  Baby Don't Cry (Keep...  4:22   2000-02-26  wk2    82.0   0\n",
            "2  2000  2 Pac  Baby Don't Cry (Keep...  4:22   2000-02-26  wk3    72.0   0\n",
            "3  2000  2 Pac  Baby Don't Cry (Keep...  4:22   2000-02-26  wk4    77.0   0\n",
            "4  2000  2 Pac  Baby Don't Cry (Keep...  4:22   2000-02-26  wk5    87.0   0\n"
          ],
          "name": "stdout"
        }
      ]
    },
    {
      "cell_type": "code",
      "metadata": {
        "scrolled": true,
        "colab": {
          "base_uri": "https://localhost:8080/"
        },
        "id": "FPrDXizS2FfM",
        "outputId": "a7867217-5074-4848-de5e-0ab7a4415b8f"
      },
      "source": [
        "ebola = pd.read_csv('./country_timeseries.csv')\n",
        "print(ebola.columns)"
      ],
      "execution_count": 69,
      "outputs": [
        {
          "output_type": "stream",
          "text": [
            "Index(['Date', 'Day', 'Cases_Guinea', 'Cases_Liberia', 'Cases_SierraLeone',\n",
            "       'Cases_Nigeria', 'Cases_Senegal', 'Cases_UnitedStates', 'Cases_Spain',\n",
            "       'Cases_Mali', 'Deaths_Guinea', 'Deaths_Liberia', 'Deaths_SierraLeone',\n",
            "       'Deaths_Nigeria', 'Deaths_Senegal', 'Deaths_UnitedStates',\n",
            "       'Deaths_Spain', 'Deaths_Mali'],\n",
            "      dtype='object')\n"
          ],
          "name": "stdout"
        }
      ]
    },
    {
      "cell_type": "code",
      "metadata": {
        "colab": {
          "base_uri": "https://localhost:8080/"
        },
        "id": "_54RJL-fEtXn",
        "outputId": "8df105f2-618c-4c78-ecc2-d5edd7aaffee"
      },
      "source": [
        "print(ebola.iloc[:5, [0, 1, 2, 3, 10, 11]])"
      ],
      "execution_count": 70,
      "outputs": [
        {
          "output_type": "stream",
          "text": [
            "         Date  Day  Cases_Guinea  Cases_Liberia  Deaths_Guinea  Deaths_Liberia\n",
            "0    1/5/2015  289        2776.0            NaN         1786.0             NaN\n",
            "1    1/4/2015  288        2775.0            NaN         1781.0             NaN\n",
            "2    1/3/2015  287        2769.0         8166.0         1767.0          3496.0\n",
            "3    1/2/2015  286           NaN         8157.0            NaN          3496.0\n",
            "4  12/31/2014  284        2730.0         8115.0         1739.0          3471.0\n"
          ],
          "name": "stdout"
        }
      ]
    },
    {
      "cell_type": "code",
      "metadata": {
        "colab": {
          "base_uri": "https://localhost:8080/"
        },
        "id": "OMPC2AxPGCF7",
        "outputId": "a553561d-d83a-43bc-f397-f4c547a37e2f"
      },
      "source": [
        "ebola_long = pd.melt(ebola, id_vars=['Date', 'Day'])\n",
        "print(ebola_long.head())"
      ],
      "execution_count": 71,
      "outputs": [
        {
          "output_type": "stream",
          "text": [
            "         Date  Day      variable   value\n",
            "0    1/5/2015  289  Cases_Guinea  2776.0\n",
            "1    1/4/2015  288  Cases_Guinea  2775.0\n",
            "2    1/3/2015  287  Cases_Guinea  2769.0\n",
            "3    1/2/2015  286  Cases_Guinea     NaN\n",
            "4  12/31/2014  284  Cases_Guinea  2730.0\n"
          ],
          "name": "stdout"
        }
      ]
    },
    {
      "cell_type": "code",
      "metadata": {
        "colab": {
          "base_uri": "https://localhost:8080/"
        },
        "id": "wl4yCXRQ2FfN",
        "outputId": "0a1cb2be-c792-4230-ee20-bea2b134eb90"
      },
      "source": [
        "variable_split = ebola_long.variable.str.split('_')\n",
        "print(variable_split[:5])"
      ],
      "execution_count": 72,
      "outputs": [
        {
          "output_type": "stream",
          "text": [
            "0    [Cases, Guinea]\n",
            "1    [Cases, Guinea]\n",
            "2    [Cases, Guinea]\n",
            "3    [Cases, Guinea]\n",
            "4    [Cases, Guinea]\n",
            "Name: variable, dtype: object\n"
          ],
          "name": "stdout"
        }
      ]
    },
    {
      "cell_type": "code",
      "metadata": {
        "colab": {
          "base_uri": "https://localhost:8080/"
        },
        "id": "jYJ63TTVHMWZ",
        "outputId": "28329c28-737c-4071-dbb7-5f8f513ee08b"
      },
      "source": [
        "print(type(variable_split))"
      ],
      "execution_count": 73,
      "outputs": [
        {
          "output_type": "stream",
          "text": [
            "<class 'pandas.core.series.Series'>\n"
          ],
          "name": "stdout"
        }
      ]
    },
    {
      "cell_type": "code",
      "metadata": {
        "colab": {
          "base_uri": "https://localhost:8080/"
        },
        "id": "g6pyvTCJJrpk",
        "outputId": "3015ff99-ec7c-4313-9208-4734fa3b2695"
      },
      "source": [
        "print(variable_split[0])\n",
        "print(type(variable_split[0]))"
      ],
      "execution_count": 74,
      "outputs": [
        {
          "output_type": "stream",
          "text": [
            "['Cases', 'Guinea']\n",
            "<class 'list'>\n"
          ],
          "name": "stdout"
        }
      ]
    },
    {
      "cell_type": "code",
      "metadata": {
        "colab": {
          "base_uri": "https://localhost:8080/"
        },
        "id": "8FaIfWw3J1tz",
        "outputId": "9c5ed78a-a198-460a-f107-47d5f946fec8"
      },
      "source": [
        "status_values = variable_split.str.get(0)\n",
        "country_values = variable_split.str.get(1)\n",
        "\n",
        "print(status_values[:5])"
      ],
      "execution_count": 75,
      "outputs": [
        {
          "output_type": "stream",
          "text": [
            "0    Cases\n",
            "1    Cases\n",
            "2    Cases\n",
            "3    Cases\n",
            "4    Cases\n",
            "Name: variable, dtype: object\n"
          ],
          "name": "stdout"
        }
      ]
    },
    {
      "cell_type": "code",
      "metadata": {
        "colab": {
          "base_uri": "https://localhost:8080/"
        },
        "id": "CZIrTx2QLRb1",
        "outputId": "d0898d60-e04e-40f9-d06b-b598e6d29685"
      },
      "source": [
        "print(status_values[-5:])"
      ],
      "execution_count": 76,
      "outputs": [
        {
          "output_type": "stream",
          "text": [
            "1947    Deaths\n",
            "1948    Deaths\n",
            "1949    Deaths\n",
            "1950    Deaths\n",
            "1951    Deaths\n",
            "Name: variable, dtype: object\n"
          ],
          "name": "stdout"
        }
      ]
    },
    {
      "cell_type": "code",
      "metadata": {
        "colab": {
          "base_uri": "https://localhost:8080/"
        },
        "id": "-tccXcoULZFt",
        "outputId": "c6ac4909-8d08-4eb7-9c54-1b3a4ac659c5"
      },
      "source": [
        "print(country_values[:5])"
      ],
      "execution_count": 77,
      "outputs": [
        {
          "output_type": "stream",
          "text": [
            "0    Guinea\n",
            "1    Guinea\n",
            "2    Guinea\n",
            "3    Guinea\n",
            "4    Guinea\n",
            "Name: variable, dtype: object\n"
          ],
          "name": "stdout"
        }
      ]
    },
    {
      "cell_type": "code",
      "metadata": {
        "colab": {
          "base_uri": "https://localhost:8080/"
        },
        "id": "2Kj2DulsLcFS",
        "outputId": "b8786806-f523-4232-fe01-8d59016567ef"
      },
      "source": [
        "print(country_values[-5:])"
      ],
      "execution_count": 78,
      "outputs": [
        {
          "output_type": "stream",
          "text": [
            "1947    Mali\n",
            "1948    Mali\n",
            "1949    Mali\n",
            "1950    Mali\n",
            "1951    Mali\n",
            "Name: variable, dtype: object\n"
          ],
          "name": "stdout"
        }
      ]
    },
    {
      "cell_type": "code",
      "metadata": {
        "colab": {
          "base_uri": "https://localhost:8080/"
        },
        "id": "uiAk1WN5LfBl",
        "outputId": "d968d7da-38e2-44bd-e32f-cc307411bff6"
      },
      "source": [
        "ebola_long['status'] = status_values\n",
        "ebola_long['country'] = country_values\n",
        "\n",
        "print(ebola_long.head())"
      ],
      "execution_count": 79,
      "outputs": [
        {
          "output_type": "stream",
          "text": [
            "         Date  Day      variable   value status country\n",
            "0    1/5/2015  289  Cases_Guinea  2776.0  Cases  Guinea\n",
            "1    1/4/2015  288  Cases_Guinea  2775.0  Cases  Guinea\n",
            "2    1/3/2015  287  Cases_Guinea  2769.0  Cases  Guinea\n",
            "3    1/2/2015  286  Cases_Guinea     NaN  Cases  Guinea\n",
            "4  12/31/2014  284  Cases_Guinea  2730.0  Cases  Guinea\n"
          ],
          "name": "stdout"
        }
      ]
    },
    {
      "cell_type": "code",
      "metadata": {
        "colab": {
          "base_uri": "https://localhost:8080/"
        },
        "id": "xraMPwbM2FfN",
        "outputId": "d10b8407-1a8b-4ad4-c94c-6e126e992cf9"
      },
      "source": [
        "variable_split = ebola_long.variable.str.split('_', expand=True)\n",
        "print(variable_split)"
      ],
      "execution_count": 80,
      "outputs": [
        {
          "output_type": "stream",
          "text": [
            "           0       1\n",
            "0      Cases  Guinea\n",
            "1      Cases  Guinea\n",
            "2      Cases  Guinea\n",
            "3      Cases  Guinea\n",
            "4      Cases  Guinea\n",
            "...      ...     ...\n",
            "1947  Deaths    Mali\n",
            "1948  Deaths    Mali\n",
            "1949  Deaths    Mali\n",
            "1950  Deaths    Mali\n",
            "1951  Deaths    Mali\n",
            "\n",
            "[1952 rows x 2 columns]\n"
          ],
          "name": "stdout"
        }
      ]
    },
    {
      "cell_type": "code",
      "metadata": {
        "colab": {
          "base_uri": "https://localhost:8080/"
        },
        "id": "MnhPpj3uNu43",
        "outputId": "ea86842d-919b-45ef-a8d3-6a2c25ef6be7"
      },
      "source": [
        "variable_split.columns = ['status', 'country']\n",
        "print(variable_split)"
      ],
      "execution_count": 81,
      "outputs": [
        {
          "output_type": "stream",
          "text": [
            "      status country\n",
            "0      Cases  Guinea\n",
            "1      Cases  Guinea\n",
            "2      Cases  Guinea\n",
            "3      Cases  Guinea\n",
            "4      Cases  Guinea\n",
            "...      ...     ...\n",
            "1947  Deaths    Mali\n",
            "1948  Deaths    Mali\n",
            "1949  Deaths    Mali\n",
            "1950  Deaths    Mali\n",
            "1951  Deaths    Mali\n",
            "\n",
            "[1952 rows x 2 columns]\n"
          ],
          "name": "stdout"
        }
      ]
    },
    {
      "cell_type": "code",
      "metadata": {
        "colab": {
          "base_uri": "https://localhost:8080/"
        },
        "id": "lKujVKDSOI0t",
        "outputId": "c93607b6-9b7c-4e06-c1d8-752cf70cb22e"
      },
      "source": [
        "ebola_parsed = pd.concat([ebola_long, variable_split], axis=1)\n",
        "\n",
        "print(ebola_parsed.head())"
      ],
      "execution_count": 82,
      "outputs": [
        {
          "output_type": "stream",
          "text": [
            "         Date  Day      variable   value status country status country\n",
            "0    1/5/2015  289  Cases_Guinea  2776.0  Cases  Guinea  Cases  Guinea\n",
            "1    1/4/2015  288  Cases_Guinea  2775.0  Cases  Guinea  Cases  Guinea\n",
            "2    1/3/2015  287  Cases_Guinea  2769.0  Cases  Guinea  Cases  Guinea\n",
            "3    1/2/2015  286  Cases_Guinea     NaN  Cases  Guinea  Cases  Guinea\n",
            "4  12/31/2014  284  Cases_Guinea  2730.0  Cases  Guinea  Cases  Guinea\n"
          ],
          "name": "stdout"
        }
      ]
    },
    {
      "cell_type": "code",
      "metadata": {
        "colab": {
          "base_uri": "https://localhost:8080/"
        },
        "id": "UGFwel1oOhEs",
        "outputId": "b722aa8c-56e8-44fc-d911-5e166be95396"
      },
      "source": [
        "print(ebola_long.head())"
      ],
      "execution_count": 83,
      "outputs": [
        {
          "output_type": "stream",
          "text": [
            "         Date  Day      variable   value status country\n",
            "0    1/5/2015  289  Cases_Guinea  2776.0  Cases  Guinea\n",
            "1    1/4/2015  288  Cases_Guinea  2775.0  Cases  Guinea\n",
            "2    1/3/2015  287  Cases_Guinea  2769.0  Cases  Guinea\n",
            "3    1/2/2015  286  Cases_Guinea     NaN  Cases  Guinea\n",
            "4  12/31/2014  284  Cases_Guinea  2730.0  Cases  Guinea\n"
          ],
          "name": "stdout"
        }
      ]
    },
    {
      "cell_type": "code",
      "metadata": {
        "id": "k6JtjRbY2FfN",
        "colab": {
          "base_uri": "https://localhost:8080/"
        },
        "outputId": "bf6c4912-ee04-4452-e21a-e381f0dcbdeb"
      },
      "source": [
        "weather = pd.read_csv('./weather.csv')\n",
        "print(weather.iloc[:5, :])"
      ],
      "execution_count": 84,
      "outputs": [
        {
          "output_type": "stream",
          "text": [
            "        id  year  month element  d1    d2  ...  d26  d27  d28  d29   d30  d31\n",
            "0  MX17004  2010      1    tmax NaN   NaN  ...  NaN  NaN  NaN  NaN  27.8  NaN\n",
            "1  MX17004  2010      1    tmin NaN   NaN  ...  NaN  NaN  NaN  NaN  14.5  NaN\n",
            "2  MX17004  2010      2    tmax NaN  27.3  ...  NaN  NaN  NaN  NaN   NaN  NaN\n",
            "3  MX17004  2010      2    tmin NaN  14.4  ...  NaN  NaN  NaN  NaN   NaN  NaN\n",
            "4  MX17004  2010      3    tmax NaN   NaN  ...  NaN  NaN  NaN  NaN   NaN  NaN\n",
            "\n",
            "[5 rows x 35 columns]\n"
          ],
          "name": "stdout"
        }
      ]
    },
    {
      "cell_type": "code",
      "metadata": {
        "colab": {
          "base_uri": "https://localhost:8080/"
        },
        "id": "mqdVdECDpK-s",
        "outputId": "69732b45-63af-4ce9-f83a-cb306f610274"
      },
      "source": [
        "weather_melt = pd.melt(weather, id_vars=['id', 'year', 'month', 'element'], \n",
        "                       var_name='day', value_name='temp')\n",
        "print(weather_melt.head())"
      ],
      "execution_count": 85,
      "outputs": [
        {
          "output_type": "stream",
          "text": [
            "        id  year  month element day  temp\n",
            "0  MX17004  2010      1    tmax  d1   NaN\n",
            "1  MX17004  2010      1    tmin  d1   NaN\n",
            "2  MX17004  2010      2    tmax  d1   NaN\n",
            "3  MX17004  2010      2    tmin  d1   NaN\n",
            "4  MX17004  2010      3    tmax  d1   NaN\n"
          ],
          "name": "stdout"
        }
      ]
    },
    {
      "cell_type": "code",
      "metadata": {
        "colab": {
          "base_uri": "https://localhost:8080/"
        },
        "id": "EVdOMEoEptVp",
        "outputId": "d5163900-f7d1-4cab-b86a-b01fc05fa69a"
      },
      "source": [
        "weather_tidy = weather_melt.pivot_table(\n",
        "    index=['id', 'year', 'month', 'day'],\n",
        "    columns='element',\n",
        "    values='temp',\n",
        "    dropna=False\n",
        ")\n",
        "print(weather_tidy)"
      ],
      "execution_count": 86,
      "outputs": [
        {
          "output_type": "stream",
          "text": [
            "element                 tmax  tmin\n",
            "id      year month day            \n",
            "MX17004 2010 1     d1    NaN   NaN\n",
            "                   d10   NaN   NaN\n",
            "                   d11   NaN   NaN\n",
            "                   d12   NaN   NaN\n",
            "                   d13   NaN   NaN\n",
            "...                      ...   ...\n",
            "             12    d5    NaN   NaN\n",
            "                   d6   27.8  10.5\n",
            "                   d7    NaN   NaN\n",
            "                   d8    NaN   NaN\n",
            "                   d9    NaN   NaN\n",
            "\n",
            "[341 rows x 2 columns]\n"
          ],
          "name": "stdout"
        }
      ]
    },
    {
      "cell_type": "code",
      "metadata": {
        "colab": {
          "base_uri": "https://localhost:8080/"
        },
        "id": "JpFCQ8Pkstq5",
        "outputId": "dbd3ff12-f8bf-4289-ddfc-4b14f18aa605"
      },
      "source": [
        "weather_tidy_flat = weather_tidy.reset_index()\n",
        "print(weather_tidy_flat.head())"
      ],
      "execution_count": 87,
      "outputs": [
        {
          "output_type": "stream",
          "text": [
            "element       id  year  month  day  tmax  tmin\n",
            "0        MX17004  2010      1   d1   NaN   NaN\n",
            "1        MX17004  2010      1  d10   NaN   NaN\n",
            "2        MX17004  2010      1  d11   NaN   NaN\n",
            "3        MX17004  2010      1  d12   NaN   NaN\n",
            "4        MX17004  2010      1  d13   NaN   NaN\n"
          ],
          "name": "stdout"
        }
      ]
    },
    {
      "cell_type": "markdown",
      "metadata": {
        "id": "FDv90BFz2FfN"
      },
      "source": [
        "# 뉴욕 택시 데이터 준비"
      ]
    },
    {
      "cell_type": "code",
      "metadata": {
        "id": "zH-zQX712FfN",
        "colab": {
          "base_uri": "https://localhost:8080/"
        },
        "outputId": "4125c110-729b-4b5d-f7a5-4f8c5323f700"
      },
      "source": [
        "import os\n",
        "import urllib.request\n",
        "\n",
        "with open('./raw_data_urls.txt', 'r') as data_urls:\n",
        "  for line, url in enumerate(data_urls):\n",
        "    if line == 5:\n",
        "      break\n",
        "    fn = url.split('/')[-1].strip()\n",
        "    fp = os.path.join('', './', fn)\n",
        "    print(url)\n",
        "    print(fp)\n",
        "    urllib.request.urlretrieve(url, fp)"
      ],
      "execution_count": 88,
      "outputs": [
        {
          "output_type": "stream",
          "text": [
            "https://s3.amazonaws.com/nyc-tlc/trip+data/fhv_tripdata_2015-01.csv\n",
            "\n",
            "./fhv_tripdata_2015-01.csv\n",
            "https://s3.amazonaws.com/nyc-tlc/trip+data/fhv_tripdata_2015-02.csv\n",
            "\n",
            "./fhv_tripdata_2015-02.csv\n",
            "https://s3.amazonaws.com/nyc-tlc/trip+data/fhv_tripdata_2015-03.csv\n",
            "\n",
            "./fhv_tripdata_2015-03.csv\n",
            "https://s3.amazonaws.com/nyc-tlc/trip+data/fhv_tripdata_2015-04.csv\n",
            "\n",
            "./fhv_tripdata_2015-04.csv\n",
            "https://s3.amazonaws.com/nyc-tlc/trip+data/fhv_tripdata_2015-05.csv\n",
            "\n",
            "./fhv_tripdata_2015-05.csv\n"
          ],
          "name": "stdout"
        }
      ]
    },
    {
      "cell_type": "code",
      "metadata": {
        "colab": {
          "base_uri": "https://localhost:8080/"
        },
        "id": "vP3FlE3q1Emf",
        "outputId": "84640f58-f0d4-44d5-b8c2-ad838ea3b6b9"
      },
      "source": [
        "import glob\n",
        "\n",
        "nyc_taxi_data = glob.glob('./fhv_*')\n",
        "print(nyc_taxi_data)"
      ],
      "execution_count": 89,
      "outputs": [
        {
          "output_type": "stream",
          "text": [
            "['./fhv_tripdata_2015-05.csv', './fhv_tripdata_2015-04.csv', './fhv_tripdata_2015-03.csv', './fhv_tripdata_2015-01.csv', './fhv_tripdata_2015-02.csv']\n"
          ],
          "name": "stdout"
        }
      ]
    },
    {
      "cell_type": "code",
      "metadata": {
        "colab": {
          "base_uri": "https://localhost:8080/"
        },
        "id": "n-tmcZjV32At",
        "outputId": "08489e4b-03fe-472c-983a-10e84503e303"
      },
      "source": [
        "list_taxi_df = []\n",
        "\n",
        "for csv_filename in nyc_taxi_data:\n",
        "  print(csv_filename)\n",
        "  \n",
        "  df = pd.read_csv(csv_filename)\n",
        "  list_taxi_df.append(df)"
      ],
      "execution_count": 90,
      "outputs": [
        {
          "output_type": "stream",
          "text": [
            "./fhv_tripdata_2015-05.csv\n",
            "./fhv_tripdata_2015-04.csv\n",
            "./fhv_tripdata_2015-03.csv\n",
            "./fhv_tripdata_2015-01.csv\n",
            "./fhv_tripdata_2015-02.csv\n"
          ],
          "name": "stdout"
        }
      ]
    },
    {
      "cell_type": "code",
      "metadata": {
        "colab": {
          "base_uri": "https://localhost:8080/"
        },
        "id": "jqODoUrJ4qKQ",
        "outputId": "c639e8a8-6871-47af-da90-83a739f7ee4d"
      },
      "source": [
        "print(len(list_taxi_df))"
      ],
      "execution_count": 91,
      "outputs": [
        {
          "output_type": "stream",
          "text": [
            "5\n"
          ],
          "name": "stdout"
        }
      ]
    },
    {
      "cell_type": "code",
      "metadata": {
        "colab": {
          "base_uri": "https://localhost:8080/"
        },
        "id": "kAWWerh64vhD",
        "outputId": "fd0b3f84-6f7c-4584-e047-de25b528fd65"
      },
      "source": [
        "print(type(list_taxi_df[0]))"
      ],
      "execution_count": 92,
      "outputs": [
        {
          "output_type": "stream",
          "text": [
            "<class 'pandas.core.frame.DataFrame'>\n"
          ],
          "name": "stdout"
        }
      ]
    },
    {
      "cell_type": "code",
      "metadata": {
        "colab": {
          "base_uri": "https://localhost:8080/"
        },
        "id": "WhnFh0RL41Bq",
        "outputId": "d017f1b6-0151-4f68-b45f-931d3f0afd5c"
      },
      "source": [
        "print(list_taxi_df[0].head())"
      ],
      "execution_count": 93,
      "outputs": [
        {
          "output_type": "stream",
          "text": [
            "  Dispatching_base_num          Pickup_date  locationID\n",
            "0               B00001  2015-05-01 04:30:00         NaN\n",
            "1               B00001  2015-05-01 05:00:00         NaN\n",
            "2               B00001  2015-05-01 05:05:00         NaN\n",
            "3               B00001  2015-05-01 06:15:00         NaN\n",
            "4               B00001  2015-05-01 06:15:00         NaN\n"
          ],
          "name": "stdout"
        }
      ]
    },
    {
      "cell_type": "code",
      "metadata": {
        "colab": {
          "base_uri": "https://localhost:8080/"
        },
        "id": "NQQ9EhmI5E1k",
        "outputId": "4d6113b0-5d28-4727-93b8-ceee3865fe23"
      },
      "source": [
        "taxi_loop_concat = pd.concat(list_taxi_df)\n",
        "print(taxi_loop_concat.shape)"
      ],
      "execution_count": 94,
      "outputs": [
        {
          "output_type": "stream",
          "text": [
            "(17367717, 3)\n"
          ],
          "name": "stdout"
        }
      ]
    }
  ]
}