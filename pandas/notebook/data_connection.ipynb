{
  "nbformat": 4,
  "nbformat_minor": 0,
  "metadata": {
    "kernelspec": {
      "display_name": "Python 3",
      "language": "python",
      "name": "python3"
    },
    "language_info": {
      "codemirror_mode": {
        "name": "ipython",
        "version": 3
      },
      "file_extension": ".py",
      "mimetype": "text/x-python",
      "name": "python",
      "nbconvert_exporter": "python",
      "pygments_lexer": "ipython3",
      "version": "3.6.5"
    },
    "colab": {
      "name": "05_practice.ipynb",
      "provenance": [],
      "collapsed_sections": [],
      "toc_visible": true
    }
  },
  "cells": [
    {
      "cell_type": "code",
      "metadata": {
        "colab": {
          "base_uri": "https://localhost:8080/"
        },
        "id": "E0-Vw-k2Xbur",
        "outputId": "02bbb660-8b9f-40df-ce71-5b24cedee613"
      },
      "source": [
        "import pandas as pd\n",
        "\n",
        "df1 = pd.read_csv('./concat_1.csv')\n",
        "df2 = pd.read_csv('./concat_2.csv')\n",
        "df3 = pd.read_csv('./concat_3.csv')\n",
        "\n",
        "row_concat = pd.concat([df1, df2, df3])\n",
        "print(row_concat)"
      ],
      "execution_count": 50,
      "outputs": [
        {
          "output_type": "stream",
          "text": [
            "     A    B    C    D\n",
            "0   a0   b0   c0   d0\n",
            "1   a1   b1   c1   d1\n",
            "2   a2   b2   c2   d2\n",
            "3   a3   b3   c3   d3\n",
            "0   a4   b4   c4   d4\n",
            "1   a5   b5   c5   d5\n",
            "2   a6   b6   c6   d6\n",
            "3   a7   b7   c7   d7\n",
            "0   a8   b8   c8   d8\n",
            "1   a9   b9   c9   d9\n",
            "2  a10  b10  c10  d10\n",
            "3  a11  b11  c11  d11\n"
          ],
          "name": "stdout"
        }
      ]
    },
    {
      "cell_type": "code",
      "metadata": {
        "colab": {
          "base_uri": "https://localhost:8080/"
        },
        "id": "HvW9-WhrZIsB",
        "outputId": "3eae28cd-24af-4af0-c4c1-f2eb4d840d25"
      },
      "source": [
        "print(row_concat.iloc[3, ]) # 4번째 행 추출"
      ],
      "execution_count": 51,
      "outputs": [
        {
          "output_type": "stream",
          "text": [
            "A    a3\n",
            "B    b3\n",
            "C    c3\n",
            "D    d3\n",
            "Name: 3, dtype: object\n"
          ],
          "name": "stdout"
        }
      ]
    },
    {
      "cell_type": "markdown",
      "metadata": {
        "id": "8fUiW-0bXbur"
      },
      "source": [
        "# 데이터프레임에 시리즈 연결"
      ]
    },
    {
      "cell_type": "code",
      "metadata": {
        "colab": {
          "base_uri": "https://localhost:8080/"
        },
        "id": "NDNGM33IXbus",
        "outputId": "98c37baa-32b7-4e4e-ec77-d42f307170dd"
      },
      "source": [
        "new_row_series = pd.Series(['n1', 'n2', 'n3', 'n4']) # 리스트 -> 시리즈 변환\n",
        "\n",
        "print(pd.concat([df1, new_row_series])) # 시리즈 새로운 열로 추가(Why? 시리즈 : 열 이름X) "
      ],
      "execution_count": 52,
      "outputs": [
        {
          "output_type": "stream",
          "text": [
            "     A    B    C    D    0\n",
            "0   a0   b0   c0   d0  NaN\n",
            "1   a1   b1   c1   d1  NaN\n",
            "2   a2   b2   c2   d2  NaN\n",
            "3   a3   b3   c3   d3  NaN\n",
            "0  NaN  NaN  NaN  NaN   n1\n",
            "1  NaN  NaN  NaN  NaN   n2\n",
            "2  NaN  NaN  NaN  NaN   n3\n",
            "3  NaN  NaN  NaN  NaN   n4\n"
          ],
          "name": "stdout"
        }
      ]
    },
    {
      "cell_type": "code",
      "metadata": {
        "colab": {
          "base_uri": "https://localhost:8080/"
        },
        "id": "hrjd101FXbus",
        "outputId": "c1f15afd-d8bc-4303-a7dd-585bb4f4889d"
      },
      "source": [
        "new_row_df = pd.DataFrame([['n1', 'n2', 'n3', 'n4']], columns=['A', 'B', 'C', 'D'])\n",
        "print(new_row_df)"
      ],
      "execution_count": 53,
      "outputs": [
        {
          "output_type": "stream",
          "text": [
            "    A   B   C   D\n",
            "0  n1  n2  n3  n4\n"
          ],
          "name": "stdout"
        }
      ]
    },
    {
      "cell_type": "code",
      "metadata": {
        "colab": {
          "base_uri": "https://localhost:8080/"
        },
        "id": "UfhZhiqCcrbz",
        "outputId": "146618a8-1c19-47f0-bdb4-4fe1c7cbc666"
      },
      "source": [
        "print(pd.concat([df1, new_row_df]))"
      ],
      "execution_count": 54,
      "outputs": [
        {
          "output_type": "stream",
          "text": [
            "    A   B   C   D\n",
            "0  a0  b0  c0  d0\n",
            "1  a1  b1  c1  d1\n",
            "2  a2  b2  c2  d2\n",
            "3  a3  b3  c3  d3\n",
            "0  n1  n2  n3  n4\n"
          ],
          "name": "stdout"
        }
      ]
    },
    {
      "cell_type": "code",
      "metadata": {
        "colab": {
          "base_uri": "https://localhost:8080/"
        },
        "id": "gwIyK0FHc4Zl",
        "outputId": "0a9a2f9a-bd91-44cc-b6cf-8e823ce49b3a"
      },
      "source": [
        "print(df1.append(new_row_df)) # 연결할 데이터프레임이 1개라면 "
      ],
      "execution_count": 55,
      "outputs": [
        {
          "output_type": "stream",
          "text": [
            "    A   B   C   D\n",
            "0  a0  b0  c0  d0\n",
            "1  a1  b1  c1  d1\n",
            "2  a2  b2  c2  d2\n",
            "3  a3  b3  c3  d3\n",
            "0  n1  n2  n3  n4\n"
          ],
          "name": "stdout"
        }
      ]
    },
    {
      "cell_type": "code",
      "metadata": {
        "id": "ZlGvJ6bPdLxx",
        "colab": {
          "base_uri": "https://localhost:8080/"
        },
        "outputId": "69910602-a72f-43b5-c495-9df7b3353d0f"
      },
      "source": [
        "data_dict = {'A': 'n1', 'B': 'n2', 'C': 'n3', 'D': 'n4'}\n",
        "print(df1.append(data_dict, ignore_index=True))"
      ],
      "execution_count": 56,
      "outputs": [
        {
          "output_type": "stream",
          "text": [
            "    A   B   C   D\n",
            "0  a0  b0  c0  d0\n",
            "1  a1  b1  c1  d1\n",
            "2  a2  b2  c2  d2\n",
            "3  a3  b3  c3  d3\n",
            "4  n1  n2  n3  n4\n"
          ],
          "name": "stdout"
        }
      ]
    },
    {
      "cell_type": "code",
      "metadata": {
        "id": "GAvjdH8NXbus",
        "colab": {
          "base_uri": "https://localhost:8080/"
        },
        "outputId": "f0cbd302-a62b-424a-b40c-a042af2fc94d"
      },
      "source": [
        "row_concat_i = pd.concat([df1, df2, df3], ignore_index=True)\n",
        "print(row_concat_i)"
      ],
      "execution_count": 57,
      "outputs": [
        {
          "output_type": "stream",
          "text": [
            "      A    B    C    D\n",
            "0    a0   b0   c0   d0\n",
            "1    a1   b1   c1   d1\n",
            "2    a2   b2   c2   d2\n",
            "3    a3   b3   c3   d3\n",
            "4    a4   b4   c4   d4\n",
            "5    a5   b5   c5   d5\n",
            "6    a6   b6   c6   d6\n",
            "7    a7   b7   c7   d7\n",
            "8    a8   b8   c8   d8\n",
            "9    a9   b9   c9   d9\n",
            "10  a10  b10  c10  d10\n",
            "11  a11  b11  c11  d11\n"
          ],
          "name": "stdout"
        }
      ]
    },
    {
      "cell_type": "code",
      "metadata": {
        "colab": {
          "base_uri": "https://localhost:8080/"
        },
        "id": "9qz_DsU1e4Iu",
        "outputId": "7f8e676c-a32f-4efe-f33d-044b6263eda6"
      },
      "source": [
        "col_concat = pd.concat([df1, df2, df3], axis=1) # 열 방향으로 데이터 연결 (기본값 : 0)\n",
        "print(col_concat)"
      ],
      "execution_count": 58,
      "outputs": [
        {
          "output_type": "stream",
          "text": [
            "    A   B   C   D   A   B   C   D    A    B    C    D\n",
            "0  a0  b0  c0  d0  a4  b4  c4  d4   a8   b8   c8   d8\n",
            "1  a1  b1  c1  d1  a5  b5  c5  d5   a9   b9   c9   d9\n",
            "2  a2  b2  c2  d2  a6  b6  c6  d6  a10  b10  c10  d10\n",
            "3  a3  b3  c3  d3  a7  b7  c7  d7  a11  b11  c11  d11\n"
          ],
          "name": "stdout"
        }
      ]
    },
    {
      "cell_type": "code",
      "metadata": {
        "colab": {
          "base_uri": "https://localhost:8080/"
        },
        "id": "-XBlQPycfi1f",
        "outputId": "e3902fea-a1bb-42f9-a864-4c6d8e98ea11"
      },
      "source": [
        "print(col_concat['A'])"
      ],
      "execution_count": 59,
      "outputs": [
        {
          "output_type": "stream",
          "text": [
            "    A   A    A\n",
            "0  a0  a4   a8\n",
            "1  a1  a5   a9\n",
            "2  a2  a6  a10\n",
            "3  a3  a7  a11\n"
          ],
          "name": "stdout"
        }
      ]
    },
    {
      "cell_type": "code",
      "metadata": {
        "colab": {
          "base_uri": "https://localhost:8080/"
        },
        "id": "NGDpMTxkfxQF",
        "outputId": "144367a4-d460-4aa7-832e-c82236236e38"
      },
      "source": [
        "col_concat['new_col_list'] = ['n1', 'n2', 'n3', 'n4'] # 열 추가\n",
        "print(col_concat)"
      ],
      "execution_count": 60,
      "outputs": [
        {
          "output_type": "stream",
          "text": [
            "    A   B   C   D   A   B   C   D    A    B    C    D new_col_list\n",
            "0  a0  b0  c0  d0  a4  b4  c4  d4   a8   b8   c8   d8           n1\n",
            "1  a1  b1  c1  d1  a5  b5  c5  d5   a9   b9   c9   d9           n2\n",
            "2  a2  b2  c2  d2  a6  b6  c6  d6  a10  b10  c10  d10           n3\n",
            "3  a3  b3  c3  d3  a7  b7  c7  d7  a11  b11  c11  d11           n4\n"
          ],
          "name": "stdout"
        }
      ]
    },
    {
      "cell_type": "code",
      "metadata": {
        "colab": {
          "base_uri": "https://localhost:8080/"
        },
        "id": "EzZNt5RfgBpC",
        "outputId": "8597a0ac-df2f-4cfb-da70-c07bb6de683b"
      },
      "source": [
        "print(pd.concat([df1, df2, df3], axis=1, ignore_index=True))"
      ],
      "execution_count": 61,
      "outputs": [
        {
          "output_type": "stream",
          "text": [
            "   0   1   2   3   4   5   6   7    8    9    10   11\n",
            "0  a0  b0  c0  d0  a4  b4  c4  d4   a8   b8   c8   d8\n",
            "1  a1  b1  c1  d1  a5  b5  c5  d5   a9   b9   c9   d9\n",
            "2  a2  b2  c2  d2  a6  b6  c6  d6  a10  b10  c10  d10\n",
            "3  a3  b3  c3  d3  a7  b7  c7  d7  a11  b11  c11  d11\n"
          ],
          "name": "stdout"
        }
      ]
    },
    {
      "cell_type": "code",
      "metadata": {
        "id": "wVAmycThXbus",
        "colab": {
          "base_uri": "https://localhost:8080/"
        },
        "outputId": "27001ae0-2470-4752-e0d9-e6889117bcf4"
      },
      "source": [
        "# 컬럼명 변경\n",
        "df1.columns = ['A', 'B', 'C', 'D']\n",
        "df2.columns = ['E', 'F', 'G', 'H']\n",
        "df3.columns = ['A', 'C', 'F', 'H']\n",
        "\n",
        "print(df1)\n",
        "print(type(df1))"
      ],
      "execution_count": 62,
      "outputs": [
        {
          "output_type": "stream",
          "text": [
            "    A   B   C   D\n",
            "0  a0  b0  c0  d0\n",
            "1  a1  b1  c1  d1\n",
            "2  a2  b2  c2  d2\n",
            "3  a3  b3  c3  d3\n",
            "<class 'pandas.core.frame.DataFrame'>\n"
          ],
          "name": "stdout"
        }
      ]
    },
    {
      "cell_type": "code",
      "metadata": {
        "colab": {
          "base_uri": "https://localhost:8080/"
        },
        "id": "FUbU_TfvhAyb",
        "outputId": "0cf55ca3-f6c2-4521-e641-3986125a0a33"
      },
      "source": [
        "print(df2)"
      ],
      "execution_count": 63,
      "outputs": [
        {
          "output_type": "stream",
          "text": [
            "    E   F   G   H\n",
            "0  a4  b4  c4  d4\n",
            "1  a5  b5  c5  d5\n",
            "2  a6  b6  c6  d6\n",
            "3  a7  b7  c7  d7\n"
          ],
          "name": "stdout"
        }
      ]
    },
    {
      "cell_type": "code",
      "metadata": {
        "colab": {
          "base_uri": "https://localhost:8080/"
        },
        "id": "ACJdLNtXhDVS",
        "outputId": "878d2d09-2566-4823-c613-978817722091"
      },
      "source": [
        "print(df3)"
      ],
      "execution_count": 64,
      "outputs": [
        {
          "output_type": "stream",
          "text": [
            "     A    C    F    H\n",
            "0   a8   b8   c8   d8\n",
            "1   a9   b9   c9   d9\n",
            "2  a10  b10  c10  d10\n",
            "3  a11  b11  c11  d11\n"
          ],
          "name": "stdout"
        }
      ]
    },
    {
      "cell_type": "code",
      "metadata": {
        "colab": {
          "base_uri": "https://localhost:8080/"
        },
        "id": "TBhukCDDg9sk",
        "outputId": "fcf4a075-94b8-4951-b50f-4a496c99130a"
      },
      "source": [
        "row_concat = pd.concat([df1, df2, df3])\n",
        "print(row_concat)"
      ],
      "execution_count": 65,
      "outputs": [
        {
          "output_type": "stream",
          "text": [
            "     A    B    C    D    E    F    G    H\n",
            "0   a0   b0   c0   d0  NaN  NaN  NaN  NaN\n",
            "1   a1   b1   c1   d1  NaN  NaN  NaN  NaN\n",
            "2   a2   b2   c2   d2  NaN  NaN  NaN  NaN\n",
            "3   a3   b3   c3   d3  NaN  NaN  NaN  NaN\n",
            "0  NaN  NaN  NaN  NaN   a4   b4   c4   d4\n",
            "1  NaN  NaN  NaN  NaN   a5   b5   c5   d5\n",
            "2  NaN  NaN  NaN  NaN   a6   b6   c6   d6\n",
            "3  NaN  NaN  NaN  NaN   a7   b7   c7   d7\n",
            "0   a8  NaN   b8  NaN  NaN   c8  NaN   d8\n",
            "1   a9  NaN   b9  NaN  NaN   c9  NaN   d9\n",
            "2  a10  NaN  b10  NaN  NaN  c10  NaN  d10\n",
            "3  a11  NaN  b11  NaN  NaN  c11  NaN  d11\n"
          ],
          "name": "stdout"
        }
      ]
    },
    {
      "cell_type": "markdown",
      "metadata": {
        "id": "vQ9jrvCGiCym"
      },
      "source": [
        "# 공통 열 연결"
      ]
    },
    {
      "cell_type": "code",
      "metadata": {
        "colab": {
          "base_uri": "https://localhost:8080/"
        },
        "id": "rmWA8Q3RhZ2m",
        "outputId": "33b59134-a602-4713-da93-9f804cad0540"
      },
      "source": [
        "print(pd.concat([df1, df2, df3], join='inner')) "
      ],
      "execution_count": 66,
      "outputs": [
        {
          "output_type": "stream",
          "text": [
            "Empty DataFrame\n",
            "Columns: []\n",
            "Index: [0, 1, 2, 3, 0, 1, 2, 3, 0, 1, 2, 3]\n"
          ],
          "name": "stdout"
        }
      ]
    },
    {
      "cell_type": "code",
      "metadata": {
        "colab": {
          "base_uri": "https://localhost:8080/"
        },
        "id": "VZd6lWh4hpSS",
        "outputId": "eb774d21-169c-41b0-abeb-f1ab9df45da0"
      },
      "source": [
        "print(pd.concat([df1, df3], join='inner')) "
      ],
      "execution_count": 67,
      "outputs": [
        {
          "output_type": "stream",
          "text": [
            "     A    C\n",
            "0   a0   c0\n",
            "1   a1   c1\n",
            "2   a2   c2\n",
            "3   a3   c3\n",
            "0   a8   b8\n",
            "1   a9   b9\n",
            "2  a10  b10\n",
            "3  a11  b11\n"
          ],
          "name": "stdout"
        }
      ]
    },
    {
      "cell_type": "code",
      "metadata": {
        "colab": {
          "base_uri": "https://localhost:8080/"
        },
        "id": "me3QnE2ViQK7",
        "outputId": "d6f20b96-66fc-41b4-8a6c-02e7e6578785"
      },
      "source": [
        "df1.index = [0, 1, 2, 3]\n",
        "df2.index = [4, 5, 6, 7]\n",
        "df3.index = [0, 2, 5, 7]\n",
        "\n",
        "print(df1)"
      ],
      "execution_count": 68,
      "outputs": [
        {
          "output_type": "stream",
          "text": [
            "    A   B   C   D\n",
            "0  a0  b0  c0  d0\n",
            "1  a1  b1  c1  d1\n",
            "2  a2  b2  c2  d2\n",
            "3  a3  b3  c3  d3\n"
          ],
          "name": "stdout"
        }
      ]
    },
    {
      "cell_type": "code",
      "metadata": {
        "colab": {
          "base_uri": "https://localhost:8080/"
        },
        "id": "G9ImlQ-mie1P",
        "outputId": "4f836a40-2975-4187-dea0-69e39456e0fc"
      },
      "source": [
        "print(df2)"
      ],
      "execution_count": 69,
      "outputs": [
        {
          "output_type": "stream",
          "text": [
            "    E   F   G   H\n",
            "4  a4  b4  c4  d4\n",
            "5  a5  b5  c5  d5\n",
            "6  a6  b6  c6  d6\n",
            "7  a7  b7  c7  d7\n"
          ],
          "name": "stdout"
        }
      ]
    },
    {
      "cell_type": "code",
      "metadata": {
        "colab": {
          "base_uri": "https://localhost:8080/"
        },
        "id": "87pSQwVoiiqe",
        "outputId": "1c08ced7-0779-4de5-b104-d03a1498c4eb"
      },
      "source": [
        "print(df3)"
      ],
      "execution_count": 70,
      "outputs": [
        {
          "output_type": "stream",
          "text": [
            "     A    C    F    H\n",
            "0   a8   b8   c8   d8\n",
            "2   a9   b9   c9   d9\n",
            "5  a10  b10  c10  d10\n",
            "7  a11  b11  c11  d11\n"
          ],
          "name": "stdout"
        }
      ]
    },
    {
      "cell_type": "code",
      "metadata": {
        "colab": {
          "base_uri": "https://localhost:8080/"
        },
        "id": "LP4dbktzikRC",
        "outputId": "cca8d8df-2c4b-48f9-ca68-64092ea1d89c"
      },
      "source": [
        "col_concat = pd.concat([df1, df2, df3], axis=1)\n",
        "print(col_concat)"
      ],
      "execution_count": 71,
      "outputs": [
        {
          "output_type": "stream",
          "text": [
            "     A    B    C    D    E    F    G    H    A    C    F    H\n",
            "0   a0   b0   c0   d0  NaN  NaN  NaN  NaN   a8   b8   c8   d8\n",
            "1   a1   b1   c1   d1  NaN  NaN  NaN  NaN  NaN  NaN  NaN  NaN\n",
            "2   a2   b2   c2   d2  NaN  NaN  NaN  NaN   a9   b9   c9   d9\n",
            "3   a3   b3   c3   d3  NaN  NaN  NaN  NaN  NaN  NaN  NaN  NaN\n",
            "4  NaN  NaN  NaN  NaN   a4   b4   c4   d4  NaN  NaN  NaN  NaN\n",
            "5  NaN  NaN  NaN  NaN   a5   b5   c5   d5  a10  b10  c10  d10\n",
            "6  NaN  NaN  NaN  NaN   a6   b6   c6   d6  NaN  NaN  NaN  NaN\n",
            "7  NaN  NaN  NaN  NaN   a7   b7   c7   d7  a11  b11  c11  d11\n"
          ],
          "name": "stdout"
        }
      ]
    },
    {
      "cell_type": "markdown",
      "metadata": {
        "id": "qOJ48Tj_jHpK"
      },
      "source": [
        "# 공통 행 연결 "
      ]
    },
    {
      "cell_type": "code",
      "metadata": {
        "colab": {
          "base_uri": "https://localhost:8080/"
        },
        "id": "10wpLPmWjF1q",
        "outputId": "9fee8365-b445-42f2-9376-c1e291cd19e2"
      },
      "source": [
        "print(pd.concat([df1, df3], axis=1, join='inner'))"
      ],
      "execution_count": 72,
      "outputs": [
        {
          "output_type": "stream",
          "text": [
            "    A   B   C   D   A   C   F   H\n",
            "0  a0  b0  c0  d0  a8  b8  c8  d8\n",
            "2  a2  b2  c2  d2  a9  b9  c9  d9\n"
          ],
          "name": "stdout"
        }
      ]
    },
    {
      "cell_type": "code",
      "metadata": {
        "id": "qGC9kJxaXbut",
        "colab": {
          "base_uri": "https://localhost:8080/"
        },
        "outputId": "9d3bddf9-0741-489f-f684-b53e2a873e20"
      },
      "source": [
        "person = pd.read_csv('./survey_person.csv') # 관측한 사람 이름\n",
        "site = pd.read_csv('./survey_site.csv') # 관측 위치\n",
        "survey = pd.read_csv('./survey_survey.csv') # 관측 날짜\n",
        "visited = pd.read_csv('./survey_visited.csv') # 날씨\n",
        "\n",
        "print(person)"
      ],
      "execution_count": 73,
      "outputs": [
        {
          "output_type": "stream",
          "text": [
            "      ident   personal    family\n",
            "0      dyer    William      Dyer\n",
            "1        pb      Frank   Pabodie\n",
            "2      lake   Anderson      Lake\n",
            "3       roe  Valentina   Roerich\n",
            "4  danforth      Frank  Danforth\n"
          ],
          "name": "stdout"
        }
      ]
    },
    {
      "cell_type": "code",
      "metadata": {
        "colab": {
          "base_uri": "https://localhost:8080/"
        },
        "id": "U4FAE4V0lRSD",
        "outputId": "46098698-bd9e-4bad-9db1-77c788ab83bc"
      },
      "source": [
        "print(site)"
      ],
      "execution_count": 74,
      "outputs": [
        {
          "output_type": "stream",
          "text": [
            "    name    lat    long\n",
            "0   DR-1 -49.85 -128.57\n",
            "1   DR-3 -47.15 -126.72\n",
            "2  MSK-4 -48.87 -123.40\n"
          ],
          "name": "stdout"
        }
      ]
    },
    {
      "cell_type": "code",
      "metadata": {
        "colab": {
          "base_uri": "https://localhost:8080/"
        },
        "id": "NUGp9xBImK_6",
        "outputId": "cc6dc21e-89ea-4967-957f-500dcf62b84e"
      },
      "source": [
        "print(visited)"
      ],
      "execution_count": 75,
      "outputs": [
        {
          "output_type": "stream",
          "text": [
            "   ident   site       dated\n",
            "0    619   DR-1  1927-02-08\n",
            "1    622   DR-1  1927-02-10\n",
            "2    734   DR-3  1939-01-07\n",
            "3    735   DR-3  1930-01-12\n",
            "4    751   DR-3  1930-02-26\n",
            "5    752   DR-3         NaN\n",
            "6    837  MSK-4  1932-01-14\n",
            "7    844   DR-1  1932-03-22\n"
          ],
          "name": "stdout"
        }
      ]
    },
    {
      "cell_type": "code",
      "metadata": {
        "colab": {
          "base_uri": "https://localhost:8080/"
        },
        "id": "o-2Q2zbYnH9P",
        "outputId": "a6944deb-42b2-4e4e-b95a-97641084f0ea"
      },
      "source": [
        "print(survey)"
      ],
      "execution_count": 76,
      "outputs": [
        {
          "output_type": "stream",
          "text": [
            "    taken person quant  reading\n",
            "0     619   dyer   rad     9.82\n",
            "1     619   dyer   sal     0.13\n",
            "2     622   dyer   rad     7.80\n",
            "3     622   dyer   sal     0.09\n",
            "4     734     pb   rad     8.41\n",
            "5     734   lake   sal     0.05\n",
            "6     734     pb  temp   -21.50\n",
            "7     735     pb   rad     7.22\n",
            "8     735    NaN   sal     0.06\n",
            "9     735    NaN  temp   -26.00\n",
            "10    751     pb   rad     4.35\n",
            "11    751     pb  temp   -18.50\n",
            "12    751   lake   sal     0.10\n",
            "13    752   lake   rad     2.19\n",
            "14    752   lake   sal     0.09\n",
            "15    752   lake  temp   -16.00\n",
            "16    752    roe   sal    41.60\n",
            "17    837   lake   rad     1.46\n",
            "18    837   lake   sal     0.21\n",
            "19    837    roe   sal    22.50\n",
            "20    844    roe   rad    11.25\n"
          ],
          "name": "stdout"
        }
      ]
    },
    {
      "cell_type": "code",
      "metadata": {
        "colab": {
          "base_uri": "https://localhost:8080/"
        },
        "id": "gRs2UAMqnlGS",
        "outputId": "17160d5d-1ee6-4909-da13-e97f72938cd5"
      },
      "source": [
        "visited_subset = visited.loc[[0, 2, 6], ]\n",
        "print(visited_subset)"
      ],
      "execution_count": 77,
      "outputs": [
        {
          "output_type": "stream",
          "text": [
            "   ident   site       dated\n",
            "0    619   DR-1  1927-02-08\n",
            "2    734   DR-3  1939-01-07\n",
            "6    837  MSK-4  1932-01-14\n"
          ],
          "name": "stdout"
        }
      ]
    },
    {
      "cell_type": "code",
      "metadata": {
        "colab": {
          "base_uri": "https://localhost:8080/"
        },
        "id": "DRFyeM_QoK_G",
        "outputId": "7ecf1eab-68c1-432a-bfeb-6e9357a09e7d"
      },
      "source": [
        "o2o_merge = site.merge(visited_subset, left_on='name', right_on='site')\n",
        "print(o2o_merge)"
      ],
      "execution_count": 78,
      "outputs": [
        {
          "output_type": "stream",
          "text": [
            "    name    lat    long  ident   site       dated\n",
            "0   DR-1 -49.85 -128.57    619   DR-1  1927-02-08\n",
            "1   DR-3 -47.15 -126.72    734   DR-3  1939-01-07\n",
            "2  MSK-4 -48.87 -123.40    837  MSK-4  1932-01-14\n"
          ],
          "name": "stdout"
        }
      ]
    },
    {
      "cell_type": "code",
      "metadata": {
        "colab": {
          "base_uri": "https://localhost:8080/"
        },
        "id": "yd-yDTeSoFiX",
        "outputId": "bd183aa6-0d0d-419a-ffc4-b69b1ee23f22"
      },
      "source": [
        "m2o_merge = site.merge(visited, left_on='name', right_on='site')\n",
        "print(m2o_merge)"
      ],
      "execution_count": 79,
      "outputs": [
        {
          "output_type": "stream",
          "text": [
            "    name    lat    long  ident   site       dated\n",
            "0   DR-1 -49.85 -128.57    619   DR-1  1927-02-08\n",
            "1   DR-1 -49.85 -128.57    622   DR-1  1927-02-10\n",
            "2   DR-1 -49.85 -128.57    844   DR-1  1932-03-22\n",
            "3   DR-3 -47.15 -126.72    734   DR-3  1939-01-07\n",
            "4   DR-3 -47.15 -126.72    735   DR-3  1930-01-12\n",
            "5   DR-3 -47.15 -126.72    751   DR-3  1930-02-26\n",
            "6   DR-3 -47.15 -126.72    752   DR-3         NaN\n",
            "7  MSK-4 -48.87 -123.40    837  MSK-4  1932-01-14\n"
          ],
          "name": "stdout"
        }
      ]
    },
    {
      "cell_type": "code",
      "metadata": {
        "colab": {
          "base_uri": "https://localhost:8080/"
        },
        "id": "S6KIlVXHp6mm",
        "outputId": "a36f1880-eb06-4087-820e-fbd1fadf1340"
      },
      "source": [
        "ps = person.merge(survey, left_on='ident', right_on='person')\n",
        "print(ps)"
      ],
      "execution_count": 80,
      "outputs": [
        {
          "output_type": "stream",
          "text": [
            "   ident   personal   family  taken person quant  reading\n",
            "0   dyer    William     Dyer    619   dyer   rad     9.82\n",
            "1   dyer    William     Dyer    619   dyer   sal     0.13\n",
            "2   dyer    William     Dyer    622   dyer   rad     7.80\n",
            "3   dyer    William     Dyer    622   dyer   sal     0.09\n",
            "4     pb      Frank  Pabodie    734     pb   rad     8.41\n",
            "5     pb      Frank  Pabodie    734     pb  temp   -21.50\n",
            "6     pb      Frank  Pabodie    735     pb   rad     7.22\n",
            "7     pb      Frank  Pabodie    751     pb   rad     4.35\n",
            "8     pb      Frank  Pabodie    751     pb  temp   -18.50\n",
            "9   lake   Anderson     Lake    734   lake   sal     0.05\n",
            "10  lake   Anderson     Lake    751   lake   sal     0.10\n",
            "11  lake   Anderson     Lake    752   lake   rad     2.19\n",
            "12  lake   Anderson     Lake    752   lake   sal     0.09\n",
            "13  lake   Anderson     Lake    752   lake  temp   -16.00\n",
            "14  lake   Anderson     Lake    837   lake   rad     1.46\n",
            "15  lake   Anderson     Lake    837   lake   sal     0.21\n",
            "16   roe  Valentina  Roerich    752    roe   sal    41.60\n",
            "17   roe  Valentina  Roerich    837    roe   sal    22.50\n",
            "18   roe  Valentina  Roerich    844    roe   rad    11.25\n"
          ],
          "name": "stdout"
        }
      ]
    },
    {
      "cell_type": "code",
      "metadata": {
        "colab": {
          "base_uri": "https://localhost:8080/"
        },
        "id": "HSmPXvyyqcJC",
        "outputId": "54d7a744-fdd0-400c-e7ae-ef3e627c4629"
      },
      "source": [
        "vs = visited.merge(survey, left_on='ident', right_on='taken')\n",
        "print(vs)"
      ],
      "execution_count": 81,
      "outputs": [
        {
          "output_type": "stream",
          "text": [
            "    ident   site       dated  taken person quant  reading\n",
            "0     619   DR-1  1927-02-08    619   dyer   rad     9.82\n",
            "1     619   DR-1  1927-02-08    619   dyer   sal     0.13\n",
            "2     622   DR-1  1927-02-10    622   dyer   rad     7.80\n",
            "3     622   DR-1  1927-02-10    622   dyer   sal     0.09\n",
            "4     734   DR-3  1939-01-07    734     pb   rad     8.41\n",
            "5     734   DR-3  1939-01-07    734   lake   sal     0.05\n",
            "6     734   DR-3  1939-01-07    734     pb  temp   -21.50\n",
            "7     735   DR-3  1930-01-12    735     pb   rad     7.22\n",
            "8     735   DR-3  1930-01-12    735    NaN   sal     0.06\n",
            "9     735   DR-3  1930-01-12    735    NaN  temp   -26.00\n",
            "10    751   DR-3  1930-02-26    751     pb   rad     4.35\n",
            "11    751   DR-3  1930-02-26    751     pb  temp   -18.50\n",
            "12    751   DR-3  1930-02-26    751   lake   sal     0.10\n",
            "13    752   DR-3         NaN    752   lake   rad     2.19\n",
            "14    752   DR-3         NaN    752   lake   sal     0.09\n",
            "15    752   DR-3         NaN    752   lake  temp   -16.00\n",
            "16    752   DR-3         NaN    752    roe   sal    41.60\n",
            "17    837  MSK-4  1932-01-14    837   lake   rad     1.46\n",
            "18    837  MSK-4  1932-01-14    837   lake   sal     0.21\n",
            "19    837  MSK-4  1932-01-14    837    roe   sal    22.50\n",
            "20    844   DR-1  1932-03-22    844    roe   rad    11.25\n"
          ],
          "name": "stdout"
        }
      ]
    },
    {
      "cell_type": "code",
      "metadata": {
        "colab": {
          "base_uri": "https://localhost:8080/"
        },
        "id": "Qmpt5PaBqgzs",
        "outputId": "cd467413-7e4c-4a21-8ac6-88bc7703ac39"
      },
      "source": [
        "ps_vs = ps.merge(vs, \n",
        "                 left_on=['ident', 'taken', 'quant', 'reading'], \n",
        "                 right_on=['person', 'ident', 'quant', 'reading'])\n",
        "\n",
        "print(ps_vs.loc[0, ]) # 첫 행 추출"
      ],
      "execution_count": 82,
      "outputs": [
        {
          "output_type": "stream",
          "text": [
            "ident_x           dyer\n",
            "personal       William\n",
            "family            Dyer\n",
            "taken_x            619\n",
            "person_x          dyer\n",
            "quant              rad\n",
            "reading           9.82\n",
            "ident_y            619\n",
            "site              DR-1\n",
            "dated       1927-02-08\n",
            "taken_y            619\n",
            "person_y          dyer\n",
            "Name: 0, dtype: object\n"
          ],
          "name": "stdout"
        }
      ]
    }
  ]
}