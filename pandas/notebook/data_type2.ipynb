{
  "nbformat": 4,
  "nbformat_minor": 0,
  "metadata": {
    "kernelspec": {
      "display_name": "Python 3",
      "language": "python",
      "name": "python3"
    },
    "language_info": {
      "codemirror_mode": {
        "name": "ipython",
        "version": 3
      },
      "file_extension": ".py",
      "mimetype": "text/x-python",
      "name": "python",
      "nbconvert_exporter": "python",
      "pygments_lexer": "ipython3",
      "version": "3.8.8"
    },
    "colab": {
      "name": "03_practice.ipynb",
      "provenance": [],
      "collapsed_sections": []
    }
  },
  "cells": [
    {
      "cell_type": "markdown",
      "metadata": {
        "id": "09jdZmXdTD6v"
      },
      "source": [
        "# 시리즈 만들기 - 리스트"
      ]
    },
    {
      "cell_type": "code",
      "metadata": {
        "scrolled": true,
        "colab": {
          "base_uri": "https://localhost:8080/"
        },
        "id": "ggtdevgUTD62",
        "outputId": "42f660cc-06e0-4fe0-bb2c-122d623bb453"
      },
      "source": [
        "import pandas as pd\n",
        "\n",
        "s = pd.Series(['banana', 42])\n",
        "print(s)"
      ],
      "execution_count": null,
      "outputs": [
        {
          "output_type": "stream",
          "text": [
            "0    banana\n",
            "1        42\n",
            "dtype: object\n"
          ],
          "name": "stdout"
        }
      ]
    },
    {
      "cell_type": "code",
      "metadata": {
        "scrolled": true,
        "colab": {
          "base_uri": "https://localhost:8080/"
        },
        "id": "jrnmvSj8TD64",
        "outputId": "cf4d7ceb-a213-4d75-9120-b3d5bc50bdc9"
      },
      "source": [
        "s = pd.Series(['name', 'heedean'], index=['title', 'Person'])\n",
        "print(s)"
      ],
      "execution_count": null,
      "outputs": [
        {
          "output_type": "stream",
          "text": [
            "title        name\n",
            "Person    heedean\n",
            "dtype: object\n"
          ],
          "name": "stdout"
        }
      ]
    },
    {
      "cell_type": "markdown",
      "metadata": {
        "id": "vRDtC9hLTD65"
      },
      "source": [
        "# 데이터프레임 만들기"
      ]
    },
    {
      "cell_type": "code",
      "metadata": {
        "colab": {
          "base_uri": "https://localhost:8080/"
        },
        "id": "VT3MoodNTD65",
        "outputId": "55f0431f-a7a8-40dc-c3e4-e3efda43d736"
      },
      "source": [
        "scientists = pd.DataFrame(\n",
        "    data={'Occupation' : ['Chemist', 'Statistician'], # 딕셔너리\n",
        "          'Born' : ['1920-07-25', '1876-06-13'],\n",
        "          'Died' : ['1958-04-16', '1937-10-16'],\n",
        "          'Age' : [37, 61]},\n",
        "    index=['Rosaline Franklin', 'William Gosset'],\n",
        "    columns=['Occupation', 'Born', 'Died', 'Age']\n",
        ")\n",
        "          \n",
        "print(scientists)"
      ],
      "execution_count": null,
      "outputs": [
        {
          "output_type": "stream",
          "text": [
            "                     Occupation        Born        Died  Age\n",
            "Rosaline Franklin       Chemist  1920-07-25  1958-04-16   37\n",
            "William Gosset     Statistician  1876-06-13  1937-10-16   61\n"
          ],
          "name": "stdout"
        }
      ]
    },
    {
      "cell_type": "markdown",
      "metadata": {
        "id": "LMfibh0WTD66"
      },
      "source": [
        "# 데이터프레임에서 시리즈 선택하기"
      ]
    },
    {
      "cell_type": "code",
      "metadata": {
        "colab": {
          "base_uri": "https://localhost:8080/"
        },
        "id": "tZ-36R1NXjli",
        "outputId": "dde59317-afd2-43e9-9cb2-c19ffd36b497"
      },
      "source": [
        "first_row = scientists.loc['William Gosset']\n",
        "\n",
        "print(type(first_row))"
      ],
      "execution_count": null,
      "outputs": [
        {
          "output_type": "stream",
          "text": [
            "<class 'pandas.core.series.Series'>\n"
          ],
          "name": "stdout"
        }
      ]
    },
    {
      "cell_type": "code",
      "metadata": {
        "colab": {
          "base_uri": "https://localhost:8080/"
        },
        "id": "Ct1ihloZYVuD",
        "outputId": "13070f33-013d-4537-a229-b5cc7ae3dd66"
      },
      "source": [
        "print(first_row)"
      ],
      "execution_count": null,
      "outputs": [
        {
          "output_type": "stream",
          "text": [
            "Occupation    Statistician\n",
            "Born            1876-06-13\n",
            "Died            1937-10-16\n",
            "Age                     61\n",
            "Name: William Gosset, dtype: object\n"
          ],
          "name": "stdout"
        }
      ]
    },
    {
      "cell_type": "code",
      "metadata": {
        "colab": {
          "base_uri": "https://localhost:8080/"
        },
        "id": "czAoBmw6Y5wZ",
        "outputId": "71154002-053d-47d5-ab8f-995effee6659"
      },
      "source": [
        "print(first_row.index)"
      ],
      "execution_count": null,
      "outputs": [
        {
          "output_type": "stream",
          "text": [
            "Index(['Occupation', 'Born', 'Died', 'Age'], dtype='object')\n"
          ],
          "name": "stdout"
        }
      ]
    },
    {
      "cell_type": "code",
      "metadata": {
        "colab": {
          "base_uri": "https://localhost:8080/"
        },
        "id": "VSjQc_pfaiXM",
        "outputId": "2fb0d398-f265-4af9-d307-ee043133e2c3"
      },
      "source": [
        "print(first_row.keys())"
      ],
      "execution_count": null,
      "outputs": [
        {
          "output_type": "stream",
          "text": [
            "Index(['Occupation', 'Born', 'Died', 'Age'], dtype='object')\n"
          ],
          "name": "stdout"
        }
      ]
    },
    {
      "cell_type": "code",
      "metadata": {
        "colab": {
          "base_uri": "https://localhost:8080/"
        },
        "id": "EDmavimMadkV",
        "outputId": "d703a7dc-ebda-46e5-9168-3c43110b6992"
      },
      "source": [
        "print(first_row.values)"
      ],
      "execution_count": null,
      "outputs": [
        {
          "output_type": "stream",
          "text": [
            "['Statistician' '1876-06-13' '1937-10-16' 61]\n"
          ],
          "name": "stdout"
        }
      ]
    },
    {
      "cell_type": "code",
      "metadata": {
        "colab": {
          "base_uri": "https://localhost:8080/"
        },
        "id": "hXIhEdFsazts",
        "outputId": "33b74092-75ed-4538-b728-0f1a8df41dc3"
      },
      "source": [
        "print(first_row.index[0])"
      ],
      "execution_count": null,
      "outputs": [
        {
          "output_type": "stream",
          "text": [
            "Occupation\n"
          ],
          "name": "stdout"
        }
      ]
    },
    {
      "cell_type": "code",
      "metadata": {
        "colab": {
          "base_uri": "https://localhost:8080/"
        },
        "id": "YXP8VajDba1Y",
        "outputId": "d0697675-d570-4588-b77d-5d6f6157c5a1"
      },
      "source": [
        "print(first_row.keys()[0])"
      ],
      "execution_count": null,
      "outputs": [
        {
          "output_type": "stream",
          "text": [
            "Occupation\n"
          ],
          "name": "stdout"
        }
      ]
    },
    {
      "cell_type": "code",
      "metadata": {
        "id": "p9vStem3TD66"
      },
      "source": [
        "from collections import OrderedDict\n",
        "\n",
        "scientists = pd.DataFrame(OrderedDict([\n",
        "    ('Name', ['Rosaline Franklin', 'William Gosset']),\n",
        "    ('Occupation', ['Chemist', 'Statistician']),\n",
        "    ('Born', ['1920-07-25', '1876-06-13']),\n",
        "    ('Died', ['1958-04-16', '1937-10-16']),\n",
        "    ('Age', [37, 61])\n",
        "]))\n",
        "          \n",
        "print(scientists)"
      ],
      "execution_count": null,
      "outputs": []
    },
    {
      "cell_type": "code",
      "metadata": {
        "colab": {
          "base_uri": "https://localhost:8080/"
        },
        "id": "7ltOMSMeTD68",
        "outputId": "3e78d3b0-f7f2-4c84-c797-d04d50c577bc"
      },
      "source": [
        "scientists = pd.read_csv('scientists.csv')\n",
        "\n",
        "ages = scientists['Age']\n",
        "\n",
        "print(ages.mean())"
      ],
      "execution_count": null,
      "outputs": [
        {
          "output_type": "stream",
          "text": [
            "59.125\n"
          ],
          "name": "stdout"
        }
      ]
    },
    {
      "cell_type": "code",
      "metadata": {
        "colab": {
          "base_uri": "https://localhost:8080/"
        },
        "id": "6qaZMscWbqos",
        "outputId": "9efff72f-2eb3-47ee-f9db-69cfc846a41c"
      },
      "source": [
        "print(ages[ages > ages.mean()]) # 불린 추출"
      ],
      "execution_count": null,
      "outputs": [
        {
          "output_type": "stream",
          "text": [
            "1    61\n",
            "2    90\n",
            "3    66\n",
            "7    77\n",
            "Name: Age, dtype: int64\n"
          ],
          "name": "stdout"
        }
      ]
    },
    {
      "cell_type": "markdown",
      "metadata": {
        "id": "qWl8Tuu4TD68"
      },
      "source": [
        "# Broadcasting : 모든 데이터 한번에 연산\n",
        "\n",
        "1. 벡터 : 여러 값을 가진 데이터 (시리즈)\n",
        "2. 스칼라 : 단일 데이터"
      ]
    },
    {
      "cell_type": "code",
      "metadata": {
        "id": "jpOgExOYTD68",
        "colab": {
          "base_uri": "https://localhost:8080/"
        },
        "outputId": "57c9bfb7-5b1f-490f-bcc9-cf4ac0a7f1fa"
      },
      "source": [
        "print(pd.Series([1, 100]))"
      ],
      "execution_count": 48,
      "outputs": [
        {
          "output_type": "stream",
          "text": [
            "0      1\n",
            "1    100\n",
            "dtype: int64\n"
          ],
          "name": "stdout"
        }
      ]
    },
    {
      "cell_type": "code",
      "metadata": {
        "colab": {
          "base_uri": "https://localhost:8080/"
        },
        "id": "Dkch_5o1iP8_",
        "outputId": "43ea5931-9471-410f-9ae1-a88e69b91828"
      },
      "source": [
        "print(ages + pd.Series([1, 100]))"
      ],
      "execution_count": 49,
      "outputs": [
        {
          "output_type": "stream",
          "text": [
            "0     38.0\n",
            "1    161.0\n",
            "2      NaN\n",
            "3      NaN\n",
            "4      NaN\n",
            "5      NaN\n",
            "6      NaN\n",
            "7      NaN\n",
            "dtype: float64\n"
          ],
          "name": "stdout"
        }
      ]
    },
    {
      "cell_type": "code",
      "metadata": {
        "colab": {
          "base_uri": "https://localhost:8080/"
        },
        "id": "K7UxGZu6iXBG",
        "outputId": "95e2b2fc-6359-4a52-9753-268944bb00a5"
      },
      "source": [
        "rev_ages = ages.sort_index(ascending=False)\n",
        "\n",
        "print(rev_ages)"
      ],
      "execution_count": 50,
      "outputs": [
        {
          "output_type": "stream",
          "text": [
            "7    77\n",
            "6    41\n",
            "5    45\n",
            "4    56\n",
            "3    66\n",
            "2    90\n",
            "1    61\n",
            "0    37\n",
            "Name: Age, dtype: int64\n"
          ],
          "name": "stdout"
        }
      ]
    },
    {
      "cell_type": "code",
      "metadata": {
        "colab": {
          "base_uri": "https://localhost:8080/"
        },
        "id": "yRzkzSz6izqR",
        "outputId": "23a7d4e6-5a25-41da-804f-48b58e2c467e"
      },
      "source": [
        "print(ages + rev_ages) # =(ages * 2) (Why? 일치하는 인덱스 값끼리 연산)"
      ],
      "execution_count": 53,
      "outputs": [
        {
          "output_type": "stream",
          "text": [
            "0     74\n",
            "1    122\n",
            "2    180\n",
            "3    132\n",
            "4    112\n",
            "5     90\n",
            "6     82\n",
            "7    154\n",
            "Name: Age, dtype: int64\n"
          ],
          "name": "stdout"
        }
      ]
    },
    {
      "cell_type": "code",
      "metadata": {
        "id": "mdXuURMVTD69",
        "colab": {
          "base_uri": "https://localhost:8080/"
        },
        "outputId": "0f3ee76c-ede9-47df-e2b0-9939580b7a11"
      },
      "source": [
        "print(scientists[scientists['Age'] > scientists['Age'].mean()])"
      ],
      "execution_count": 54,
      "outputs": [
        {
          "output_type": "stream",
          "text": [
            "                   Name        Born        Died  Age     Occupation\n",
            "1        William Gosset  1876-06-13  1937-10-16   61   Statistician\n",
            "2  Florence Nightingale  1820-05-12  1910-08-13   90          Nurse\n",
            "3           Marie Curie  1867-11-07  1934-07-04   66        Chemist\n",
            "7          Johann Gauss  1777-04-30  1855-02-23   77  Mathematician\n"
          ],
          "name": "stdout"
        }
      ]
    },
    {
      "cell_type": "code",
      "metadata": {
        "colab": {
          "base_uri": "https://localhost:8080/"
        },
        "id": "QnSkeFxOk7nz",
        "outputId": "95491cf6-5991-4a0d-ff68-be51dc559643"
      },
      "source": [
        "print(scientists * 2)"
      ],
      "execution_count": 55,
      "outputs": [
        {
          "output_type": "stream",
          "text": [
            "                                       Name  ...                            Occupation\n",
            "0        Rosaline FranklinRosaline Franklin  ...                        ChemistChemist\n",
            "1              William GossetWilliam Gosset  ...              StatisticianStatistician\n",
            "2  Florence NightingaleFlorence Nightingale  ...                            NurseNurse\n",
            "3                    Marie CurieMarie Curie  ...                        ChemistChemist\n",
            "4                Rachel CarsonRachel Carson  ...                    BiologistBiologist\n",
            "5                        John SnowJohn Snow  ...                    PhysicianPhysician\n",
            "6                    Alan TuringAlan Turing  ...  Computer ScientistComputer Scientist\n",
            "7                  Johann GaussJohann Gauss  ...            MathematicianMathematician\n",
            "\n",
            "[8 rows x 5 columns]\n"
          ],
          "name": "stdout"
        }
      ]
    },
    {
      "cell_type": "code",
      "metadata": {
        "id": "gddIYLWPTD69",
        "colab": {
          "base_uri": "https://localhost:8080/"
        },
        "outputId": "5b127416-d1aa-4e0b-af5f-186dc1018cb7"
      },
      "source": [
        "# object = string\n",
        "print(scientists['Born'].dtype)\n",
        "print(scientists['Died'].dtype)"
      ],
      "execution_count": 56,
      "outputs": [
        {
          "output_type": "stream",
          "text": [
            "object\n",
            "object\n"
          ],
          "name": "stdout"
        }
      ]
    },
    {
      "cell_type": "code",
      "metadata": {
        "colab": {
          "base_uri": "https://localhost:8080/"
        },
        "id": "mR0lgzVQmmw1",
        "outputId": "c6472386-e45c-4739-e94b-77ddfc502e56"
      },
      "source": [
        "born_datetime = pd.to_datetime(scientists['Born'], format='%Y-%m-%d')\n",
        "\n",
        "print(born_datetime)"
      ],
      "execution_count": 57,
      "outputs": [
        {
          "output_type": "stream",
          "text": [
            "0   1920-07-25\n",
            "1   1876-06-13\n",
            "2   1820-05-12\n",
            "3   1867-11-07\n",
            "4   1907-05-27\n",
            "5   1813-03-15\n",
            "6   1912-06-23\n",
            "7   1777-04-30\n",
            "Name: Born, dtype: datetime64[ns]\n"
          ],
          "name": "stdout"
        }
      ]
    },
    {
      "cell_type": "code",
      "metadata": {
        "colab": {
          "base_uri": "https://localhost:8080/"
        },
        "id": "qMiPAKvpnHg-",
        "outputId": "e7908b07-33ff-48ca-8ccc-1c9076a898cd"
      },
      "source": [
        "died_datetime = pd.to_datetime(scientists['Died'], format='%Y-%m-%d')\n",
        "\n",
        "print(died_datetime)"
      ],
      "execution_count": 58,
      "outputs": [
        {
          "output_type": "stream",
          "text": [
            "0   1958-04-16\n",
            "1   1937-10-16\n",
            "2   1910-08-13\n",
            "3   1934-07-04\n",
            "4   1964-04-14\n",
            "5   1858-06-16\n",
            "6   1954-06-07\n",
            "7   1855-02-23\n",
            "Name: Died, dtype: datetime64[ns]\n"
          ],
          "name": "stdout"
        }
      ]
    },
    {
      "cell_type": "code",
      "metadata": {
        "colab": {
          "base_uri": "https://localhost:8080/"
        },
        "id": "mALqVH-3nQNW",
        "outputId": "fe87e043-5d9a-4aeb-92a4-0419ab3ed488"
      },
      "source": [
        "# 열 추가\n",
        "scientists['born_dt'], scientists['died_dt'] = (born_datetime, died_datetime)\n",
        "\n",
        "print(scientists.head())"
      ],
      "execution_count": 59,
      "outputs": [
        {
          "output_type": "stream",
          "text": [
            "                   Name        Born  ...    born_dt    died_dt\n",
            "0     Rosaline Franklin  1920-07-25  ... 1920-07-25 1958-04-16\n",
            "1        William Gosset  1876-06-13  ... 1876-06-13 1937-10-16\n",
            "2  Florence Nightingale  1820-05-12  ... 1820-05-12 1910-08-13\n",
            "3           Marie Curie  1867-11-07  ... 1867-11-07 1934-07-04\n",
            "4         Rachel Carson  1907-05-27  ... 1907-05-27 1964-04-14\n",
            "\n",
            "[5 rows x 7 columns]\n"
          ],
          "name": "stdout"
        }
      ]
    },
    {
      "cell_type": "code",
      "metadata": {
        "colab": {
          "base_uri": "https://localhost:8080/"
        },
        "id": "vZu_UyyAnyuy",
        "outputId": "558755d1-e0dd-49d3-cb5b-1fc8a0133fb7"
      },
      "source": [
        "print(scientists.shape)"
      ],
      "execution_count": 61,
      "outputs": [
        {
          "output_type": "stream",
          "text": [
            "(8, 7)\n"
          ],
          "name": "stdout"
        }
      ]
    },
    {
      "cell_type": "code",
      "metadata": {
        "colab": {
          "base_uri": "https://localhost:8080/"
        },
        "id": "EK5WTpT_oAx-",
        "outputId": "166e4e8c-b8d2-4ed4-a9d0-00d284b1d7e5"
      },
      "source": [
        "scientists['age_days_dt'] = (scientists['died_dt'] - scientists['born_dt'])\n",
        "\n",
        "print(scientists)"
      ],
      "execution_count": 62,
      "outputs": [
        {
          "output_type": "stream",
          "text": [
            "                   Name        Born  ...    died_dt  age_days_dt\n",
            "0     Rosaline Franklin  1920-07-25  ... 1958-04-16   13779 days\n",
            "1        William Gosset  1876-06-13  ... 1937-10-16   22404 days\n",
            "2  Florence Nightingale  1820-05-12  ... 1910-08-13   32964 days\n",
            "3           Marie Curie  1867-11-07  ... 1934-07-04   24345 days\n",
            "4         Rachel Carson  1907-05-27  ... 1964-04-14   20777 days\n",
            "5             John Snow  1813-03-15  ... 1858-06-16   16529 days\n",
            "6           Alan Turing  1912-06-23  ... 1954-06-07   15324 days\n",
            "7          Johann Gauss  1777-04-30  ... 1855-02-23   28422 days\n",
            "\n",
            "[8 rows x 8 columns]\n"
          ],
          "name": "stdout"
        }
      ]
    },
    {
      "cell_type": "code",
      "metadata": {
        "id": "tr0R_XuITD69",
        "colab": {
          "base_uri": "https://localhost:8080/"
        },
        "outputId": "26896876-712c-4c44-9fcc-013994034dff"
      },
      "source": [
        "import random\n",
        "\n",
        "random.seed(42)\n",
        "random.shuffle(scientists['Age'])\n",
        "\n",
        "print(scientists['Age'])"
      ],
      "execution_count": 66,
      "outputs": [
        {
          "output_type": "stream",
          "text": [
            "0    77\n",
            "1    90\n",
            "2    37\n",
            "3    61\n",
            "4    41\n",
            "5    45\n",
            "6    66\n",
            "7    56\n",
            "Name: Age, dtype: int64\n"
          ],
          "name": "stdout"
        },
        {
          "output_type": "stream",
          "text": [
            "/usr/lib/python3.7/random.py:278: SettingWithCopyWarning: \n",
            "A value is trying to be set on a copy of a slice from a DataFrame\n",
            "\n",
            "See the caveats in the documentation: https://pandas.pydata.org/pandas-docs/stable/user_guide/indexing.html#returning-a-view-versus-a-copy\n",
            "  x[i], x[j] = x[j], x[i]\n"
          ],
          "name": "stderr"
        }
      ]
    },
    {
      "cell_type": "code",
      "metadata": {
        "id": "b94ylgMtTD6-",
        "colab": {
          "base_uri": "https://localhost:8080/"
        },
        "outputId": "7562ada2-b157-42e6-a78e-3541ea5b8575"
      },
      "source": [
        "print(scientists.columns)"
      ],
      "execution_count": 70,
      "outputs": [
        {
          "output_type": "stream",
          "text": [
            "Index(['Name', 'Born', 'Died', 'Age', 'Occupation', 'born_dt', 'died_dt',\n",
            "       'age_days_dt'],\n",
            "      dtype='object')\n"
          ],
          "name": "stdout"
        }
      ]
    },
    {
      "cell_type": "code",
      "metadata": {
        "colab": {
          "base_uri": "https://localhost:8080/"
        },
        "id": "HIdjnE9fqK6y",
        "outputId": "2f67b7fe-b03b-4f6f-a354-d4be1c6f5965"
      },
      "source": [
        "# 열 삭제\n",
        "scientists_dropped = scientists.drop(['Age'], axis=1)\n",
        "\n",
        "print(scientists_dropped.columns)"
      ],
      "execution_count": 69,
      "outputs": [
        {
          "output_type": "stream",
          "text": [
            "Index(['Name', 'Born', 'Died', 'Occupation', 'born_dt', 'died_dt',\n",
            "       'age_days_dt'],\n",
            "      dtype='object')\n"
          ],
          "name": "stdout"
        }
      ]
    },
    {
      "cell_type": "markdown",
      "metadata": {
        "id": "hQww2GTou4r_"
      },
      "source": [
        "# 데이터 저장"
      ]
    },
    {
      "cell_type": "code",
      "metadata": {
        "id": "7iMHBq3oTD6-",
        "colab": {
          "base_uri": "https://localhost:8080/"
        },
        "outputId": "77481b2b-2141-4afa-8c3c-303bdf930134"
      },
      "source": [
        "# 피클 : 바이너리 형태 오브젝트(소용량)\n",
        "\n",
        "names = scientists['Name']\n",
        "names.to_pickle('./names.pickle')\n",
        "\n",
        "scientists.to_pickle('./scientists.pickle')\n",
        "\n",
        "scientists_names_from_pickle = pd.read_pickle('./names.pickle')\n",
        "print(scientists_names_from_pickle)"
      ],
      "execution_count": 76,
      "outputs": [
        {
          "output_type": "stream",
          "text": [
            "0       Rosaline Franklin\n",
            "1          William Gosset\n",
            "2    Florence Nightingale\n",
            "3             Marie Curie\n",
            "4           Rachel Carson\n",
            "5               John Snow\n",
            "6             Alan Turing\n",
            "7            Johann Gauss\n",
            "Name: Name, dtype: object\n"
          ],
          "name": "stdout"
        }
      ]
    },
    {
      "cell_type": "code",
      "metadata": {
        "id": "TXjfF2_Ttyhl"
      },
      "source": [
        "# CSV\n",
        "names.to_csv('./names.csv')\n",
        "\n",
        "# TSV\n",
        "scientists.to_csv('./scientists.tsv', sep='\\t')\n",
        "\n",
        "# 엑셀 (데이터 프레임)\n",
        "names_df = names.to_frame() \n",
        "\n",
        "import xlwt\n",
        "names_df.to_excel('./names.xls')\n",
        "\n",
        "import openpyxl\n",
        "names_df.to_excel('./names.xlsx')"
      ],
      "execution_count": 79,
      "outputs": []
    }
  ]
}