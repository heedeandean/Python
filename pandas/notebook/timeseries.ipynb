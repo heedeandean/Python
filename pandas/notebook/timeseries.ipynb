{
  "nbformat": 4,
  "nbformat_minor": 0,
  "metadata": {
    "kernelspec": {
      "display_name": "Python 3",
      "language": "python",
      "name": "python3"
    },
    "language_info": {
      "codemirror_mode": {
        "name": "ipython",
        "version": 3
      },
      "file_extension": ".py",
      "mimetype": "text/x-python",
      "name": "python",
      "nbconvert_exporter": "python",
      "pygments_lexer": "ipython3",
      "version": "3.6.5"
    },
    "colab": {
      "name": "12_practice.ipynb",
      "provenance": [],
      "collapsed_sections": []
    }
  },
  "cells": [
    {
      "cell_type": "markdown",
      "metadata": {
        "id": "TRmxo4UsvbRX"
      },
      "source": [
        "# datetime 라이브러리\n",
        "1. date : 날짜\n",
        "2. time : 시간\n",
        "3. datetime : 날짜 + 시간\n"
      ]
    },
    {
      "cell_type": "code",
      "metadata": {
        "colab": {
          "base_uri": "https://localhost:8080/"
        },
        "id": "RH4qMDz6vbRY",
        "outputId": "5a662433-1ca1-4510-cb6f-e6b507391ab9"
      },
      "source": [
        "from datetime import datetime\n",
        "\n",
        "t1 = datetime.now() # 현재 시간 = datetime.today()\n",
        "print(t1)"
      ],
      "execution_count": 118,
      "outputs": [
        {
          "output_type": "stream",
          "text": [
            "2021-05-30 13:58:29.452743\n"
          ],
          "name": "stdout"
        }
      ]
    },
    {
      "cell_type": "code",
      "metadata": {
        "colab": {
          "base_uri": "https://localhost:8080/"
        },
        "id": "3VR_sg8N41A1",
        "outputId": "b97fb83e-8f2c-4952-9e70-9fce140197ad"
      },
      "source": [
        "nowDate = t1.strftime('%Y-%m-%d')\n",
        "print(nowDate)"
      ],
      "execution_count": 119,
      "outputs": [
        {
          "output_type": "stream",
          "text": [
            "2021-05-30\n"
          ],
          "name": "stdout"
        }
      ]
    },
    {
      "cell_type": "code",
      "metadata": {
        "colab": {
          "base_uri": "https://localhost:8080/"
        },
        "id": "IBv87cI25FFd",
        "outputId": "74e0ab1b-653a-41c6-e112-3c757e4acfd4"
      },
      "source": [
        "nowTime = t1.strftime('%H:%M:%S')\n",
        "print(nowTime)"
      ],
      "execution_count": 120,
      "outputs": [
        {
          "output_type": "stream",
          "text": [
            "13:58:29\n"
          ],
          "name": "stdout"
        }
      ]
    },
    {
      "cell_type": "code",
      "metadata": {
        "colab": {
          "base_uri": "https://localhost:8080/"
        },
        "id": "n4XlTMNE5VIr",
        "outputId": "fbb80b19-9bcc-4879-8566-121170543e9c"
      },
      "source": [
        "nowDateTime = t1.strftime('%Y-%m-%d %H:%M:%S')\n",
        "print(nowDateTime)"
      ],
      "execution_count": 121,
      "outputs": [
        {
          "output_type": "stream",
          "text": [
            "2021-05-30 13:58:29\n"
          ],
          "name": "stdout"
        }
      ]
    },
    {
      "cell_type": "code",
      "metadata": {
        "colab": {
          "base_uri": "https://localhost:8080/"
        },
        "id": "IlD73szVw0p5",
        "outputId": "50bfa2d5-fccf-4c67-f3c0-26484daca4d6"
      },
      "source": [
        "t2 = datetime(2022, 1, 1)\n",
        "print(t2)"
      ],
      "execution_count": 122,
      "outputs": [
        {
          "output_type": "stream",
          "text": [
            "2022-01-01 00:00:00\n"
          ],
          "name": "stdout"
        }
      ]
    },
    {
      "cell_type": "code",
      "metadata": {
        "colab": {
          "base_uri": "https://localhost:8080/"
        },
        "id": "tlccK7EWyBJJ",
        "outputId": "8ccad814-3cb0-4982-d87b-7db51af010f9"
      },
      "source": [
        "t3 = datetime(2022, 1, 1, 1, 1, 1)\n",
        "print(t3)"
      ],
      "execution_count": 123,
      "outputs": [
        {
          "output_type": "stream",
          "text": [
            "2022-01-01 01:01:01\n"
          ],
          "name": "stdout"
        }
      ]
    },
    {
      "cell_type": "code",
      "metadata": {
        "colab": {
          "base_uri": "https://localhost:8080/"
        },
        "id": "A2RwAXWpyIcD",
        "outputId": "2eb15197-2567-4dc4-ffcf-0a5453a447ce"
      },
      "source": [
        "diff1 = t2 - t1\n",
        "print(diff1)"
      ],
      "execution_count": 124,
      "outputs": [
        {
          "output_type": "stream",
          "text": [
            "215 days, 10:01:30.547257\n"
          ],
          "name": "stdout"
        }
      ]
    },
    {
      "cell_type": "code",
      "metadata": {
        "colab": {
          "base_uri": "https://localhost:8080/"
        },
        "id": "IVl112ppylol",
        "outputId": "395f176d-c737-46e0-a93d-5a111742f22e"
      },
      "source": [
        "print(type(diff1))"
      ],
      "execution_count": 125,
      "outputs": [
        {
          "output_type": "stream",
          "text": [
            "<class 'datetime.timedelta'>\n"
          ],
          "name": "stdout"
        }
      ]
    },
    {
      "cell_type": "code",
      "metadata": {
        "colab": {
          "base_uri": "https://localhost:8080/"
        },
        "id": "XB8a6iQ2yo04",
        "outputId": "2a04f2d5-e8c1-40a5-91c6-a7d8dce31f41"
      },
      "source": [
        "diff2 = t1 - t2\n",
        "print(diff2)"
      ],
      "execution_count": 126,
      "outputs": [
        {
          "output_type": "stream",
          "text": [
            "-216 days, 13:58:29.452743\n"
          ],
          "name": "stdout"
        }
      ]
    },
    {
      "cell_type": "markdown",
      "metadata": {
        "id": "VRuBruR0vbRZ"
      },
      "source": [
        "# 문자열 -> datetime로 변환"
      ]
    },
    {
      "cell_type": "code",
      "metadata": {
        "colab": {
          "base_uri": "https://localhost:8080/"
        },
        "id": "COgpe9V-vbRZ",
        "outputId": "f69d2ec1-a4c3-4c9a-c894-29281a497c88"
      },
      "source": [
        "import pandas as pd\n",
        "import os\n",
        "\n",
        "ebola = pd.read_csv('./country_timeseries.csv')\n",
        "\n",
        "print(ebola.info())"
      ],
      "execution_count": 127,
      "outputs": [
        {
          "output_type": "stream",
          "text": [
            "<class 'pandas.core.frame.DataFrame'>\n",
            "RangeIndex: 122 entries, 0 to 121\n",
            "Data columns (total 18 columns):\n",
            " #   Column               Non-Null Count  Dtype  \n",
            "---  ------               --------------  -----  \n",
            " 0   Date                 122 non-null    object \n",
            " 1   Day                  122 non-null    int64  \n",
            " 2   Cases_Guinea         93 non-null     float64\n",
            " 3   Cases_Liberia        83 non-null     float64\n",
            " 4   Cases_SierraLeone    87 non-null     float64\n",
            " 5   Cases_Nigeria        38 non-null     float64\n",
            " 6   Cases_Senegal        25 non-null     float64\n",
            " 7   Cases_UnitedStates   18 non-null     float64\n",
            " 8   Cases_Spain          16 non-null     float64\n",
            " 9   Cases_Mali           12 non-null     float64\n",
            " 10  Deaths_Guinea        92 non-null     float64\n",
            " 11  Deaths_Liberia       81 non-null     float64\n",
            " 12  Deaths_SierraLeone   87 non-null     float64\n",
            " 13  Deaths_Nigeria       38 non-null     float64\n",
            " 14  Deaths_Senegal       22 non-null     float64\n",
            " 15  Deaths_UnitedStates  18 non-null     float64\n",
            " 16  Deaths_Spain         16 non-null     float64\n",
            " 17  Deaths_Mali          12 non-null     float64\n",
            "dtypes: float64(16), int64(1), object(1)\n",
            "memory usage: 17.3+ KB\n",
            "None\n"
          ],
          "name": "stdout"
        }
      ]
    },
    {
      "cell_type": "code",
      "metadata": {
        "colab": {
          "base_uri": "https://localhost:8080/"
        },
        "id": "_xqRQwh30D1C",
        "outputId": "b17f8696-fad5-4478-c931-83118e23aae8"
      },
      "source": [
        "ebola['date_dt'] = pd.to_datetime(ebola['Date'])\n",
        "print(ebola.info)"
      ],
      "execution_count": 128,
      "outputs": [
        {
          "output_type": "stream",
          "text": [
            "<bound method DataFrame.info of            Date  Day  Cases_Guinea  ...  Deaths_Spain  Deaths_Mali    date_dt\n",
            "0      1/5/2015  289        2776.0  ...           NaN          NaN 2015-01-05\n",
            "1      1/4/2015  288        2775.0  ...           NaN          NaN 2015-01-04\n",
            "2      1/3/2015  287        2769.0  ...           NaN          NaN 2015-01-03\n",
            "3      1/2/2015  286           NaN  ...           NaN          NaN 2015-01-02\n",
            "4    12/31/2014  284        2730.0  ...           NaN          NaN 2014-12-31\n",
            "..          ...  ...           ...  ...           ...          ...        ...\n",
            "117   3/27/2014    5         103.0  ...           NaN          NaN 2014-03-27\n",
            "118   3/26/2014    4          86.0  ...           NaN          NaN 2014-03-26\n",
            "119   3/25/2014    3          86.0  ...           NaN          NaN 2014-03-25\n",
            "120   3/24/2014    2          86.0  ...           NaN          NaN 2014-03-24\n",
            "121   3/22/2014    0          49.0  ...           NaN          NaN 2014-03-22\n",
            "\n",
            "[122 rows x 19 columns]>\n"
          ],
          "name": "stdout"
        }
      ]
    },
    {
      "cell_type": "code",
      "metadata": {
        "colab": {
          "base_uri": "https://localhost:8080/"
        },
        "id": "yURMRM0_8K2Q",
        "outputId": "91a8f5ab-7b10-4371-d706-31f411377537"
      },
      "source": [
        "print(ebola[['Date', 'date_dt']].head())"
      ],
      "execution_count": 129,
      "outputs": [
        {
          "output_type": "stream",
          "text": [
            "         Date    date_dt\n",
            "0    1/5/2015 2015-01-05\n",
            "1    1/4/2015 2015-01-04\n",
            "2    1/3/2015 2015-01-03\n",
            "3    1/2/2015 2015-01-02\n",
            "4  12/31/2014 2014-12-31\n"
          ],
          "name": "stdout"
        }
      ]
    },
    {
      "cell_type": "code",
      "metadata": {
        "colab": {
          "base_uri": "https://localhost:8080/"
        },
        "id": "fvJasOnt8ZGe",
        "outputId": "f42b81ac-e9ce-4dbe-f4bc-75233bfa95e1"
      },
      "source": [
        "# 인덱스 접근\n",
        "print(ebola['date_dt'][3].year)"
      ],
      "execution_count": 130,
      "outputs": [
        {
          "output_type": "stream",
          "text": [
            "2015\n"
          ],
          "name": "stdout"
        }
      ]
    },
    {
      "cell_type": "code",
      "metadata": {
        "colab": {
          "base_uri": "https://localhost:8080/"
        },
        "id": "VFMWy3128d7n",
        "outputId": "6577d0b9-dca2-4884-ab24-59200e7834ef"
      },
      "source": [
        "print(ebola['date_dt'][3].month)"
      ],
      "execution_count": 131,
      "outputs": [
        {
          "output_type": "stream",
          "text": [
            "1\n"
          ],
          "name": "stdout"
        }
      ]
    },
    {
      "cell_type": "code",
      "metadata": {
        "colab": {
          "base_uri": "https://localhost:8080/"
        },
        "id": "6aqA34H58nkE",
        "outputId": "614184cf-eec2-4ade-aa97-bd3af7d2f312"
      },
      "source": [
        "print(ebola['date_dt'][3].day)"
      ],
      "execution_count": 132,
      "outputs": [
        {
          "output_type": "stream",
          "text": [
            "2\n"
          ],
          "name": "stdout"
        }
      ]
    },
    {
      "cell_type": "code",
      "metadata": {
        "colab": {
          "base_uri": "https://localhost:8080/"
        },
        "id": "vGlcLFTp9H5F",
        "outputId": "c70fb71f-039e-48cb-accc-6e91ab9125cf"
      },
      "source": [
        "# 전체 접근\n",
        "ebola['year'] = ebola['date_dt'].dt.year\n",
        "\n",
        "print(ebola[['Date', 'date_dt', 'year']].head())"
      ],
      "execution_count": 133,
      "outputs": [
        {
          "output_type": "stream",
          "text": [
            "         Date    date_dt  year\n",
            "0    1/5/2015 2015-01-05  2015\n",
            "1    1/4/2015 2015-01-04  2015\n",
            "2    1/3/2015 2015-01-03  2015\n",
            "3    1/2/2015 2015-01-02  2015\n",
            "4  12/31/2014 2014-12-31  2014\n"
          ],
          "name": "stdout"
        }
      ]
    },
    {
      "cell_type": "code",
      "metadata": {
        "colab": {
          "base_uri": "https://localhost:8080/"
        },
        "id": "IB8LBx0j9hYO",
        "outputId": "6fc37e39-a8de-49ab-e282-3605b0e7a63d"
      },
      "source": [
        "ebola['month'], ebola['day'] = (ebola['date_dt'].dt.month, ebola['date_dt'].dt.day)\n",
        "\n",
        "print(ebola[['Date', 'date_dt', 'year', 'month', 'day']].head())"
      ],
      "execution_count": 134,
      "outputs": [
        {
          "output_type": "stream",
          "text": [
            "         Date    date_dt  year  month  day\n",
            "0    1/5/2015 2015-01-05  2015      1    5\n",
            "1    1/4/2015 2015-01-04  2015      1    4\n",
            "2    1/3/2015 2015-01-03  2015      1    3\n",
            "3    1/2/2015 2015-01-02  2015      1    2\n",
            "4  12/31/2014 2014-12-31  2014     12   31\n"
          ],
          "name": "stdout"
        }
      ]
    },
    {
      "cell_type": "code",
      "metadata": {
        "colab": {
          "base_uri": "https://localhost:8080/"
        },
        "id": "5pX8YH_P9-H1",
        "outputId": "8e7fbf5a-bc33-4086-de21-c40cba9d60c3"
      },
      "source": [
        "print(ebola.info())"
      ],
      "execution_count": 135,
      "outputs": [
        {
          "output_type": "stream",
          "text": [
            "<class 'pandas.core.frame.DataFrame'>\n",
            "RangeIndex: 122 entries, 0 to 121\n",
            "Data columns (total 22 columns):\n",
            " #   Column               Non-Null Count  Dtype         \n",
            "---  ------               --------------  -----         \n",
            " 0   Date                 122 non-null    object        \n",
            " 1   Day                  122 non-null    int64         \n",
            " 2   Cases_Guinea         93 non-null     float64       \n",
            " 3   Cases_Liberia        83 non-null     float64       \n",
            " 4   Cases_SierraLeone    87 non-null     float64       \n",
            " 5   Cases_Nigeria        38 non-null     float64       \n",
            " 6   Cases_Senegal        25 non-null     float64       \n",
            " 7   Cases_UnitedStates   18 non-null     float64       \n",
            " 8   Cases_Spain          16 non-null     float64       \n",
            " 9   Cases_Mali           12 non-null     float64       \n",
            " 10  Deaths_Guinea        92 non-null     float64       \n",
            " 11  Deaths_Liberia       81 non-null     float64       \n",
            " 12  Deaths_SierraLeone   87 non-null     float64       \n",
            " 13  Deaths_Nigeria       38 non-null     float64       \n",
            " 14  Deaths_Senegal       22 non-null     float64       \n",
            " 15  Deaths_UnitedStates  18 non-null     float64       \n",
            " 16  Deaths_Spain         16 non-null     float64       \n",
            " 17  Deaths_Mali          12 non-null     float64       \n",
            " 18  date_dt              122 non-null    datetime64[ns]\n",
            " 19  year                 122 non-null    int64         \n",
            " 20  month                122 non-null    int64         \n",
            " 21  day                  122 non-null    int64         \n",
            "dtypes: datetime64[ns](1), float64(16), int64(4), object(1)\n",
            "memory usage: 21.1+ KB\n",
            "None\n"
          ],
          "name": "stdout"
        }
      ]
    },
    {
      "cell_type": "code",
      "metadata": {
        "colab": {
          "base_uri": "https://localhost:8080/"
        },
        "id": "bXKLcrqY0ova",
        "outputId": "cf4130e0-a539-4108-beb0-6609ea68af52"
      },
      "source": [
        "test_df1 = pd.DataFrame({'order_day':['07/07/21']})\n",
        "\n",
        "test_df1['date_dt1'] = pd.to_datetime(test_df1['order_day'], format='%d/%m/%y')\n",
        "test_df1['date_dt2'] = pd.to_datetime(test_df1['order_day'], format='%m/%d/%y')\n",
        "test_df1['date_dt3'] = pd.to_datetime(test_df1['order_day'], format='%y/%m/%d')\n",
        "\n",
        "print(test_df1)"
      ],
      "execution_count": 136,
      "outputs": [
        {
          "output_type": "stream",
          "text": [
            "  order_day   date_dt1   date_dt2   date_dt3\n",
            "0  07/07/21 2021-07-07 2021-07-07 2007-07-21\n"
          ],
          "name": "stdout"
        }
      ]
    },
    {
      "cell_type": "code",
      "metadata": {
        "colab": {
          "base_uri": "https://localhost:8080/"
        },
        "id": "AVOfN6havbRZ",
        "outputId": "88c9b6f5-6070-4c66-fb8a-a5422359429f"
      },
      "source": [
        "ebola1= pd.read_csv('./country_timeseries.csv', parse_dates=['Date'])\n",
        "print(ebola1.info())"
      ],
      "execution_count": 137,
      "outputs": [
        {
          "output_type": "stream",
          "text": [
            "<class 'pandas.core.frame.DataFrame'>\n",
            "RangeIndex: 122 entries, 0 to 121\n",
            "Data columns (total 18 columns):\n",
            " #   Column               Non-Null Count  Dtype         \n",
            "---  ------               --------------  -----         \n",
            " 0   Date                 122 non-null    datetime64[ns]\n",
            " 1   Day                  122 non-null    int64         \n",
            " 2   Cases_Guinea         93 non-null     float64       \n",
            " 3   Cases_Liberia        83 non-null     float64       \n",
            " 4   Cases_SierraLeone    87 non-null     float64       \n",
            " 5   Cases_Nigeria        38 non-null     float64       \n",
            " 6   Cases_Senegal        25 non-null     float64       \n",
            " 7   Cases_UnitedStates   18 non-null     float64       \n",
            " 8   Cases_Spain          16 non-null     float64       \n",
            " 9   Cases_Mali           12 non-null     float64       \n",
            " 10  Deaths_Guinea        92 non-null     float64       \n",
            " 11  Deaths_Liberia       81 non-null     float64       \n",
            " 12  Deaths_SierraLeone   87 non-null     float64       \n",
            " 13  Deaths_Nigeria       38 non-null     float64       \n",
            " 14  Deaths_Senegal       22 non-null     float64       \n",
            " 15  Deaths_UnitedStates  18 non-null     float64       \n",
            " 16  Deaths_Spain         16 non-null     float64       \n",
            " 17  Deaths_Mali          12 non-null     float64       \n",
            "dtypes: datetime64[ns](1), float64(16), int64(1)\n",
            "memory usage: 17.3 KB\n",
            "None\n"
          ],
          "name": "stdout"
        }
      ]
    },
    {
      "cell_type": "code",
      "metadata": {
        "colab": {
          "base_uri": "https://localhost:8080/"
        },
        "id": "Xeqc-R9yvbRZ",
        "outputId": "87ad43c0-9675-4d8c-a50d-7210f5733bd6"
      },
      "source": [
        "date_series = pd.Series(['2021-05-30'])\n",
        "d1 = pd.to_datetime(date_series)\n",
        "print(d1)"
      ],
      "execution_count": 138,
      "outputs": [
        {
          "output_type": "stream",
          "text": [
            "0   2021-05-30\n",
            "dtype: datetime64[ns]\n"
          ],
          "name": "stdout"
        }
      ]
    },
    {
      "cell_type": "code",
      "metadata": {
        "colab": {
          "base_uri": "https://localhost:8080/"
        },
        "id": "l1BSvDOp7vpe",
        "outputId": "5051bad2-5354-480e-a31e-f2cb3b99ed4b"
      },
      "source": [
        "print(d1[0].year)"
      ],
      "execution_count": 139,
      "outputs": [
        {
          "output_type": "stream",
          "text": [
            "2021\n"
          ],
          "name": "stdout"
        }
      ]
    },
    {
      "cell_type": "code",
      "metadata": {
        "colab": {
          "base_uri": "https://localhost:8080/"
        },
        "id": "v0g5usXw7zPr",
        "outputId": "65d26157-68d3-4423-9664-2bb1ebb354c0"
      },
      "source": [
        "print(d1[0].month)"
      ],
      "execution_count": 140,
      "outputs": [
        {
          "output_type": "stream",
          "text": [
            "5\n"
          ],
          "name": "stdout"
        }
      ]
    },
    {
      "cell_type": "code",
      "metadata": {
        "colab": {
          "base_uri": "https://localhost:8080/"
        },
        "id": "EOY7jQl772LC",
        "outputId": "565b4c7d-ecf1-4475-9ee8-d320567e2314"
      },
      "source": [
        "print(d1[0].day)"
      ],
      "execution_count": 141,
      "outputs": [
        {
          "output_type": "stream",
          "text": [
            "30\n"
          ],
          "name": "stdout"
        }
      ]
    },
    {
      "cell_type": "code",
      "metadata": {
        "colab": {
          "base_uri": "https://localhost:8080/"
        },
        "id": "sZs5lZy6vbRa",
        "outputId": "2566383d-b23f-4480-f909-243a3e163815"
      },
      "source": [
        "print(ebola.iloc[-5:, :5])"
      ],
      "execution_count": 142,
      "outputs": [
        {
          "output_type": "stream",
          "text": [
            "          Date  Day  Cases_Guinea  Cases_Liberia  Cases_SierraLeone\n",
            "117  3/27/2014    5         103.0            8.0                6.0\n",
            "118  3/26/2014    4          86.0            NaN                NaN\n",
            "119  3/25/2014    3          86.0            NaN                NaN\n",
            "120  3/24/2014    2          86.0            NaN                NaN\n",
            "121  3/22/2014    0          49.0            NaN                NaN\n"
          ],
          "name": "stdout"
        }
      ]
    },
    {
      "cell_type": "code",
      "metadata": {
        "colab": {
          "base_uri": "https://localhost:8080/"
        },
        "id": "7a_ZZcM_EQ7N",
        "outputId": "8dd6c90e-684f-4a73-aef1-8ca8622d8b3b"
      },
      "source": [
        "# 에볼라 최초 발생일\n",
        "print(ebola['date_dt'].min())"
      ],
      "execution_count": 143,
      "outputs": [
        {
          "output_type": "stream",
          "text": [
            "2014-03-22 00:00:00\n"
          ],
          "name": "stdout"
        }
      ]
    },
    {
      "cell_type": "code",
      "metadata": {
        "colab": {
          "base_uri": "https://localhost:8080/"
        },
        "id": "z_pXMGtkEVeI",
        "outputId": "490798df-9e86-460f-a926-791444a6e4f5"
      },
      "source": [
        "print(type(ebola['date_dt'].min()))"
      ],
      "execution_count": 144,
      "outputs": [
        {
          "output_type": "stream",
          "text": [
            "<class 'pandas._libs.tslibs.timestamps.Timestamp'>\n"
          ],
          "name": "stdout"
        }
      ]
    },
    {
      "cell_type": "code",
      "metadata": {
        "colab": {
          "base_uri": "https://localhost:8080/"
        },
        "id": "WFBEIPY0Ea3c",
        "outputId": "e8f5eaad-20d6-45e2-c063-836b25601718"
      },
      "source": [
        "ebola['outbreak_d'] = ebola['date_dt'] - ebola['date_dt'].min()\n",
        "print(ebola[['Date', 'Day', 'outbreak_d']].head())"
      ],
      "execution_count": 145,
      "outputs": [
        {
          "output_type": "stream",
          "text": [
            "         Date  Day outbreak_d\n",
            "0    1/5/2015  289   289 days\n",
            "1    1/4/2015  288   288 days\n",
            "2    1/3/2015  287   287 days\n",
            "3    1/2/2015  286   286 days\n",
            "4  12/31/2014  284   284 days\n"
          ],
          "name": "stdout"
        }
      ]
    },
    {
      "cell_type": "code",
      "metadata": {
        "colab": {
          "base_uri": "https://localhost:8080/"
        },
        "id": "4wcN2UQSvbRa",
        "outputId": "d416d12a-fcf4-49ab-8802-f85fafac553d"
      },
      "source": [
        "banks = pd.read_csv('./banklist.csv', parse_dates=[5, 6])\n",
        "print(banks.info())"
      ],
      "execution_count": 146,
      "outputs": [
        {
          "output_type": "stream",
          "text": [
            "<class 'pandas.core.frame.DataFrame'>\n",
            "RangeIndex: 555 entries, 0 to 554\n",
            "Data columns (total 7 columns):\n",
            " #   Column                 Non-Null Count  Dtype         \n",
            "---  ------                 --------------  -----         \n",
            " 0   Bank Name              555 non-null    object        \n",
            " 1   City                   555 non-null    object        \n",
            " 2   ST                     555 non-null    object        \n",
            " 3   CERT                   555 non-null    int64         \n",
            " 4   Acquiring Institution  555 non-null    object        \n",
            " 5   Closing Date           555 non-null    datetime64[ns]\n",
            " 6   Updated Date           555 non-null    datetime64[ns]\n",
            "dtypes: datetime64[ns](2), int64(1), object(4)\n",
            "memory usage: 30.5+ KB\n",
            "None\n"
          ],
          "name": "stdout"
        }
      ]
    },
    {
      "cell_type": "code",
      "metadata": {
        "colab": {
          "base_uri": "https://localhost:8080/"
        },
        "id": "pDLz_u76JtTm",
        "outputId": "32c487c1-d9cd-4d8b-8081-b3692abacb4d"
      },
      "source": [
        "banks['closing_quarter'], banks['closing_year'] = (banks['Closing Date'].dt.quarter, \n",
        "                                                   banks['Closing Date'].dt.year)\n",
        "print(banks.head())"
      ],
      "execution_count": 147,
      "outputs": [
        {
          "output_type": "stream",
          "text": [
            "                                           Bank Name  ... closing_year\n",
            "0                Washington Federal Bank for Savings  ...         2017\n",
            "1    The Farmers and Merchants State Bank of Argonia  ...         2017\n",
            "2                                Fayette County Bank  ...         2017\n",
            "3  Guaranty Bank, (d/b/a BestBank in Georgia & Mi...  ...         2017\n",
            "4                                     First NBC Bank  ...         2017\n",
            "\n",
            "[5 rows x 9 columns]\n"
          ],
          "name": "stdout"
        }
      ]
    },
    {
      "cell_type": "code",
      "metadata": {
        "colab": {
          "base_uri": "https://localhost:8080/"
        },
        "id": "WvWk6taHLFUb",
        "outputId": "cc9acea5-584c-42a0-a05f-7e90e8342d67"
      },
      "source": [
        "# 연도별 파산한 은행의 개수\n",
        "closing_year = banks.groupby(['closing_year']).size()\n",
        "print(closing_year)"
      ],
      "execution_count": 148,
      "outputs": [
        {
          "output_type": "stream",
          "text": [
            "closing_year\n",
            "2000      2\n",
            "2001      4\n",
            "2002     11\n",
            "2003      3\n",
            "2004      4\n",
            "2007      3\n",
            "2008     25\n",
            "2009    140\n",
            "2010    157\n",
            "2011     92\n",
            "2012     51\n",
            "2013     24\n",
            "2014     18\n",
            "2015      8\n",
            "2016      5\n",
            "2017      8\n",
            "dtype: int64\n"
          ],
          "name": "stdout"
        }
      ]
    },
    {
      "cell_type": "code",
      "metadata": {
        "colab": {
          "base_uri": "https://localhost:8080/"
        },
        "id": "2s3LBpuxLebp",
        "outputId": "93ba26ab-d7b8-4ec4-cc27-9400858476a6"
      },
      "source": [
        "# 연도별, 분기별 파산한 은행의 개수\n",
        "closing_year_q = banks.groupby(['closing_year', 'closing_quarter']).size()\n",
        "print(closing_year_q)"
      ],
      "execution_count": 149,
      "outputs": [
        {
          "output_type": "stream",
          "text": [
            "closing_year  closing_quarter\n",
            "2000          4                   2\n",
            "2001          1                   1\n",
            "              2                   1\n",
            "              3                   2\n",
            "2002          1                   6\n",
            "              2                   2\n",
            "              3                   1\n",
            "              4                   2\n",
            "2003          1                   1\n",
            "              2                   1\n",
            "              4                   1\n",
            "2004          1                   3\n",
            "              2                   1\n",
            "2007          1                   1\n",
            "              3                   1\n",
            "              4                   1\n",
            "2008          1                   2\n",
            "              2                   2\n",
            "              3                   9\n",
            "              4                  12\n",
            "2009          1                  21\n",
            "              2                  24\n",
            "              3                  50\n",
            "              4                  45\n",
            "2010          1                  41\n",
            "              2                  45\n",
            "              3                  41\n",
            "              4                  30\n",
            "2011          1                  26\n",
            "              2                  22\n",
            "              3                  26\n",
            "              4                  18\n",
            "2012          1                  16\n",
            "              2                  15\n",
            "              3                  12\n",
            "              4                   8\n",
            "2013          1                   4\n",
            "              2                  12\n",
            "              3                   6\n",
            "              4                   2\n",
            "2014          1                   5\n",
            "              2                   7\n",
            "              3                   2\n",
            "              4                   4\n",
            "2015          1                   4\n",
            "              2                   1\n",
            "              3                   1\n",
            "              4                   2\n",
            "2016          1                   1\n",
            "              2                   2\n",
            "              3                   2\n",
            "2017          1                   3\n",
            "              2                   3\n",
            "              4                   2\n",
            "dtype: int64\n"
          ],
          "name": "stdout"
        }
      ]
    },
    {
      "cell_type": "code",
      "metadata": {
        "colab": {
          "base_uri": "https://localhost:8080/",
          "height": 543
        },
        "id": "gNvpSuw7L6_c",
        "outputId": "a8c3509b-25ea-4915-d16d-16a5d69c082a"
      },
      "source": [
        "import matplotlib.pyplot as plt\n",
        "\n",
        "fig, ax = plt.subplots()\n",
        "ax = closing_year.plot()\n",
        "plt.show()\n",
        "\n",
        "fig, ax = plt.subplots()\n",
        "ax = closing_year_q.plot()\n",
        "plt.show()"
      ],
      "execution_count": 150,
      "outputs": [
        {
          "output_type": "display_data",
          "data": {
            "image/png": "[encoded data removed]",
            "text/plain": [
              "<Figure size 432x288 with 1 Axes>"
            ]
          },
          "metadata": {
            "tags": [],
            "needs_background": "light"
          }
        },
        {
          "output_type": "display_data",
          "data": {
            "image/png": "[encoded data removed]",
            "text/plain": [
              "<Figure size 432x288 with 1 Axes>"
            ]
          },
          "metadata": {
            "tags": [],
            "needs_background": "light"
          }
        }
      ]
    },
    {
      "cell_type": "markdown",
      "metadata": {
        "id": "zGB2zCO4vbRa"
      },
      "source": [
        "# 테슬라 주식 데이터로 시간 계산하기"
      ]
    },
    {
      "cell_type": "code",
      "metadata": {
        "colab": {
          "base_uri": "https://localhost:8080/"
        },
        "id": "veMZ4EwwvbRa",
        "outputId": "dc784a7f-aa3f-409c-8667-6cc50fb72266"
      },
      "source": [
        "pd.core.common.is_list_like = pd.api.types.is_list_like\n",
        "import pandas_datareader as pdr\n",
        "\n",
        "tesla = pdr.get_data_quandl('TSLA', api_key = 'zzBGnE9hVr4CJVcjhPhE')\n",
        "tesla.to_csv('./tesla_stock_quandl.csv')\n",
        "\n",
        "tesla = pd.read_csv('./tesla_stock_quandl.csv', parse_dates=[0])\n",
        "print(tesla.info())"
      ],
      "execution_count": 151,
      "outputs": [
        {
          "output_type": "stream",
          "text": [
            "<class 'pandas.core.frame.DataFrame'>\n",
            "RangeIndex: 459 entries, 0 to 458\n",
            "Data columns (total 13 columns):\n",
            " #   Column      Non-Null Count  Dtype         \n",
            "---  ------      --------------  -----         \n",
            " 0   Date        459 non-null    datetime64[ns]\n",
            " 1   Open        459 non-null    float64       \n",
            " 2   High        459 non-null    float64       \n",
            " 3   Low         459 non-null    float64       \n",
            " 4   Close       459 non-null    float64       \n",
            " 5   Volume      459 non-null    float64       \n",
            " 6   ExDividend  459 non-null    float64       \n",
            " 7   SplitRatio  459 non-null    float64       \n",
            " 8   AdjOpen     459 non-null    float64       \n",
            " 9   AdjHigh     459 non-null    float64       \n",
            " 10  AdjLow      459 non-null    float64       \n",
            " 11  AdjClose    459 non-null    float64       \n",
            " 12  AdjVolume   459 non-null    float64       \n",
            "dtypes: datetime64[ns](1), float64(12)\n",
            "memory usage: 46.7 KB\n",
            "None\n"
          ],
          "name": "stdout"
        }
      ]
    },
    {
      "cell_type": "code",
      "metadata": {
        "colab": {
          "base_uri": "https://localhost:8080/"
        },
        "id": "OiT8rkeRRMi7",
        "outputId": "199dc9ca-b752-4f7b-83f5-3b6e11aaec89"
      },
      "source": [
        "print(tesla.loc[(tesla.Date.dt.year == 2018) & (tesla.Date.dt.month == 3)])"
      ],
      "execution_count": 152,
      "outputs": [
        {
          "output_type": "stream",
          "text": [
            "         Date    Open    High  ...    AdjLow  AdjClose   AdjVolume\n",
            "0  2018-03-27  304.00  304.27  ...  277.1800    279.18  13696168.0\n",
            "1  2018-03-26  307.34  307.59  ...  291.3600    304.18   8324639.0\n",
            "2  2018-03-23  311.25  311.61  ...  300.4500    301.54   6600538.0\n",
            "3  2018-03-22  313.89  318.82  ...  308.1800    309.10   4914307.0\n",
            "4  2018-03-21  310.25  322.44  ...  310.1900    316.53   5927881.0\n",
            "5  2018-03-20  314.87  316.25  ...  308.7600    310.55   4726182.0\n",
            "6  2018-03-19  316.50  320.75  ...  309.6700    313.56   7440766.0\n",
            "7  2018-03-16  325.96  327.40  ...  319.0700    321.35   6058612.0\n",
            "8  2018-03-15  329.38  332.85  ...  321.1000    325.60   6366922.0\n",
            "9  2018-03-14  336.76  339.81  ...  323.9300    326.63   7932511.0\n",
            "10 2018-03-13  344.92  345.12  ...  336.2635    341.84   5932110.0\n",
            "11 2018-03-12  328.61  347.21  ...  326.5000    345.51   8212156.0\n",
            "12 2018-03-09  324.10  328.49  ...  322.3700    327.17   5479716.0\n",
            "13 2018-03-08  332.86  333.30  ...  326.2740    329.10   3476944.0\n",
            "14 2018-03-07  325.44  332.50  ...  321.7400    332.30   5007297.0\n",
            "15 2018-03-06  333.75  336.37  ...  327.0300    328.20   4285744.0\n",
            "16 2018-03-05  332.39  337.75  ...  329.2929    333.35   3823769.0\n",
            "17 2018-03-02  326.98  335.22  ...  322.9700    335.12   5092829.0\n",
            "18 2018-03-01  345.01  348.67  ...  330.0700    330.93   6885601.0\n",
            "\n",
            "[19 rows x 13 columns]\n"
          ],
          "name": "stdout"
        }
      ]
    },
    {
      "cell_type": "markdown",
      "metadata": {
        "id": "X_FwzMi8vbRa"
      },
      "source": [
        "# datetime 오브젝트(Date 열)를 인덱스로 지정"
      ]
    },
    {
      "cell_type": "code",
      "metadata": {
        "colab": {
          "base_uri": "https://localhost:8080/"
        },
        "id": "9KMOA9LkvbRa",
        "outputId": "0cbf7565-eb3d-4359-eecb-f72186a0d624"
      },
      "source": [
        "tesla.index = tesla['Date']\n",
        "print(tesla.index)"
      ],
      "execution_count": 153,
      "outputs": [
        {
          "output_type": "stream",
          "text": [
            "DatetimeIndex(['2018-03-27', '2018-03-26', '2018-03-23', '2018-03-22',\n",
            "               '2018-03-21', '2018-03-20', '2018-03-19', '2018-03-16',\n",
            "               '2018-03-15', '2018-03-14',\n",
            "               ...\n",
            "               '2016-06-13', '2016-06-10', '2016-06-09', '2016-06-08',\n",
            "               '2016-06-07', '2016-06-06', '2016-06-03', '2016-06-02',\n",
            "               '2016-06-01', '2016-05-31'],\n",
            "              dtype='datetime64[ns]', name='Date', length=459, freq=None)\n"
          ],
          "name": "stdout"
        }
      ]
    },
    {
      "cell_type": "code",
      "metadata": {
        "colab": {
          "base_uri": "https://localhost:8080/"
        },
        "id": "gr8aoKnjTtS0",
        "outputId": "d767cc08-2c2c-4987-f3dd-662cad5fdb60"
      },
      "source": [
        "print(tesla['2018'].iloc[:5, :5])"
      ],
      "execution_count": 154,
      "outputs": [
        {
          "output_type": "stream",
          "text": [
            "                 Date    Open    High     Low   Close\n",
            "Date                                                 \n",
            "2018-03-27 2018-03-27  304.00  304.27  277.18  279.18\n",
            "2018-03-26 2018-03-26  307.34  307.59  291.36  304.18\n",
            "2018-03-23 2018-03-23  311.25  311.61  300.45  301.54\n",
            "2018-03-22 2018-03-22  313.89  318.82  308.18  309.10\n",
            "2018-03-21 2018-03-21  310.25  322.44  310.19  316.53\n"
          ],
          "name": "stdout"
        }
      ]
    },
    {
      "cell_type": "code",
      "metadata": {
        "colab": {
          "base_uri": "https://localhost:8080/"
        },
        "id": "R0T2yVTLUO5R",
        "outputId": "bd645aa4-b40c-4d76-aafa-fe2fb19dea09"
      },
      "source": [
        "print(tesla['2018-03'].iloc[:, :5])"
      ],
      "execution_count": 155,
      "outputs": [
        {
          "output_type": "stream",
          "text": [
            "                 Date    Open    High       Low   Close\n",
            "Date                                                   \n",
            "2018-03-27 2018-03-27  304.00  304.27  277.1800  279.18\n",
            "2018-03-26 2018-03-26  307.34  307.59  291.3600  304.18\n",
            "2018-03-23 2018-03-23  311.25  311.61  300.4500  301.54\n",
            "2018-03-22 2018-03-22  313.89  318.82  308.1800  309.10\n",
            "2018-03-21 2018-03-21  310.25  322.44  310.1900  316.53\n",
            "2018-03-20 2018-03-20  314.87  316.25  308.7600  310.55\n",
            "2018-03-19 2018-03-19  316.50  320.75  309.6700  313.56\n",
            "2018-03-16 2018-03-16  325.96  327.40  319.0700  321.35\n",
            "2018-03-15 2018-03-15  329.38  332.85  321.1000  325.60\n",
            "2018-03-14 2018-03-14  336.76  339.81  323.9300  326.63\n",
            "2018-03-13 2018-03-13  344.92  345.12  336.2635  341.84\n",
            "2018-03-12 2018-03-12  328.61  347.21  326.5000  345.51\n",
            "2018-03-09 2018-03-09  324.10  328.49  322.3700  327.17\n",
            "2018-03-08 2018-03-08  332.86  333.30  326.2740  329.10\n",
            "2018-03-07 2018-03-07  325.44  332.50  321.7400  332.30\n",
            "2018-03-06 2018-03-06  333.75  336.37  327.0300  328.20\n",
            "2018-03-05 2018-03-05  332.39  337.75  329.2929  333.35\n",
            "2018-03-02 2018-03-02  326.98  335.22  322.9700  335.12\n",
            "2018-03-01 2018-03-01  345.01  348.67  330.0700  330.93\n"
          ],
          "name": "stdout"
        }
      ]
    },
    {
      "cell_type": "markdown",
      "metadata": {
        "id": "r5CQrBJ0vbRa"
      },
      "source": [
        "# 시간 간격을 인덱스로 지정"
      ]
    },
    {
      "cell_type": "code",
      "metadata": {
        "colab": {
          "base_uri": "https://localhost:8080/"
        },
        "id": "mx1UEvypvbRa",
        "outputId": "c49ffa83-ae6d-47bf-f14c-dbcda7e614e7"
      },
      "source": [
        "tesla['ref_date'] = tesla['Date'] - tesla['Date'].min()\n",
        "print(tesla.head())"
      ],
      "execution_count": 156,
      "outputs": [
        {
          "output_type": "stream",
          "text": [
            "                 Date    Open    High  ...  AdjClose   AdjVolume  ref_date\n",
            "Date                                   ...                                \n",
            "2018-03-27 2018-03-27  304.00  304.27  ...    279.18  13696168.0  665 days\n",
            "2018-03-26 2018-03-26  307.34  307.59  ...    304.18   8324639.0  664 days\n",
            "2018-03-23 2018-03-23  311.25  311.61  ...    301.54   6600538.0  661 days\n",
            "2018-03-22 2018-03-22  313.89  318.82  ...    309.10   4914307.0  660 days\n",
            "2018-03-21 2018-03-21  310.25  322.44  ...    316.53   5927881.0  659 days\n",
            "\n",
            "[5 rows x 14 columns]\n"
          ],
          "name": "stdout"
        }
      ]
    },
    {
      "cell_type": "code",
      "metadata": {
        "colab": {
          "base_uri": "https://localhost:8080/"
        },
        "id": "9_fvSHtyVdLs",
        "outputId": "6596ba67-2a52-46cb-97d9-3ea89de144ff"
      },
      "source": [
        "tesla.index = tesla['ref_date']\n",
        "print(tesla.iloc[:5, :5])"
      ],
      "execution_count": 157,
      "outputs": [
        {
          "output_type": "stream",
          "text": [
            "               Date    Open    High     Low   Close\n",
            "ref_date                                           \n",
            "665 days 2018-03-27  304.00  304.27  277.18  279.18\n",
            "664 days 2018-03-26  307.34  307.59  291.36  304.18\n",
            "661 days 2018-03-23  311.25  311.61  300.45  301.54\n",
            "660 days 2018-03-22  313.89  318.82  308.18  309.10\n",
            "659 days 2018-03-21  310.25  322.44  310.19  316.53\n"
          ],
          "name": "stdout"
        }
      ]
    },
    {
      "cell_type": "code",
      "metadata": {
        "colab": {
          "base_uri": "https://localhost:8080/"
        },
        "id": "mp1rrseIVylN",
        "outputId": "519f379d-5ed6-45a4-b49a-e89d0dac29f6"
      },
      "source": [
        "print(tesla['5 days':].iloc[:5, :5])"
      ],
      "execution_count": 158,
      "outputs": [
        {
          "output_type": "stream",
          "text": [
            "               Date    Open      High       Low   Close\n",
            "ref_date                                               \n",
            "3 days   2016-06-03  220.00  221.9400  218.0100  218.99\n",
            "2 days   2016-06-02  219.59  219.9090  217.1100  218.96\n",
            "1 days   2016-06-01  221.48  222.4000  216.8900  219.56\n",
            "0 days   2016-05-31  223.04  224.7497  221.5001  223.23\n"
          ],
          "name": "stdout"
        }
      ]
    },
    {
      "cell_type": "markdown",
      "metadata": {
        "id": "IHXjuzT2vbRa"
      },
      "source": [
        "# 시간 범위 생성하여 인덱스로 지정"
      ]
    },
    {
      "cell_type": "code",
      "metadata": {
        "colab": {
          "base_uri": "https://localhost:8080/"
        },
        "id": "TNoOB8pgvbRa",
        "outputId": "abbe2eb7-1f84-4cb4-f4ab-b5cc8f6da2d6"
      },
      "source": [
        "ebola = pd.read_csv('./country_timeseries.csv', parse_dates=[0])\n",
        "\n",
        "print(ebola.iloc[:5, :5]) # 2015-01-01 데이터 누락"
      ],
      "execution_count": 159,
      "outputs": [
        {
          "output_type": "stream",
          "text": [
            "        Date  Day  Cases_Guinea  Cases_Liberia  Cases_SierraLeone\n",
            "0 2015-01-05  289        2776.0            NaN            10030.0\n",
            "1 2015-01-04  288        2775.0            NaN             9780.0\n",
            "2 2015-01-03  287        2769.0         8166.0             9722.0\n",
            "3 2015-01-02  286           NaN         8157.0                NaN\n",
            "4 2014-12-31  284        2730.0         8115.0             9633.0\n"
          ],
          "name": "stdout"
        }
      ]
    },
    {
      "cell_type": "code",
      "metadata": {
        "colab": {
          "base_uri": "https://localhost:8080/"
        },
        "id": "8pB6plhQYItM",
        "outputId": "7a6b4e1d-e1e7-47b1-876d-2273e43eac76"
      },
      "source": [
        "head_range = pd.date_range(start='2014-12-31', end='2015-01-05')\n",
        "print(head_range)"
      ],
      "execution_count": 160,
      "outputs": [
        {
          "output_type": "stream",
          "text": [
            "DatetimeIndex(['2014-12-31', '2015-01-01', '2015-01-02', '2015-01-03',\n",
            "               '2015-01-04', '2015-01-05'],\n",
            "              dtype='datetime64[ns]', freq='D')\n"
          ],
          "name": "stdout"
        }
      ]
    },
    {
      "cell_type": "code",
      "metadata": {
        "colab": {
          "base_uri": "https://localhost:8080/"
        },
        "id": "eIVo4-KGYTt0",
        "outputId": "35e171d5-80e7-44e7-ec02-0d5379de7d11"
      },
      "source": [
        "ebola_5 = ebola.head()\n",
        "ebola_5.index = ebola_5['Date']\n",
        "ebola_5.reindex(head_range)\n",
        "\n",
        "print(ebola_5.iloc[:5, :5])"
      ],
      "execution_count": 161,
      "outputs": [
        {
          "output_type": "stream",
          "text": [
            "                 Date  Day  Cases_Guinea  Cases_Liberia  Cases_SierraLeone\n",
            "Date                                                                      \n",
            "2015-01-05 2015-01-05  289        2776.0            NaN            10030.0\n",
            "2015-01-04 2015-01-04  288        2775.0            NaN             9780.0\n",
            "2015-01-03 2015-01-03  287        2769.0         8166.0             9722.0\n",
            "2015-01-02 2015-01-02  286           NaN         8157.0                NaN\n",
            "2014-12-31 2014-12-31  284        2730.0         8115.0             9633.0\n"
          ],
          "name": "stdout"
        }
      ]
    },
    {
      "cell_type": "code",
      "metadata": {
        "colab": {
          "base_uri": "https://localhost:8080/"
        },
        "id": "7XSMaBR0vbRb",
        "outputId": "97b3a618-5c7b-43d0-d2f4-a3636a1d6ce3"
      },
      "source": [
        "print(pd.date_range('2017-01-01', '2017-01-07', freq='B')) # 평일만"
      ],
      "execution_count": 162,
      "outputs": [
        {
          "output_type": "stream",
          "text": [
            "DatetimeIndex(['2017-01-02', '2017-01-03', '2017-01-04', '2017-01-05',\n",
            "               '2017-01-06'],\n",
            "              dtype='datetime64[ns]', freq='B')\n"
          ],
          "name": "stdout"
        }
      ]
    },
    {
      "cell_type": "markdown",
      "metadata": {
        "id": "A8qJopeNvbRb"
      },
      "source": [
        "# 각 나라의 에볼라 발병일을 동일한 출발선으로 옮기기"
      ]
    },
    {
      "cell_type": "code",
      "metadata": {
        "colab": {
          "base_uri": "https://localhost:8080/",
          "height": 277
        },
        "id": "BXwdH46RarMq",
        "outputId": "3648fa58-43f5-4298-806e-f39290feba45"
      },
      "source": [
        "ebola.index = ebola['Date']\n",
        "\n",
        "fig, ax = plt.subplots()\n",
        "\n",
        "ax = ebola.iloc[0:, 1:].plot(ax=ax) # x : Date / y : 사망자 수\n",
        "\n",
        "ax.legend(fontsize=7, loc=2, borderaxespad=0.)\n",
        "\n",
        "plt.show()"
      ],
      "execution_count": 163,
      "outputs": [
        {
          "output_type": "display_data",
          "data": {
            "image/png": "[encoded data removed]",
            "text/plain": [
              "<Figure size 432x288 with 1 Axes>"
            ]
          },
          "metadata": {
            "tags": [],
            "needs_background": "light"
          }
        }
      ]
    },
    {
      "cell_type": "code",
      "metadata": {
        "colab": {
          "base_uri": "https://localhost:8080/"
        },
        "id": "aL4Y1tPpbsaf",
        "outputId": "7b3893c5-94dd-4a6f-a1e2-a8b276a59aed"
      },
      "source": [
        "ebola_sub = ebola[['Day', 'Cases_Guinea', 'Cases_Liberia']]\n",
        "print(ebola_sub.tail(10))"
      ],
      "execution_count": 164,
      "outputs": [
        {
          "output_type": "stream",
          "text": [
            "            Day  Cases_Guinea  Cases_Liberia\n",
            "Date                                        \n",
            "2014-04-04   13         143.0           18.0\n",
            "2014-04-01   10         127.0            8.0\n",
            "2014-03-31    9         122.0            8.0\n",
            "2014-03-29    7         112.0            7.0\n",
            "2014-03-28    6         112.0            3.0\n",
            "2014-03-27    5         103.0            8.0\n",
            "2014-03-26    4          86.0            NaN\n",
            "2014-03-25    3          86.0            NaN\n",
            "2014-03-24    2          86.0            NaN\n",
            "2014-03-22    0          49.0            NaN\n"
          ],
          "name": "stdout"
        }
      ]
    },
    {
      "cell_type": "code",
      "metadata": {
        "colab": {
          "base_uri": "https://localhost:8080/"
        },
        "id": "GmVRxqv1vbRb",
        "outputId": "d8ae8bc3-15ba-4295-bdfd-792c2189d067"
      },
      "source": [
        "new_idx = pd.date_range(ebola.index.min(), ebola.index.max())\n",
        "print(new_idx)"
      ],
      "execution_count": 165,
      "outputs": [
        {
          "output_type": "stream",
          "text": [
            "DatetimeIndex(['2014-03-22', '2014-03-23', '2014-03-24', '2014-03-25',\n",
            "               '2014-03-26', '2014-03-27', '2014-03-28', '2014-03-29',\n",
            "               '2014-03-30', '2014-03-31',\n",
            "               ...\n",
            "               '2014-12-27', '2014-12-28', '2014-12-29', '2014-12-30',\n",
            "               '2014-12-31', '2015-01-01', '2015-01-02', '2015-01-03',\n",
            "               '2015-01-04', '2015-01-05'],\n",
            "              dtype='datetime64[ns]', length=290, freq='D')\n"
          ],
          "name": "stdout"
        }
      ]
    },
    {
      "cell_type": "code",
      "metadata": {
        "colab": {
          "base_uri": "https://localhost:8080/"
        },
        "id": "hHbxtFLAdgAz",
        "outputId": "110f7b68-7c05-4530-fd8b-0477e7ecb591"
      },
      "source": [
        "new_idx = reversed(new_idx)\n",
        "ebola = ebola.reindex(new_idx)\n",
        "\n",
        "print(ebola.head().iloc[:, :5])"
      ],
      "execution_count": 166,
      "outputs": [
        {
          "output_type": "stream",
          "text": [
            "                 Date    Day  Cases_Guinea  Cases_Liberia  Cases_SierraLeone\n",
            "Date                                                                        \n",
            "2015-01-05 2015-01-05  289.0        2776.0            NaN            10030.0\n",
            "2015-01-04 2015-01-04  288.0        2775.0            NaN             9780.0\n",
            "2015-01-03 2015-01-03  287.0        2769.0         8166.0             9722.0\n",
            "2015-01-02 2015-01-02  286.0           NaN         8157.0                NaN\n",
            "2015-01-01        NaT    NaN           NaN            NaN                NaN\n"
          ],
          "name": "stdout"
        }
      ]
    },
    {
      "cell_type": "code",
      "metadata": {
        "colab": {
          "base_uri": "https://localhost:8080/"
        },
        "id": "6sznFy46dwtO",
        "outputId": "9c055a3d-b035-41af-820a-f1173e777c30"
      },
      "source": [
        "print(ebola.tail().iloc[:, :5])"
      ],
      "execution_count": 167,
      "outputs": [
        {
          "output_type": "stream",
          "text": [
            "                 Date  Day  Cases_Guinea  Cases_Liberia  Cases_SierraLeone\n",
            "Date                                                                      \n",
            "2014-03-26 2014-03-26  4.0          86.0            NaN                NaN\n",
            "2014-03-25 2014-03-25  3.0          86.0            NaN                NaN\n",
            "2014-03-24 2014-03-24  2.0          86.0            NaN                NaN\n",
            "2014-03-23        NaT  NaN           NaN            NaN                NaN\n",
            "2014-03-22 2014-03-22  0.0          49.0            NaN                NaN\n"
          ],
          "name": "stdout"
        }
      ]
    },
    {
      "cell_type": "code",
      "metadata": {
        "colab": {
          "base_uri": "https://localhost:8080/"
        },
        "id": "8OIcIuB8exJy",
        "outputId": "4093033c-1dc1-4f5e-c5f7-95b8922f79d3"
      },
      "source": [
        "last_valid = ebola.apply(pd.Series.last_valid_index) # 가장 오래된 데이터\n",
        "print(last_valid)"
      ],
      "execution_count": 168,
      "outputs": [
        {
          "output_type": "stream",
          "text": [
            "Date                  2014-03-22\n",
            "Day                   2014-03-22\n",
            "Cases_Guinea          2014-03-22\n",
            "Cases_Liberia         2014-03-27\n",
            "Cases_SierraLeone     2014-03-27\n",
            "Cases_Nigeria         2014-07-23\n",
            "Cases_Senegal         2014-08-31\n",
            "Cases_UnitedStates    2014-10-01\n",
            "Cases_Spain           2014-10-08\n",
            "Cases_Mali            2014-10-22\n",
            "Deaths_Guinea         2014-03-22\n",
            "Deaths_Liberia        2014-03-27\n",
            "Deaths_SierraLeone    2014-03-27\n",
            "Deaths_Nigeria        2014-07-23\n",
            "Deaths_Senegal        2014-09-07\n",
            "Deaths_UnitedStates   2014-10-01\n",
            "Deaths_Spain          2014-10-08\n",
            "Deaths_Mali           2014-10-22\n",
            "dtype: datetime64[ns]\n"
          ],
          "name": "stdout"
        }
      ]
    },
    {
      "cell_type": "code",
      "metadata": {
        "colab": {
          "base_uri": "https://localhost:8080/"
        },
        "id": "GMfRdoM9fZ-y",
        "outputId": "e2f45276-381d-40fe-db5b-301a0ec4398f"
      },
      "source": [
        "first_valid = ebola.apply(pd.Series.first_valid_index) # 가장 최근의 데이터\n",
        "print(first_valid)"
      ],
      "execution_count": 169,
      "outputs": [
        {
          "output_type": "stream",
          "text": [
            "Date                  2015-01-05\n",
            "Day                   2015-01-05\n",
            "Cases_Guinea          2015-01-05\n",
            "Cases_Liberia         2015-01-03\n",
            "Cases_SierraLeone     2015-01-05\n",
            "Cases_Nigeria         2014-12-07\n",
            "Cases_Senegal         2014-12-07\n",
            "Cases_UnitedStates    2014-12-07\n",
            "Cases_Spain           2014-12-07\n",
            "Cases_Mali            2014-12-07\n",
            "Deaths_Guinea         2015-01-05\n",
            "Deaths_Liberia        2015-01-03\n",
            "Deaths_SierraLeone    2015-01-05\n",
            "Deaths_Nigeria        2014-12-07\n",
            "Deaths_Senegal        2014-12-07\n",
            "Deaths_UnitedStates   2014-12-07\n",
            "Deaths_Spain          2014-12-07\n",
            "Deaths_Mali           2014-12-07\n",
            "dtype: datetime64[ns]\n"
          ],
          "name": "stdout"
        }
      ]
    },
    {
      "cell_type": "code",
      "metadata": {
        "colab": {
          "base_uri": "https://localhost:8080/"
        },
        "id": "5Vhs1ZtDf2-j",
        "outputId": "1804b964-d2bb-49f0-d184-b65de506faa8"
      },
      "source": [
        "earliest_date = ebola.index.min()\n",
        "print(earliest_date)"
      ],
      "execution_count": 170,
      "outputs": [
        {
          "output_type": "stream",
          "text": [
            "2014-03-22 00:00:00\n"
          ],
          "name": "stdout"
        }
      ]
    },
    {
      "cell_type": "code",
      "metadata": {
        "colab": {
          "base_uri": "https://localhost:8080/"
        },
        "id": "SyrQ6Xx2g8V2",
        "outputId": "e311ac97-c0f7-4ca9-e256-ad3f2e6dd7e9"
      },
      "source": [
        "shift_values = last_valid - earliest_date\n",
        "print(shift_values)"
      ],
      "execution_count": 171,
      "outputs": [
        {
          "output_type": "stream",
          "text": [
            "Date                    0 days\n",
            "Day                     0 days\n",
            "Cases_Guinea            0 days\n",
            "Cases_Liberia           5 days\n",
            "Cases_SierraLeone       5 days\n",
            "Cases_Nigeria         123 days\n",
            "Cases_Senegal         162 days\n",
            "Cases_UnitedStates    193 days\n",
            "Cases_Spain           200 days\n",
            "Cases_Mali            214 days\n",
            "Deaths_Guinea           0 days\n",
            "Deaths_Liberia          5 days\n",
            "Deaths_SierraLeone      5 days\n",
            "Deaths_Nigeria        123 days\n",
            "Deaths_Senegal        169 days\n",
            "Deaths_UnitedStates   193 days\n",
            "Deaths_Spain          200 days\n",
            "Deaths_Mali           214 days\n",
            "dtype: timedelta64[ns]\n"
          ],
          "name": "stdout"
        }
      ]
    },
    {
      "cell_type": "code",
      "metadata": {
        "colab": {
          "base_uri": "https://localhost:8080/"
        },
        "id": "ikwcRQdshKpw",
        "outputId": "ebbbf327-da21-40f9-c0c5-2f35abcacc92"
      },
      "source": [
        "# 각 나라의 에볼라 발병일 옮기기\n",
        "ebola_dict = {}\n",
        "\n",
        "for idx, col in enumerate(ebola):\n",
        "  d = shift_values[idx].days\n",
        "  shifted = ebola[col].shift(d)\n",
        "  ebola_dict[col] = shifted\n",
        "\n",
        "ebola_shift = pd.DataFrame(ebola_dict)\n",
        "print(ebola_shift.tail())"
      ],
      "execution_count": 172,
      "outputs": [
        {
          "output_type": "stream",
          "text": [
            "                 Date  Day  ...  Deaths_Spain  Deaths_Mali\n",
            "Date                        ...                           \n",
            "2014-03-26 2014-03-26  4.0  ...           1.0          NaN\n",
            "2014-03-25 2014-03-25  3.0  ...           NaN          NaN\n",
            "2014-03-24 2014-03-24  2.0  ...           NaN          NaN\n",
            "2014-03-23        NaT  NaN  ...           NaN          NaN\n",
            "2014-03-22 2014-03-22  0.0  ...           1.0          1.0\n",
            "\n",
            "[5 rows x 18 columns]\n"
          ],
          "name": "stdout"
        }
      ]
    },
    {
      "cell_type": "code",
      "metadata": {
        "colab": {
          "base_uri": "https://localhost:8080/"
        },
        "id": "HaVWjHYJikSL",
        "outputId": "323cb064-237e-4c38-ec45-05a3066b7fc2"
      },
      "source": [
        "ebola_shift.index = ebola_shift['Day']\n",
        "ebola_shift = ebola_shift.drop(['Date', 'Day'], axis=1)\n",
        "\n",
        "print(ebola_shift.tail())"
      ],
      "execution_count": 173,
      "outputs": [
        {
          "output_type": "stream",
          "text": [
            "     Cases_Guinea  Cases_Liberia  ...  Deaths_Spain  Deaths_Mali\n",
            "Day                               ...                           \n",
            "4.0          86.0            8.0  ...           1.0          NaN\n",
            "3.0          86.0            NaN  ...           NaN          NaN\n",
            "2.0          86.0            7.0  ...           NaN          NaN\n",
            "NaN           NaN            3.0  ...           NaN          NaN\n",
            "0.0          49.0            8.0  ...           1.0          1.0\n",
            "\n",
            "[5 rows x 16 columns]\n"
          ],
          "name": "stdout"
        }
      ]
    },
    {
      "cell_type": "code",
      "metadata": {
        "colab": {
          "base_uri": "https://localhost:8080/",
          "height": 279
        },
        "id": "JOKKKHaajQZC",
        "outputId": "0f695114-e546-411e-b0f4-4d32cf782113"
      },
      "source": [
        "fig, ax = plt.subplots()\n",
        "\n",
        "ax = ebola_shift.iloc[:, :].plot(ax=ax) # x : Day \n",
        "\n",
        "ax.legend(fontsize=7, loc=2, borderaxespad=0.)\n",
        "\n",
        "plt.show()"
      ],
      "execution_count": 174,
      "outputs": [
        {
          "output_type": "display_data",
          "data": {
            "image/png": "[encoded data removed]",
            "text/plain": [
              "<Figure size 432x288 with 1 Axes>"
            ]
          },
          "metadata": {
            "tags": [],
            "needs_background": "light"
          }
        }
      ]
    }
  ]
}