{
  "nbformat": 4,
  "nbformat_minor": 0,
  "metadata": {
    "kernelspec": {
      "display_name": "Python 3",
      "language": "python",
      "name": "python3"
    },
    "language_info": {
      "codemirror_mode": {
        "name": "ipython",
        "version": 3
      },
      "file_extension": ".py",
      "mimetype": "text/x-python",
      "name": "python",
      "nbconvert_exporter": "python",
      "pygments_lexer": "ipython3",
      "version": "3.6.5"
    },
    "colab": {
      "name": "10_practice.ipynb",
      "provenance": [],
      "collapsed_sections": []
    }
  },
  "cells": [
    {
      "cell_type": "code",
      "metadata": {
        "id": "h0kVCSTTtbDK"
      },
      "source": [
        "def my_sq(x):\n",
        "  return x ** 2\n",
        "\n",
        "def my_exp(x, n):\n",
        "  return x ** n"
      ],
      "execution_count": 30,
      "outputs": []
    },
    {
      "cell_type": "code",
      "metadata": {
        "colab": {
          "base_uri": "https://localhost:8080/"
        },
        "id": "wlTq_WMvoB3h",
        "outputId": "41b749b2-ecc2-4f8d-b86e-f61a171c9452"
      },
      "source": [
        "import pandas as pd\n",
        "\n",
        "df = pd.DataFrame({'a': [10, 20, 30], 'b': [20, 30, 40]})\n",
        "print(df)"
      ],
      "execution_count": 31,
      "outputs": [
        {
          "output_type": "stream",
          "text": [
            "    a   b\n",
            "0  10  20\n",
            "1  20  30\n",
            "2  30  40\n"
          ],
          "name": "stdout"
        }
      ]
    },
    {
      "cell_type": "code",
      "metadata": {
        "colab": {
          "base_uri": "https://localhost:8080/"
        },
        "id": "R_R8f800pPwQ",
        "outputId": "2cce6534-3ff2-4522-ba43-2d5c2e727969"
      },
      "source": [
        "print(df['a'] ** 2)"
      ],
      "execution_count": 32,
      "outputs": [
        {
          "output_type": "stream",
          "text": [
            "0    100\n",
            "1    400\n",
            "2    900\n",
            "Name: a, dtype: int64\n"
          ],
          "name": "stdout"
        }
      ]
    },
    {
      "cell_type": "code",
      "metadata": {
        "colab": {
          "base_uri": "https://localhost:8080/"
        },
        "id": "zH9wf4XPtPY6",
        "outputId": "0fefabe2-8c3c-4b9a-f80f-b1c3d8b222a5"
      },
      "source": [
        "sq = df['a'].apply(my_sq)\n",
        "print(sq)"
      ],
      "execution_count": 33,
      "outputs": [
        {
          "output_type": "stream",
          "text": [
            "0    100\n",
            "1    400\n",
            "2    900\n",
            "Name: a, dtype: int64\n"
          ],
          "name": "stdout"
        }
      ]
    },
    {
      "cell_type": "code",
      "metadata": {
        "colab": {
          "base_uri": "https://localhost:8080/"
        },
        "id": "yyq4AkGht1D1",
        "outputId": "eb852841-ac88-49b1-a369-bb7da9c8d638"
      },
      "source": [
        "ex = df['a'].apply(my_exp, n=3)\n",
        "print(ex)"
      ],
      "execution_count": 34,
      "outputs": [
        {
          "output_type": "stream",
          "text": [
            "0     1000\n",
            "1     8000\n",
            "2    27000\n",
            "Name: a, dtype: int64\n"
          ],
          "name": "stdout"
        }
      ]
    },
    {
      "cell_type": "code",
      "metadata": {
        "id": "aM4CsBOouJp0"
      },
      "source": [
        "def print_me(x):\n",
        "  print(x)"
      ],
      "execution_count": 35,
      "outputs": []
    },
    {
      "cell_type": "code",
      "metadata": {
        "colab": {
          "base_uri": "https://localhost:8080/"
        },
        "id": "yVka8DRwuFok",
        "outputId": "5cef71a7-6555-4c5b-db19-da053fa77eb0"
      },
      "source": [
        "print(df.apply(print_me, axis=0)) # 0:열 / 1:행 "
      ],
      "execution_count": 36,
      "outputs": [
        {
          "output_type": "stream",
          "text": [
            "0    10\n",
            "1    20\n",
            "2    30\n",
            "Name: a, dtype: int64\n",
            "0    20\n",
            "1    30\n",
            "2    40\n",
            "Name: b, dtype: int64\n",
            "a    None\n",
            "b    None\n",
            "dtype: object\n"
          ],
          "name": "stdout"
        }
      ]
    },
    {
      "cell_type": "code",
      "metadata": {
        "id": "iLkjnZmOoB3i"
      },
      "source": [
        "def avg_col_apply(col):\n",
        "  sum = 0\n",
        "\n",
        "  for item in col:\n",
        "    sum += item\n",
        "\n",
        "  return sum / df.shape[0]"
      ],
      "execution_count": 37,
      "outputs": []
    },
    {
      "cell_type": "code",
      "metadata": {
        "colab": {
          "base_uri": "https://localhost:8080/"
        },
        "id": "CfSRxvXRvLVO",
        "outputId": "f186da5f-be64-43f3-9271-787cbd7d1ce6"
      },
      "source": [
        "print(df.apply(avg_col_apply))"
      ],
      "execution_count": 38,
      "outputs": [
        {
          "output_type": "stream",
          "text": [
            "a    20.0\n",
            "b    30.0\n",
            "dtype: float64\n"
          ],
          "name": "stdout"
        }
      ]
    },
    {
      "cell_type": "code",
      "metadata": {
        "id": "aApGkNv0xocI"
      },
      "source": [
        "def avg_row_apply(row):\n",
        "  sum = 0\n",
        "\n",
        "  for item in row:\n",
        "    sum += item\n",
        "\n",
        "  return sum / df.shape[1]"
      ],
      "execution_count": 39,
      "outputs": []
    },
    {
      "cell_type": "code",
      "metadata": {
        "colab": {
          "base_uri": "https://localhost:8080/"
        },
        "id": "NXl6Wjja0bF3",
        "outputId": "83f390ef-9c1e-4508-8da7-3adbdfefbfcb"
      },
      "source": [
        "print(df.apply(avg_row_apply, axis=1))"
      ],
      "execution_count": 40,
      "outputs": [
        {
          "output_type": "stream",
          "text": [
            "0    15.0\n",
            "1    25.0\n",
            "2    35.0\n",
            "dtype: float64\n"
          ],
          "name": "stdout"
        }
      ]
    },
    {
      "cell_type": "code",
      "metadata": {
        "colab": {
          "base_uri": "https://localhost:8080/"
        },
        "id": "Q37nH8pGoB3i",
        "outputId": "037d9322-939c-4677-b9e2-589434254612"
      },
      "source": [
        "import seaborn as sns\n",
        "\n",
        "titanic = sns.load_dataset('titanic')\n",
        "print(titanic.info())"
      ],
      "execution_count": 41,
      "outputs": [
        {
          "output_type": "stream",
          "text": [
            "<class 'pandas.core.frame.DataFrame'>\n",
            "RangeIndex: 891 entries, 0 to 890\n",
            "Data columns (total 15 columns):\n",
            " #   Column       Non-Null Count  Dtype   \n",
            "---  ------       --------------  -----   \n",
            " 0   survived     891 non-null    int64   \n",
            " 1   pclass       891 non-null    int64   \n",
            " 2   sex          891 non-null    object  \n",
            " 3   age          714 non-null    float64 \n",
            " 4   sibsp        891 non-null    int64   \n",
            " 5   parch        891 non-null    int64   \n",
            " 6   fare         891 non-null    float64 \n",
            " 7   embarked     889 non-null    object  \n",
            " 8   class        891 non-null    category\n",
            " 9   who          891 non-null    object  \n",
            " 10  adult_male   891 non-null    bool    \n",
            " 11  deck         203 non-null    category\n",
            " 12  embark_town  889 non-null    object  \n",
            " 13  alive        891 non-null    object  \n",
            " 14  alone        891 non-null    bool    \n",
            "dtypes: bool(2), category(2), float64(2), int64(4), object(5)\n",
            "memory usage: 80.6+ KB\n",
            "None\n"
          ],
          "name": "stdout"
        }
      ]
    },
    {
      "cell_type": "code",
      "metadata": {
        "colab": {
          "base_uri": "https://localhost:8080/"
        },
        "id": "o218FOTu4nEi",
        "outputId": "cd3b0523-a1bb-484e-8c61-e84480bc4ce5"
      },
      "source": [
        "import numpy as np\n",
        "\n",
        "def count_missing(vec):\n",
        "  null_vec = pd.isnull(vec)\n",
        "  null_count = np.sum(null_vec)\n",
        "\n",
        "  return null_count\n",
        "\n",
        "cmis_col = titanic.apply(count_missing)\n",
        "print(cmis_col)"
      ],
      "execution_count": 42,
      "outputs": [
        {
          "output_type": "stream",
          "text": [
            "survived         0\n",
            "pclass           0\n",
            "sex              0\n",
            "age            177\n",
            "sibsp            0\n",
            "parch            0\n",
            "fare             0\n",
            "embarked         2\n",
            "class            0\n",
            "who              0\n",
            "adult_male       0\n",
            "deck           688\n",
            "embark_town      2\n",
            "alive            0\n",
            "alone            0\n",
            "dtype: int64\n"
          ],
          "name": "stdout"
        }
      ]
    },
    {
      "cell_type": "code",
      "metadata": {
        "colab": {
          "base_uri": "https://localhost:8080/"
        },
        "id": "7NHp1Fdj575E",
        "outputId": "aaf9c22e-370e-4e52-ee17-a2b3c4439481"
      },
      "source": [
        "# 누락값 비율 계산\n",
        "def prop_missing(vec):\n",
        "  num = count_missing(vec)\n",
        "  dem = vec.size\n",
        "\n",
        "  return num / dem\n",
        "\n",
        "pmis_col = titanic.apply(prop_missing)\n",
        "print(pmis_col)"
      ],
      "execution_count": 43,
      "outputs": [
        {
          "output_type": "stream",
          "text": [
            "survived       0.000000\n",
            "pclass         0.000000\n",
            "sex            0.000000\n",
            "age            0.198653\n",
            "sibsp          0.000000\n",
            "parch          0.000000\n",
            "fare           0.000000\n",
            "embarked       0.002245\n",
            "class          0.000000\n",
            "who            0.000000\n",
            "adult_male     0.000000\n",
            "deck           0.772166\n",
            "embark_town    0.002245\n",
            "alive          0.000000\n",
            "alone          0.000000\n",
            "dtype: float64\n"
          ],
          "name": "stdout"
        }
      ]
    },
    {
      "cell_type": "code",
      "metadata": {
        "colab": {
          "base_uri": "https://localhost:8080/"
        },
        "id": "_y4f81uF7OcJ",
        "outputId": "a9a9ef29-2088-4e2e-e40d-356dae01fdeb"
      },
      "source": [
        "# 행 방향\n",
        "cmis_row = titanic.apply(count_missing, axis=1)\n",
        "pmis_row = titanic.apply(prop_missing, axis=1)\n",
        "\n",
        "print(cmis_row.head())"
      ],
      "execution_count": 44,
      "outputs": [
        {
          "output_type": "stream",
          "text": [
            "0    1\n",
            "1    0\n",
            "2    1\n",
            "3    0\n",
            "4    1\n",
            "dtype: int64\n"
          ],
          "name": "stdout"
        }
      ]
    },
    {
      "cell_type": "code",
      "metadata": {
        "colab": {
          "base_uri": "https://localhost:8080/"
        },
        "id": "gqqeLomA8lOP",
        "outputId": "c9084143-9550-455d-a087-a6cf96e19b70"
      },
      "source": [
        "print(pmis_row.head())"
      ],
      "execution_count": 45,
      "outputs": [
        {
          "output_type": "stream",
          "text": [
            "0    0.066667\n",
            "1    0.000000\n",
            "2    0.066667\n",
            "3    0.000000\n",
            "4    0.066667\n",
            "dtype: float64\n"
          ],
          "name": "stdout"
        }
      ]
    },
    {
      "cell_type": "code",
      "metadata": {
        "colab": {
          "base_uri": "https://localhost:8080/"
        },
        "id": "rr7TXxY28jYB",
        "outputId": "51dc67c9-8c0a-4372-8b54-b3ce281dca44"
      },
      "source": [
        "titanic['num_missing'] = titanic.apply(count_missing, axis=1)\n",
        "print(titanic.head())"
      ],
      "execution_count": 46,
      "outputs": [
        {
          "output_type": "stream",
          "text": [
            "   survived  pclass     sex   age  ...  embark_town  alive  alone num_missing\n",
            "0         0       3    male  22.0  ...  Southampton     no  False           1\n",
            "1         1       1  female  38.0  ...    Cherbourg    yes  False           0\n",
            "2         1       3  female  26.0  ...  Southampton    yes   True           1\n",
            "3         1       1  female  35.0  ...  Southampton    yes  False           0\n",
            "4         0       3    male  35.0  ...  Southampton     no   True           1\n",
            "\n",
            "[5 rows x 16 columns]\n"
          ],
          "name": "stdout"
        }
      ]
    },
    {
      "cell_type": "code",
      "metadata": {
        "colab": {
          "base_uri": "https://localhost:8080/"
        },
        "id": "zOVEFiLM82Rs",
        "outputId": "67bd0f5c-e7e0-44c2-eb27-823309f4c4e3"
      },
      "source": [
        "# 누락값이 1개 이상인 데이터 추출\n",
        "print(titanic.loc[titanic.num_missing > 0, :].sample(10))"
      ],
      "execution_count": 47,
      "outputs": [
        {
          "output_type": "stream",
          "text": [
            "     survived  pclass     sex   age  ...  embark_town  alive  alone num_missing\n",
            "771         0       3    male  48.0  ...  Southampton     no   True           1\n",
            "408         0       3    male  21.0  ...  Southampton     no   True           1\n",
            "190         1       2  female  32.0  ...  Southampton    yes   True           1\n",
            "474         0       3  female  22.0  ...  Southampton     no   True           1\n",
            "444         1       3    male   NaN  ...  Southampton    yes   True           2\n",
            "167         0       3  female  45.0  ...  Southampton     no  False           1\n",
            "633         0       1    male   NaN  ...  Southampton     no   True           2\n",
            "24          0       3  female   8.0  ...  Southampton     no  False           1\n",
            "168         0       1    male   NaN  ...  Southampton     no   True           2\n",
            "344         0       2    male  36.0  ...  Southampton     no   True           1\n",
            "\n",
            "[10 rows x 16 columns]\n"
          ],
          "name": "stdout"
        }
      ]
    }
  ]
}