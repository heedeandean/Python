{
  "nbformat": 4,
  "nbformat_minor": 0,
  "metadata": {
    "colab": {
      "provenance": [],
      "authorship_tag": "ABX9TyMHKW4VuFieve4B86ANoAvJ"
    },
    "kernelspec": {
      "name": "python3",
      "display_name": "Python 3"
    },
    "language_info": {
      "name": "python"
    }
  },
  "cells": [
    {
      "cell_type": "code",
      "execution_count": 19,
      "metadata": {
        "colab": {
          "base_uri": "https://localhost:8080/"
        },
        "id": "FpyyT3RRVnPi",
        "outputId": "531844af-c6ef-4191-b93f-384e5dbd8699"
      },
      "outputs": [
        {
          "output_type": "execute_result",
          "data": {
            "text/plain": [
              "[1, 2, 4]"
            ]
          },
          "metadata": {},
          "execution_count": 19
        }
      ],
      "source": [
        "# 리스트 컴프리헨션 : []안에 조건문, 반복문 \n",
        "a = [1, 2, 3, 4, 5, 5, 5]\n",
        "remove_set = {3, 5}\n",
        "\n",
        "[i for i in a if i not in remove_set] "
      ]
    },
    {
      "cell_type": "code",
      "source": [
        "# 문제. 0~19 수 중 홀수만 포함하는 리스트\n",
        "[i for i in range(20) if i % 2 == 1]"
      ],
      "metadata": {
        "colab": {
          "base_uri": "https://localhost:8080/"
        },
        "id": "QYKKE8wodVfE",
        "outputId": "22a51b61-5796-45f4-cfbb-0517e79cd591"
      },
      "execution_count": 20,
      "outputs": [
        {
          "output_type": "execute_result",
          "data": {
            "text/plain": [
              "[1, 3, 5, 7, 9, 11, 13, 15, 17, 19]"
            ]
          },
          "metadata": {},
          "execution_count": 20
        }
      ]
    },
    {
      "cell_type": "code",
      "source": [
        "# 조건문\n",
        "score = 85\n",
        "'Sucess' if score >= 80 else 'Fail'"
      ],
      "metadata": {
        "colab": {
          "base_uri": "https://localhost:8080/",
          "height": 36
        },
        "id": "qtjRzhhNXxTF",
        "outputId": "990d6fda-1477-4c8c-bdce-4272d8f5b642"
      },
      "execution_count": 21,
      "outputs": [
        {
          "output_type": "execute_result",
          "data": {
            "text/plain": [
              "'Sucess'"
            ],
            "application/vnd.google.colaboratory.intrinsic+json": {
              "type": "string"
            }
          },
          "metadata": {},
          "execution_count": 21
        }
      ]
    },
    {
      "cell_type": "code",
      "source": [
        "# Lambda Express\n",
        "print((lambda a,b: a+b)(2, 3)) "
      ],
      "metadata": {
        "colab": {
          "base_uri": "https://localhost:8080/"
        },
        "id": "W9a2dhrIZiXL",
        "outputId": "bd15c1d1-5619-4822-fc7c-625deb55e5ef"
      },
      "execution_count": 22,
      "outputs": [
        {
          "output_type": "stream",
          "name": "stdout",
          "text": [
            "5\n"
          ]
        }
      ]
    },
    {
      "cell_type": "code",
      "source": [
        "# 문제. 튜플의 두번째 원소를 기준으로 내림차순 정렬\n",
        "sorted([('a', 35), ('b', 75), ('c', 50)], reverse=True, key=lambda x: x[1])"
      ],
      "metadata": {
        "colab": {
          "base_uri": "https://localhost:8080/"
        },
        "id": "9lNA7lpReZQe",
        "outputId": "677e07dd-0333-45a1-988d-ad100a289b72"
      },
      "execution_count": 23,
      "outputs": [
        {
          "output_type": "execute_result",
          "data": {
            "text/plain": [
              "[('b', 75), ('c', 50), ('a', 35)]"
            ]
          },
          "metadata": {},
          "execution_count": 23
        }
      ]
    },
    {
      "cell_type": "code",
      "source": [
        "data = ['A', 'B', 'C']\n",
        "\n",
        "from itertools import permutations # 순서 O\n",
        "list(permutations(data, 3)) "
      ],
      "metadata": {
        "colab": {
          "base_uri": "https://localhost:8080/"
        },
        "id": "vCcI_dFm3MJr",
        "outputId": "5e39fb3b-2380-4639-fb6e-75d97281d547"
      },
      "execution_count": 24,
      "outputs": [
        {
          "output_type": "execute_result",
          "data": {
            "text/plain": [
              "[('A', 'B', 'C'),\n",
              " ('A', 'C', 'B'),\n",
              " ('B', 'A', 'C'),\n",
              " ('B', 'C', 'A'),\n",
              " ('C', 'A', 'B'),\n",
              " ('C', 'B', 'A')]"
            ]
          },
          "metadata": {},
          "execution_count": 24
        }
      ]
    },
    {
      "cell_type": "code",
      "source": [
        "from itertools import combinations # 순서 X\n",
        "list(combinations(data, 2)) "
      ],
      "metadata": {
        "colab": {
          "base_uri": "https://localhost:8080/"
        },
        "id": "QGMqm7Rv3ZHb",
        "outputId": "36dd3637-9bfb-44ec-b876-2e97248b9b1a"
      },
      "execution_count": 25,
      "outputs": [
        {
          "output_type": "execute_result",
          "data": {
            "text/plain": [
              "[('A', 'B'), ('A', 'C'), ('B', 'C')]"
            ]
          },
          "metadata": {},
          "execution_count": 25
        }
      ]
    },
    {
      "cell_type": "code",
      "source": [
        "from itertools import product # 순서 O\n",
        "list(product(data, repeat=2))"
      ],
      "metadata": {
        "colab": {
          "base_uri": "https://localhost:8080/"
        },
        "id": "cUB1Kt6g3-TS",
        "outputId": "eb099a6d-9d78-4a48-9997-b4c9c0b8d0ac"
      },
      "execution_count": 27,
      "outputs": [
        {
          "output_type": "execute_result",
          "data": {
            "text/plain": [
              "[('A', 'A'),\n",
              " ('A', 'B'),\n",
              " ('A', 'C'),\n",
              " ('B', 'A'),\n",
              " ('B', 'B'),\n",
              " ('B', 'C'),\n",
              " ('C', 'A'),\n",
              " ('C', 'B'),\n",
              " ('C', 'C')]"
            ]
          },
          "metadata": {},
          "execution_count": 27
        }
      ]
    },
    {
      "cell_type": "code",
      "source": [
        "from itertools import combinations_with_replacement # 순서 X\n",
        "list(combinations_with_replacement(data, 2))"
      ],
      "metadata": {
        "colab": {
          "base_uri": "https://localhost:8080/"
        },
        "id": "xucoS9If4uXi",
        "outputId": "d02671cc-e37a-4130-c9de-dd735ee910f9"
      },
      "execution_count": 29,
      "outputs": [
        {
          "output_type": "execute_result",
          "data": {
            "text/plain": [
              "[('A', 'A'), ('A', 'B'), ('A', 'C'), ('B', 'B'), ('B', 'C'), ('C', 'C')]"
            ]
          },
          "metadata": {},
          "execution_count": 29
        }
      ]
    },
    {
      "cell_type": "code",
      "source": [
        "from bisect import bisect_left, bisect_right\n",
        "\n",
        "a = [1, 2, 4, 4, 8]\n",
        "x = 4\n",
        "\n",
        "# a에 x를 삽입할 인덱스 반환\n",
        "print(bisect_left(a, x))\n",
        "print(bisect_right(a, x))"
      ],
      "metadata": {
        "colab": {
          "base_uri": "https://localhost:8080/"
        },
        "id": "L59U_gKC4-U2",
        "outputId": "afbccfbc-399a-43cd-eb26-4f8e0bad1681"
      },
      "execution_count": 31,
      "outputs": [
        {
          "output_type": "stream",
          "name": "stdout",
          "text": [
            "2\n",
            "4\n"
          ]
        }
      ]
    },
    {
      "cell_type": "code",
      "source": [
        "# 시간 복잡도 (list)\n",
        "# 맨 앞 원소 추가 및 제거 : O(N)\n",
        "# 맨 뒤 원소 추가 및 제거 : O(1)\n",
        "\n",
        "# 시간 복잡도 (deque) : 언제나 O(1)\n",
        "from collections import deque # 스택, 큐 구현 가능\n",
        "data = deque([2, 3, 4])\n",
        "data.appendleft(1)\n",
        "data.append(5)\n",
        "data.pop()\n",
        "\n",
        "data"
      ],
      "metadata": {
        "colab": {
          "base_uri": "https://localhost:8080/"
        },
        "id": "-gRfGQ0W6XH_",
        "outputId": "1092e0bf-ceb7-4c6a-c6f6-81642b71f2ce"
      },
      "execution_count": 35,
      "outputs": [
        {
          "output_type": "execute_result",
          "data": {
            "text/plain": [
              "deque([1, 2, 3, 4])"
            ]
          },
          "metadata": {},
          "execution_count": 35
        }
      ]
    },
    {
      "cell_type": "code",
      "source": [
        "from collections import Counter\n",
        "counter = Counter([1, 2, 2, 3, 3, 3])\n",
        "\n",
        "print(counter[3])\n",
        "print(counter[1])\n",
        "print(dict(counter))"
      ],
      "metadata": {
        "colab": {
          "base_uri": "https://localhost:8080/"
        },
        "id": "rDQiXtWj8CQL",
        "outputId": "15274024-93d3-4e57-c077-3dbf5f3bded5"
      },
      "execution_count": 38,
      "outputs": [
        {
          "output_type": "stream",
          "name": "stdout",
          "text": [
            "3\n",
            "1\n",
            "{1: 1, 2: 2, 3: 3}\n"
          ]
        }
      ]
    },
    {
      "cell_type": "code",
      "source": [
        "import math\n",
        "math.gcd(21, 14) # 최대 공약수"
      ],
      "metadata": {
        "colab": {
          "base_uri": "https://localhost:8080/"
        },
        "id": "_bzECHm_8csv",
        "outputId": "7d16b2eb-eb4e-4dd2-de15-f5bcb15496ad"
      },
      "execution_count": 39,
      "outputs": [
        {
          "output_type": "execute_result",
          "data": {
            "text/plain": [
              "7"
            ]
          },
          "metadata": {},
          "execution_count": 39
        }
      ]
    }
  ]
}