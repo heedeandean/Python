{
  "cells": [
    {
      "cell_type": "markdown",
      "source": [
        "# Greedy 알고리즘 : 현재 당장 좋은 것만 고름."
      ],
      "metadata": {
        "id": "OQsR1biIPHfF"
      }
    },
    {
      "cell_type": "markdown",
      "source": [
        "## 문제1. 거스름돈\n",
        "*   화폐 단위 : 500, 100, 50, 10원\n",
        "*   N : 거스름돈(항상 10의 배수)\n",
        "*   거스름돈의 동전의 최소 개수를 구해라."
      ],
      "metadata": {
        "id": "uszOtGCIP2os"
      }
    },
    {
      "cell_type": "code",
      "source": [
        "change = int(input())\n",
        "coin_types = [500, 100, 50, 10]\n",
        "\n",
        "cnt = 0\n",
        "for coin in coin_types:\n",
        "   cnt += change // coin\n",
        "   change %= coin\n",
        "\n",
        "   if change == 0:\n",
        "     break\n",
        "\n",
        "print(cnt)"
      ],
      "metadata": {
        "colab": {
          "base_uri": "https://localhost:8080/"
        },
        "id": "u_p5UJDVRch8",
        "outputId": "42884290-5e0e-4c2b-b476-a60504ba3e57"
      },
      "execution_count": null,
      "outputs": [
        {
          "output_type": "stream",
          "name": "stdout",
          "text": [
            "1260\n",
            "6\n"
          ]
        }
      ]
    },
    {
      "cell_type": "markdown",
      "source": [
        "## 문제2. 큰 수의 법칙\n",
        "\n",
        "#### 입력 변수 설명\n",
        "*   n : 두번째로 입력 받는 배열 길이\n",
        "*   m : 더할 수 있는 총 숫자 개수\n",
        "*   k : 한 숫자를 연속해서 더할 수 있는 개수\n",
        "\n",
        "### 입력 순서\n",
        "1. n m k  \n",
        "2. num num num ... "
      ],
      "metadata": {
        "id": "WiPIpd9bHPef"
      }
    },
    {
      "cell_type": "code",
      "source": [
        "# 정답\n",
        "# 1안\n",
        "n, m, k = map(int, input().split())\n",
        "data = list(map(int, input().split()))\n",
        "\n",
        "data.sort()\n",
        "first = data[-1] # 가장 큰 수\n",
        "second = data[-2] # 두 번째로 큰 수\n",
        "result = 0\n",
        "\n",
        "while True:\n",
        "  for i in range(k):\n",
        "    if m == 0:\n",
        "      break\n",
        "    result += first\n",
        "    m -= 1\n",
        "  if m == 0:\n",
        "    break\n",
        "  result += second\n",
        "  m -= 1\n",
        "\n",
        "print(result)"
      ],
      "metadata": {
        "colab": {
          "base_uri": "https://localhost:8080/"
        },
        "id": "POhoqlWAIg4q",
        "outputId": "cbcb6231-e8ae-4c6f-c0a5-39396d10126d"
      },
      "execution_count": null,
      "outputs": [
        {
          "output_type": "stream",
          "name": "stdout",
          "text": [
            "5 8 3\n",
            "2 4 5 4 6\n",
            "46\n"
          ]
        }
      ]
    },
    {
      "cell_type": "code",
      "source": [
        "# 2안 - Good\n",
        "n, m, k = map(int, input().split())\n",
        "data = list(map(int, input().split()))\n",
        "\n",
        "data.sort()\n",
        "first = data[-1] # 가장 큰 수\n",
        "second = data[-2] # 두 번째로 큰 수\n",
        "\n",
        "count = (m // (k+1) * k) + (m % (k+1)) # 가장 큰 수 횟수\n",
        "\n",
        "result = (count) * first \n",
        "result += (m - count) * second\n",
        "\n",
        "print(result)"
      ],
      "metadata": {
        "colab": {
          "base_uri": "https://localhost:8080/"
        },
        "id": "OcbDuDVEHQSl",
        "outputId": "785bab16-2db7-4f82-d401-96875807d153"
      },
      "execution_count": null,
      "outputs": [
        {
          "output_type": "stream",
          "name": "stdout",
          "text": [
            "5 8 3\n",
            "2 4 5 4 6\n",
            "46\n"
          ]
        }
      ]
    },
    {
      "cell_type": "markdown",
      "source": [
        "## 문제3. 숫자 카드 게임\n",
        "*   선택된 행에서 가장 숫자가 낮은 카드를 뽑아야함. => 각 행마다 가장 작은 수 중에서 가장 큰 수 찾기\n",
        "\n",
        "### 입력 순서\n",
        "1. n m   \n",
        "2. n X m "
      ],
      "metadata": {
        "id": "wOBeQZbkD--6"
      }
    },
    {
      "cell_type": "code",
      "source": [
        "n, m = map(int, input().split())\n",
        "\n",
        "result = 0\n",
        "for _ in range(n):\n",
        "  data = list(map(int, input().split()))\n",
        "  min_value = min(data)\n",
        "  result = max(result, min_value)\n",
        "\n",
        "print(result)"
      ],
      "metadata": {
        "colab": {
          "base_uri": "https://localhost:8080/"
        },
        "id": "XErQhctetY0W",
        "outputId": "07a6bfda-4074-4564-cc98-bdb038986099"
      },
      "execution_count": 9,
      "outputs": [
        {
          "output_type": "stream",
          "name": "stdout",
          "text": [
            "2 4 \n",
            "7 3 1 8 \n",
            "3 3 3 4\n",
            "3\n"
          ]
        }
      ]
    },
    {
      "cell_type": "markdown",
      "source": [
        "## 문제4. 1이 될 때까지\n",
        "1.   n = n - 1\n",
        "2.   n = n // k\n",
        "\n",
        "=> n이 1이 될때까지 1, 2 반복. 최소 횟수 구하기\n",
        "\n",
        "### 입력 순서\n",
        "1. n k   "
      ],
      "metadata": {
        "id": "JKycQuyQKBZf"
      }
    },
    {
      "cell_type": "code",
      "source": [
        "n, k = map(int, input().split())\n",
        "\n",
        "cnt = 0\n",
        "while n > 1:\n",
        "  if n % k == 0:\n",
        "    n = n // k \n",
        "    cnt += 1\n",
        "  else:\n",
        "    n -= 1\n",
        "    cnt += 1\n",
        "\n",
        "print(cnt)"
      ],
      "metadata": {
        "colab": {
          "base_uri": "https://localhost:8080/"
        },
        "id": "mERY6V5XKGxj",
        "outputId": "51939fee-1491-4705-8322-357f1f56f177"
      },
      "execution_count": 16,
      "outputs": [
        {
          "output_type": "stream",
          "name": "stdout",
          "text": [
            "27 3\n",
            "3\n"
          ]
        }
      ]
    }
  ],
  "metadata": {
    "colab": {
      "provenance": [],
      "authorship_tag": "ABX9TyO6DpFIiRWtEPJsz4g5phSO"
    },
    "kernelspec": {
      "display_name": "Python 3",
      "name": "python3"
    },
    "language_info": {
      "name": "python"
    }
  },
  "nbformat": 4,
  "nbformat_minor": 0
}