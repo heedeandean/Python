{
  "cells": [
    {
      "cell_type": "markdown",
      "source": [
        "# 구현"
      ],
      "metadata": {
        "id": "OQsR1biIPHfF"
      }
    },
    {
      "cell_type": "markdown",
      "source": [
        "##✎ 문제1. 상하좌우\n",
        "*  n X n 정사각형에 계획서가 주어졌을때 최종적으로 도착할 좌표를 출력.\n",
        "*  시작 좌표 (1, 1)\n",
        "*  정사각형을 벗어난 움직임은 무시.\n",
        "\n",
        "### 입력 순서\n",
        "1. n   \n",
        "2. 계획서\n",
        "*   L : 왼쪽 한 칸 이동\n",
        "*   R : 오른쪽 한 칸 이동\n",
        "*   U : 위로 한 칸 이동\n",
        "*   D : 아래로 한 칸 이동"
      ],
      "metadata": {
        "id": "WiPIpd9bHPef"
      }
    },
    {
      "cell_type": "code",
      "source": [
        "n = int(input())\n",
        "plans = input().split()\n",
        "x, y = 1, 1\n",
        "\n",
        "for plan in plans:\n",
        "  if plan == 'L' and y > 1:\n",
        "    y -= 1\n",
        "  elif plan == 'R' and y < n:\n",
        "    y += 1\n",
        "  elif plan == 'U' and x > 1:\n",
        "    x -= 1\n",
        "  elif plan == 'D' and x < n:\n",
        "    x += 1\n",
        "\n",
        "print(x, y)"
      ],
      "metadata": {
        "colab": {
          "base_uri": "https://localhost:8080/"
        },
        "id": "u_p5UJDVRch8",
        "outputId": "53693c2a-0644-413f-9290-36e1cae83267"
      },
      "execution_count": null,
      "outputs": [
        {
          "output_type": "stream",
          "name": "stdout",
          "text": [
            "5\n",
            "R R R U D D\n",
            "3 4\n"
          ]
        }
      ]
    },
    {
      "cell_type": "markdown",
      "source": [
        "##✎ 문제2. 시각\n",
        "*  00시 00분 00초 ~ h시 59분 59초에서 3이 포함되는 모든 경우의 수를 구하라.\n",
        "\n",
        "### 입력 순서\n",
        "1. h   "
      ],
      "metadata": {
        "id": "wqT3ZwVfc5VA"
      }
    },
    {
      "cell_type": "code",
      "source": [
        "h = int(input())\n",
        "\n",
        "cnt = 0\n",
        "for i in range(h+1):\n",
        "  for j in range(60):\n",
        "    for k in range(60):\n",
        "      if '3' in str(i) + str(j) + str(k):\n",
        "        cnt += 1\n",
        "\n",
        "print(cnt)"
      ],
      "metadata": {
        "colab": {
          "base_uri": "https://localhost:8080/"
        },
        "id": "UVSbVcRSYdHn",
        "outputId": "4e1ae2a2-a5c6-454d-ee0f-3a1b61fb1257"
      },
      "execution_count": null,
      "outputs": [
        {
          "output_type": "stream",
          "name": "stdout",
          "text": [
            "5\n",
            "11475\n"
          ]
        }
      ]
    },
    {
      "cell_type": "markdown",
      "source": [
        "##✎ 문제3. 왕실의 나이트\n",
        "*  이동할 수 있는 경우의 수 출력.\n",
        "*  8 X 8\n",
        "*  밖으로는 나갈 수 없다.\n",
        "*  이동 조건\n",
        "    1. 수평 두칸 이동 -> 수직 한 칸 이동\n",
        "    2. 수직 두칸 이동 -> 수평 한 칸 이동 \n",
        "*  열 : a ~ h\n",
        "*  행 : 1 ~ 8\n",
        "   \n",
        "### 입력 순서\n",
        "1. 열행 : 문자열 "
      ],
      "metadata": {
        "id": "0HuKPE5CokIo"
      }
    },
    {
      "cell_type": "code",
      "source": [
        "input_data = input()\n",
        "row = int(input_data[1])\n",
        "column = int(ord(input_data[0])) - int(ord('a')) + 1\n",
        "\n",
        "steps = [(2, 1), (2, -1), (-2, 1), (-2, -1), (1, 2), (-1, 2), (1, -2), (-1, -2)]\n",
        "\n",
        "cnt = 0\n",
        "for r, c in steps:\n",
        "  next_row = row + r\n",
        "  next_column = column + c\n",
        "  if next_row >= 1 and next_row <= 8 and next_column >= 1 and next_column <= 8:\n",
        "      cnt += 1 \n",
        "print(cnt)"
      ],
      "metadata": {
        "colab": {
          "base_uri": "https://localhost:8080/"
        },
        "id": "dkEIQ3rDoowf",
        "outputId": "782e3066-b285-4da3-c85f-1a68f0c0b2c9"
      },
      "execution_count": null,
      "outputs": [
        {
          "output_type": "stream",
          "name": "stdout",
          "text": [
            "c2\n",
            "6\n"
          ]
        }
      ]
    },
    {
      "cell_type": "markdown",
      "source": [
        "##✎ 문제4. 게임 개발\n",
        "*  캐릭터가 방문한 칸의 수 출력.\n",
        "*  n X m\n",
        "*  상하좌우로 이동.\n",
        "*  바다로 이동 불가.\n",
        "*  맵의 외곽은 항상 바다.\n",
        "*  이동 메뉴얼 (1, 2 반복)\n",
        "  1. 현재 방향에서 반시계 방향(왼쪽)으로 회전 하며 가보지 않은 칸이고, 육지면 이동.\n",
        "  2. 모든 방향 모두 가본 칸이면 뒤로 한 칸 이동.(단, 뒤쪽 방향이 바다이면 중단.) \n",
        "   \n",
        "### 입력 순서\n",
        "1. n m \n",
        "  - n : 세로\n",
        "  - m : 가로\n",
        "2. x y direction\n",
        "  - x y : 캐릭터 위치 : 항상 육지.\n",
        "  - direction : 현재 방향\n",
        "    - 0 : 북쪽\n",
        "    - 1 : 동쪽\n",
        "    - 2 : 남쪽\n",
        "    - 3 : 서쪽\n",
        "3. 맵의 상태\n",
        "  - 0 : 육지\n",
        "  - 1 : 바다"
      ],
      "metadata": {
        "id": "kcKROFhpaiuF"
      }
    },
    {
      "cell_type": "code",
      "source": [
        "n, m = map(int, input().split())\n",
        "x, y, direction = map(int, input().split())\n",
        "array = []\n",
        "for i in range(n):\n",
        "  array.append(list(map(int, input().split())))\n",
        "# array = [[1, 1, 1, 1], [1, 0, 0, 1], [1, 1, 0, 1], [1, 1, 1, 1]]\n",
        "\n",
        "# 방문한 위치를 표기하기 위해 초기화\n",
        "d = [[0] * m for _ in range(n)]\n",
        "# print(d)\n",
        "\n",
        "d[x][y] = 1\n",
        "# print(d)\n",
        "\n",
        "# 북, 동, 남, 서\n",
        "dx = [-1, 0, 1, 0]\n",
        "dy = [0, 1, 0, -1]\n",
        "\n",
        "def turn_left():\n",
        "  global direction\n",
        "  direction -= 1\n",
        "  if direction == -1:\n",
        "    direction = 3\n",
        "\n",
        "cnt = 1 \n",
        "turn_time = 0\n",
        "while True:\n",
        "  turn_left()\n",
        "  nx = x + dx[direction]\n",
        "  ny = y + dy[direction]\n",
        "\n",
        "  if d[nx][ny] == 0 and array[nx][ny] == 0:\n",
        "    d[nx][ny] = 1\n",
        "    x = nx\n",
        "    y = ny\n",
        "    cnt += 1\n",
        "    turn_time = 0\n",
        "    continue\n",
        "  else:\n",
        "    turn_time += 1\n",
        "\n",
        "  if turn_time == 4:\n",
        "    nx = x - dx[direction]\n",
        "    ny = y - dy[direction]\n",
        "    if array[nx][ny] == 0:\n",
        "      x = nx\n",
        "      y = ny\n",
        "      turn_time = 0\n",
        "    else:\n",
        "      break\n",
        "\n",
        "print(cnt)"
      ],
      "metadata": {
        "colab": {
          "base_uri": "https://localhost:8080/"
        },
        "id": "c-RYjB9AaOn0",
        "outputId": "e864eb46-00d7-4964-a952-400578bc12f6"
      },
      "execution_count": 20,
      "outputs": [
        {
          "output_type": "stream",
          "name": "stdout",
          "text": [
            "4 4\n",
            "1 1 0\n",
            "1 1 1 1\n",
            "1 0 0 1\n",
            "1 1 0 1\n",
            "1 1 1 1\n",
            "3\n"
          ]
        }
      ]
    }
  ],
  "metadata": {
    "colab": {
      "provenance": [],
      "authorship_tag": "ABX9TyMg3k0Sjb3lVggQYZ0L+AIg"
    },
    "kernelspec": {
      "display_name": "Python 3",
      "name": "python3"
    },
    "language_info": {
      "name": "python"
    }
  },
  "nbformat": 4,
  "nbformat_minor": 0
}