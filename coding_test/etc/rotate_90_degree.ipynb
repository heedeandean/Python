{
  "nbformat": 4,
  "nbformat_minor": 0,
  "metadata": {
    "colab": {
      "provenance": [],
      "authorship_tag": "ABX9TyMahXO43Ivr7T2dAlA1uE6L"
    },
    "kernelspec": {
      "name": "python3",
      "display_name": "Python 3"
    },
    "language_info": {
      "name": "python"
    }
  },
  "cells": [
    {
      "cell_type": "code",
      "source": [
        "# 문제. 2차원 리스트(행렬)를 90도 회전시키는 함수\n",
        "a = [\n",
        "    [1, 2, 3, 4],\n",
        "    [5, 6, 7, 8],\n",
        "    [9, 10, 11, 12]\n",
        "]\n",
        "\n",
        "def rotate_90_degree(a):\n",
        "  row_length = len(a)\n",
        "  column_length = len(a[0])\n",
        "\n",
        "  res = [[0] * row_length for _ in range(column_length)]\n",
        "  for c in range(column_length):\n",
        "    for r in range(row_length):\n",
        "      res[c][r] = a[row_length-1-r][c]\n",
        "  return res\n",
        "\n",
        "rotate_90_degree(a)"
      ],
      "metadata": {
        "id": "2iOwGywy9rad",
        "colab": {
          "base_uri": "https://localhost:8080/"
        },
        "outputId": "547796e1-e364-468b-c571-cfce6244db90"
      },
      "execution_count": 16,
      "outputs": [
        {
          "output_type": "execute_result",
          "data": {
            "text/plain": [
              "[[9, 5, 1], [10, 6, 2], [11, 7, 3], [12, 8, 4]]"
            ]
          },
          "metadata": {},
          "execution_count": 16
        }
      ]
    }
  ]
}